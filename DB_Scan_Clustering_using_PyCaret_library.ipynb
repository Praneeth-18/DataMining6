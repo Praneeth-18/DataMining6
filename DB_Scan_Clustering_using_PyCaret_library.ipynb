{
  "nbformat": 4,
  "nbformat_minor": 0,
  "metadata": {
    "colab": {
      "provenance": [],
      "authorship_tag": "ABX9TyP3uYTqSWDaVBgxg9QiE3wC",
      "include_colab_link": true
    },
    "kernelspec": {
      "name": "python3",
      "display_name": "Python 3"
    },
    "language_info": {
      "name": "python"
    },
    "widgets": {
      "application/vnd.jupyter.widget-state+json": {
        "ffecdbb4fcda4bad89537a647727d9f8": {
          "model_module": "@jupyter-widgets/controls",
          "model_name": "HBoxModel",
          "model_module_version": "1.5.0",
          "state": {
            "_dom_classes": [],
            "_model_module": "@jupyter-widgets/controls",
            "_model_module_version": "1.5.0",
            "_model_name": "HBoxModel",
            "_view_count": null,
            "_view_module": "@jupyter-widgets/controls",
            "_view_module_version": "1.5.0",
            "_view_name": "HBoxView",
            "box_style": "",
            "children": [
              "IPY_MODEL_2f0066bb8a0248f8b51754d4e424ce06",
              "IPY_MODEL_8d50e7d14253425daac676864b4b743a",
              "IPY_MODEL_be62e203d36b4749a0c413db38f0a173"
            ],
            "layout": "IPY_MODEL_e953ca84343b4201bddb488bafeed875"
          }
        },
        "2f0066bb8a0248f8b51754d4e424ce06": {
          "model_module": "@jupyter-widgets/controls",
          "model_name": "HTMLModel",
          "model_module_version": "1.5.0",
          "state": {
            "_dom_classes": [],
            "_model_module": "@jupyter-widgets/controls",
            "_model_module_version": "1.5.0",
            "_model_name": "HTMLModel",
            "_view_count": null,
            "_view_module": "@jupyter-widgets/controls",
            "_view_module_version": "1.5.0",
            "_view_name": "HTMLView",
            "description": "",
            "description_tooltip": null,
            "layout": "IPY_MODEL_6340e901c1ce450ab64b9afa3f8cc586",
            "placeholder": "​",
            "style": "IPY_MODEL_aeb5a66040814740aa1a1a640df202d5",
            "value": "Processing:   0%"
          }
        },
        "8d50e7d14253425daac676864b4b743a": {
          "model_module": "@jupyter-widgets/controls",
          "model_name": "FloatProgressModel",
          "model_module_version": "1.5.0",
          "state": {
            "_dom_classes": [],
            "_model_module": "@jupyter-widgets/controls",
            "_model_module_version": "1.5.0",
            "_model_name": "FloatProgressModel",
            "_view_count": null,
            "_view_module": "@jupyter-widgets/controls",
            "_view_module_version": "1.5.0",
            "_view_name": "ProgressView",
            "bar_style": "",
            "description": "",
            "description_tooltip": null,
            "layout": "IPY_MODEL_aa2b22bd8838471fbc9ed789e9d1e2d8",
            "max": 3,
            "min": 0,
            "orientation": "horizontal",
            "style": "IPY_MODEL_e6f658c07cad4956bcf7c30de4ea96cc",
            "value": 3
          }
        },
        "be62e203d36b4749a0c413db38f0a173": {
          "model_module": "@jupyter-widgets/controls",
          "model_name": "HTMLModel",
          "model_module_version": "1.5.0",
          "state": {
            "_dom_classes": [],
            "_model_module": "@jupyter-widgets/controls",
            "_model_module_version": "1.5.0",
            "_model_name": "HTMLModel",
            "_view_count": null,
            "_view_module": "@jupyter-widgets/controls",
            "_view_module_version": "1.5.0",
            "_view_name": "HTMLView",
            "description": "",
            "description_tooltip": null,
            "layout": "IPY_MODEL_3d66c34304c24fe09d2141fcd2ee1a5f",
            "placeholder": "​",
            "style": "IPY_MODEL_504ea5c1cba148afb0dacb2aafe31b88",
            "value": " 0/3 [00:00&lt;?, ?it/s]"
          }
        },
        "e953ca84343b4201bddb488bafeed875": {
          "model_module": "@jupyter-widgets/base",
          "model_name": "LayoutModel",
          "model_module_version": "1.2.0",
          "state": {
            "_model_module": "@jupyter-widgets/base",
            "_model_module_version": "1.2.0",
            "_model_name": "LayoutModel",
            "_view_count": null,
            "_view_module": "@jupyter-widgets/base",
            "_view_module_version": "1.2.0",
            "_view_name": "LayoutView",
            "align_content": null,
            "align_items": null,
            "align_self": null,
            "border": null,
            "bottom": null,
            "display": null,
            "flex": null,
            "flex_flow": null,
            "grid_area": null,
            "grid_auto_columns": null,
            "grid_auto_flow": null,
            "grid_auto_rows": null,
            "grid_column": null,
            "grid_gap": null,
            "grid_row": null,
            "grid_template_areas": null,
            "grid_template_columns": null,
            "grid_template_rows": null,
            "height": null,
            "justify_content": null,
            "justify_items": null,
            "left": null,
            "margin": null,
            "max_height": null,
            "max_width": null,
            "min_height": null,
            "min_width": null,
            "object_fit": null,
            "object_position": null,
            "order": null,
            "overflow": null,
            "overflow_x": null,
            "overflow_y": null,
            "padding": null,
            "right": null,
            "top": null,
            "visibility": "hidden",
            "width": null
          }
        },
        "6340e901c1ce450ab64b9afa3f8cc586": {
          "model_module": "@jupyter-widgets/base",
          "model_name": "LayoutModel",
          "model_module_version": "1.2.0",
          "state": {
            "_model_module": "@jupyter-widgets/base",
            "_model_module_version": "1.2.0",
            "_model_name": "LayoutModel",
            "_view_count": null,
            "_view_module": "@jupyter-widgets/base",
            "_view_module_version": "1.2.0",
            "_view_name": "LayoutView",
            "align_content": null,
            "align_items": null,
            "align_self": null,
            "border": null,
            "bottom": null,
            "display": null,
            "flex": null,
            "flex_flow": null,
            "grid_area": null,
            "grid_auto_columns": null,
            "grid_auto_flow": null,
            "grid_auto_rows": null,
            "grid_column": null,
            "grid_gap": null,
            "grid_row": null,
            "grid_template_areas": null,
            "grid_template_columns": null,
            "grid_template_rows": null,
            "height": null,
            "justify_content": null,
            "justify_items": null,
            "left": null,
            "margin": null,
            "max_height": null,
            "max_width": null,
            "min_height": null,
            "min_width": null,
            "object_fit": null,
            "object_position": null,
            "order": null,
            "overflow": null,
            "overflow_x": null,
            "overflow_y": null,
            "padding": null,
            "right": null,
            "top": null,
            "visibility": null,
            "width": null
          }
        },
        "aeb5a66040814740aa1a1a640df202d5": {
          "model_module": "@jupyter-widgets/controls",
          "model_name": "DescriptionStyleModel",
          "model_module_version": "1.5.0",
          "state": {
            "_model_module": "@jupyter-widgets/controls",
            "_model_module_version": "1.5.0",
            "_model_name": "DescriptionStyleModel",
            "_view_count": null,
            "_view_module": "@jupyter-widgets/base",
            "_view_module_version": "1.2.0",
            "_view_name": "StyleView",
            "description_width": ""
          }
        },
        "aa2b22bd8838471fbc9ed789e9d1e2d8": {
          "model_module": "@jupyter-widgets/base",
          "model_name": "LayoutModel",
          "model_module_version": "1.2.0",
          "state": {
            "_model_module": "@jupyter-widgets/base",
            "_model_module_version": "1.2.0",
            "_model_name": "LayoutModel",
            "_view_count": null,
            "_view_module": "@jupyter-widgets/base",
            "_view_module_version": "1.2.0",
            "_view_name": "LayoutView",
            "align_content": null,
            "align_items": null,
            "align_self": null,
            "border": null,
            "bottom": null,
            "display": null,
            "flex": null,
            "flex_flow": null,
            "grid_area": null,
            "grid_auto_columns": null,
            "grid_auto_flow": null,
            "grid_auto_rows": null,
            "grid_column": null,
            "grid_gap": null,
            "grid_row": null,
            "grid_template_areas": null,
            "grid_template_columns": null,
            "grid_template_rows": null,
            "height": null,
            "justify_content": null,
            "justify_items": null,
            "left": null,
            "margin": null,
            "max_height": null,
            "max_width": null,
            "min_height": null,
            "min_width": null,
            "object_fit": null,
            "object_position": null,
            "order": null,
            "overflow": null,
            "overflow_x": null,
            "overflow_y": null,
            "padding": null,
            "right": null,
            "top": null,
            "visibility": null,
            "width": null
          }
        },
        "e6f658c07cad4956bcf7c30de4ea96cc": {
          "model_module": "@jupyter-widgets/controls",
          "model_name": "ProgressStyleModel",
          "model_module_version": "1.5.0",
          "state": {
            "_model_module": "@jupyter-widgets/controls",
            "_model_module_version": "1.5.0",
            "_model_name": "ProgressStyleModel",
            "_view_count": null,
            "_view_module": "@jupyter-widgets/base",
            "_view_module_version": "1.2.0",
            "_view_name": "StyleView",
            "bar_color": null,
            "description_width": ""
          }
        },
        "3d66c34304c24fe09d2141fcd2ee1a5f": {
          "model_module": "@jupyter-widgets/base",
          "model_name": "LayoutModel",
          "model_module_version": "1.2.0",
          "state": {
            "_model_module": "@jupyter-widgets/base",
            "_model_module_version": "1.2.0",
            "_model_name": "LayoutModel",
            "_view_count": null,
            "_view_module": "@jupyter-widgets/base",
            "_view_module_version": "1.2.0",
            "_view_name": "LayoutView",
            "align_content": null,
            "align_items": null,
            "align_self": null,
            "border": null,
            "bottom": null,
            "display": null,
            "flex": null,
            "flex_flow": null,
            "grid_area": null,
            "grid_auto_columns": null,
            "grid_auto_flow": null,
            "grid_auto_rows": null,
            "grid_column": null,
            "grid_gap": null,
            "grid_row": null,
            "grid_template_areas": null,
            "grid_template_columns": null,
            "grid_template_rows": null,
            "height": null,
            "justify_content": null,
            "justify_items": null,
            "left": null,
            "margin": null,
            "max_height": null,
            "max_width": null,
            "min_height": null,
            "min_width": null,
            "object_fit": null,
            "object_position": null,
            "order": null,
            "overflow": null,
            "overflow_x": null,
            "overflow_y": null,
            "padding": null,
            "right": null,
            "top": null,
            "visibility": null,
            "width": null
          }
        },
        "504ea5c1cba148afb0dacb2aafe31b88": {
          "model_module": "@jupyter-widgets/controls",
          "model_name": "DescriptionStyleModel",
          "model_module_version": "1.5.0",
          "state": {
            "_model_module": "@jupyter-widgets/controls",
            "_model_module_version": "1.5.0",
            "_model_name": "DescriptionStyleModel",
            "_view_count": null,
            "_view_module": "@jupyter-widgets/base",
            "_view_module_version": "1.2.0",
            "_view_name": "StyleView",
            "description_width": ""
          }
        },
        "f9df633f64cf438482f65d83775e009f": {
          "model_module": "@jupyter-widgets/controls",
          "model_name": "VBoxModel",
          "model_module_version": "1.5.0",
          "state": {
            "_dom_classes": [
              "widget-interact"
            ],
            "_model_module": "@jupyter-widgets/controls",
            "_model_module_version": "1.5.0",
            "_model_name": "VBoxModel",
            "_view_count": null,
            "_view_module": "@jupyter-widgets/controls",
            "_view_module_version": "1.5.0",
            "_view_name": "VBoxView",
            "box_style": "",
            "children": [
              "IPY_MODEL_6e6ccccb67b8479f80d19c54781df7e1",
              "IPY_MODEL_8781623796a7436783e3f88a83d59156"
            ],
            "layout": "IPY_MODEL_9f720e034315439cb34c18a220da151c"
          }
        },
        "6e6ccccb67b8479f80d19c54781df7e1": {
          "model_module": "@jupyter-widgets/controls",
          "model_name": "ToggleButtonsModel",
          "model_module_version": "1.5.0",
          "state": {
            "_dom_classes": [],
            "_model_module": "@jupyter-widgets/controls",
            "_model_module_version": "1.5.0",
            "_model_name": "ToggleButtonsModel",
            "_options_labels": [
              "Pipeline Plot",
              "t-SNE (3d) Dimension Plot",
              "Cluster t-SNE (3d)",
              "Elbow Plot",
              "Silhouette Plot",
              "Distance Plot",
              "Distribution Plot"
            ],
            "_view_count": null,
            "_view_module": "@jupyter-widgets/controls",
            "_view_module_version": "1.5.0",
            "_view_name": "ToggleButtonsView",
            "button_style": "",
            "description": "Plot Type:",
            "description_tooltip": null,
            "disabled": false,
            "icons": [
              ""
            ],
            "index": 0,
            "layout": "IPY_MODEL_ea4a40bf47c7487782907dbca7eea774",
            "style": "IPY_MODEL_d11ad9c16b78450aa905061009121485",
            "tooltips": []
          }
        },
        "8781623796a7436783e3f88a83d59156": {
          "model_module": "@jupyter-widgets/output",
          "model_name": "OutputModel",
          "model_module_version": "1.0.0",
          "state": {
            "_dom_classes": [],
            "_model_module": "@jupyter-widgets/output",
            "_model_module_version": "1.0.0",
            "_model_name": "OutputModel",
            "_view_count": null,
            "_view_module": "@jupyter-widgets/output",
            "_view_module_version": "1.0.0",
            "_view_name": "OutputView",
            "layout": "IPY_MODEL_4d7890f8c0ce49a0b3be6cdcd2f32cb5",
            "msg_id": "",
            "outputs": [
              {
                "output_type": "display_data",
                "data": {
                  "text/plain": "<Figure size 1700x600 with 1 Axes>",
                  "image/png": "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\n"
                },
                "metadata": {}
              }
            ]
          }
        },
        "9f720e034315439cb34c18a220da151c": {
          "model_module": "@jupyter-widgets/base",
          "model_name": "LayoutModel",
          "model_module_version": "1.2.0",
          "state": {
            "_model_module": "@jupyter-widgets/base",
            "_model_module_version": "1.2.0",
            "_model_name": "LayoutModel",
            "_view_count": null,
            "_view_module": "@jupyter-widgets/base",
            "_view_module_version": "1.2.0",
            "_view_name": "LayoutView",
            "align_content": null,
            "align_items": null,
            "align_self": null,
            "border": null,
            "bottom": null,
            "display": null,
            "flex": null,
            "flex_flow": null,
            "grid_area": null,
            "grid_auto_columns": null,
            "grid_auto_flow": null,
            "grid_auto_rows": null,
            "grid_column": null,
            "grid_gap": null,
            "grid_row": null,
            "grid_template_areas": null,
            "grid_template_columns": null,
            "grid_template_rows": null,
            "height": null,
            "justify_content": null,
            "justify_items": null,
            "left": null,
            "margin": null,
            "max_height": null,
            "max_width": null,
            "min_height": null,
            "min_width": null,
            "object_fit": null,
            "object_position": null,
            "order": null,
            "overflow": null,
            "overflow_x": null,
            "overflow_y": null,
            "padding": null,
            "right": null,
            "top": null,
            "visibility": null,
            "width": null
          }
        },
        "ea4a40bf47c7487782907dbca7eea774": {
          "model_module": "@jupyter-widgets/base",
          "model_name": "LayoutModel",
          "model_module_version": "1.2.0",
          "state": {
            "_model_module": "@jupyter-widgets/base",
            "_model_module_version": "1.2.0",
            "_model_name": "LayoutModel",
            "_view_count": null,
            "_view_module": "@jupyter-widgets/base",
            "_view_module_version": "1.2.0",
            "_view_name": "LayoutView",
            "align_content": null,
            "align_items": null,
            "align_self": null,
            "border": null,
            "bottom": null,
            "display": null,
            "flex": null,
            "flex_flow": null,
            "grid_area": null,
            "grid_auto_columns": null,
            "grid_auto_flow": null,
            "grid_auto_rows": null,
            "grid_column": null,
            "grid_gap": null,
            "grid_row": null,
            "grid_template_areas": null,
            "grid_template_columns": null,
            "grid_template_rows": null,
            "height": null,
            "justify_content": null,
            "justify_items": null,
            "left": null,
            "margin": null,
            "max_height": null,
            "max_width": null,
            "min_height": null,
            "min_width": null,
            "object_fit": null,
            "object_position": null,
            "order": null,
            "overflow": null,
            "overflow_x": null,
            "overflow_y": null,
            "padding": null,
            "right": null,
            "top": null,
            "visibility": null,
            "width": null
          }
        },
        "d11ad9c16b78450aa905061009121485": {
          "model_module": "@jupyter-widgets/controls",
          "model_name": "ToggleButtonsStyleModel",
          "model_module_version": "1.5.0",
          "state": {
            "_model_module": "@jupyter-widgets/controls",
            "_model_module_version": "1.5.0",
            "_model_name": "ToggleButtonsStyleModel",
            "_view_count": null,
            "_view_module": "@jupyter-widgets/base",
            "_view_module_version": "1.2.0",
            "_view_name": "StyleView",
            "button_width": "",
            "description_width": "",
            "font_weight": ""
          }
        },
        "4d7890f8c0ce49a0b3be6cdcd2f32cb5": {
          "model_module": "@jupyter-widgets/base",
          "model_name": "LayoutModel",
          "model_module_version": "1.2.0",
          "state": {
            "_model_module": "@jupyter-widgets/base",
            "_model_module_version": "1.2.0",
            "_model_name": "LayoutModel",
            "_view_count": null,
            "_view_module": "@jupyter-widgets/base",
            "_view_module_version": "1.2.0",
            "_view_name": "LayoutView",
            "align_content": null,
            "align_items": null,
            "align_self": null,
            "border": null,
            "bottom": null,
            "display": null,
            "flex": null,
            "flex_flow": null,
            "grid_area": null,
            "grid_auto_columns": null,
            "grid_auto_flow": null,
            "grid_auto_rows": null,
            "grid_column": null,
            "grid_gap": null,
            "grid_row": null,
            "grid_template_areas": null,
            "grid_template_columns": null,
            "grid_template_rows": null,
            "height": null,
            "justify_content": null,
            "justify_items": null,
            "left": null,
            "margin": null,
            "max_height": null,
            "max_width": null,
            "min_height": null,
            "min_width": null,
            "object_fit": null,
            "object_position": null,
            "order": null,
            "overflow": null,
            "overflow_x": null,
            "overflow_y": null,
            "padding": null,
            "right": null,
            "top": null,
            "visibility": null,
            "width": null
          }
        },
        "1fb9fdf3fc1641d5b4ef2206fa98cc51": {
          "model_module": "@jupyter-widgets/controls",
          "model_name": "HBoxModel",
          "model_module_version": "1.5.0",
          "state": {
            "_dom_classes": [],
            "_model_module": "@jupyter-widgets/controls",
            "_model_module_version": "1.5.0",
            "_model_name": "HBoxModel",
            "_view_count": null,
            "_view_module": "@jupyter-widgets/controls",
            "_view_module_version": "1.5.0",
            "_view_name": "HBoxView",
            "box_style": "",
            "children": [
              "IPY_MODEL_2040a509cd3a426f83830c2151201823",
              "IPY_MODEL_19e9e1dfa85c425d970157c153451638",
              "IPY_MODEL_dbd5853b6e19448eba91fc0e27f57594"
            ],
            "layout": "IPY_MODEL_73aa7aa99e504377b432d4d7c4191059"
          }
        },
        "2040a509cd3a426f83830c2151201823": {
          "model_module": "@jupyter-widgets/controls",
          "model_name": "HTMLModel",
          "model_module_version": "1.5.0",
          "state": {
            "_dom_classes": [],
            "_model_module": "@jupyter-widgets/controls",
            "_model_module_version": "1.5.0",
            "_model_name": "HTMLModel",
            "_view_count": null,
            "_view_module": "@jupyter-widgets/controls",
            "_view_module_version": "1.5.0",
            "_view_name": "HTMLView",
            "description": "",
            "description_tooltip": null,
            "layout": "IPY_MODEL_12d82c0264f548f8bcb93115c2376660",
            "placeholder": "​",
            "style": "IPY_MODEL_db32148248c14c9ebd0df88ea41b43e4",
            "value": "Processing:   0%"
          }
        },
        "19e9e1dfa85c425d970157c153451638": {
          "model_module": "@jupyter-widgets/controls",
          "model_name": "FloatProgressModel",
          "model_module_version": "1.5.0",
          "state": {
            "_dom_classes": [],
            "_model_module": "@jupyter-widgets/controls",
            "_model_module_version": "1.5.0",
            "_model_name": "FloatProgressModel",
            "_view_count": null,
            "_view_module": "@jupyter-widgets/controls",
            "_view_module_version": "1.5.0",
            "_view_name": "ProgressView",
            "bar_style": "",
            "description": "",
            "description_tooltip": null,
            "layout": "IPY_MODEL_656c07daaafe44adae1bfefd43553e80",
            "max": 3,
            "min": 0,
            "orientation": "horizontal",
            "style": "IPY_MODEL_d0e5c7a215c244eb979de3da7663644d",
            "value": 3
          }
        },
        "dbd5853b6e19448eba91fc0e27f57594": {
          "model_module": "@jupyter-widgets/controls",
          "model_name": "HTMLModel",
          "model_module_version": "1.5.0",
          "state": {
            "_dom_classes": [],
            "_model_module": "@jupyter-widgets/controls",
            "_model_module_version": "1.5.0",
            "_model_name": "HTMLModel",
            "_view_count": null,
            "_view_module": "@jupyter-widgets/controls",
            "_view_module_version": "1.5.0",
            "_view_name": "HTMLView",
            "description": "",
            "description_tooltip": null,
            "layout": "IPY_MODEL_ab8ec5a334fa4b538aabbaaa741aa4f2",
            "placeholder": "​",
            "style": "IPY_MODEL_280b06bc6f4448169ef4e8afaf6e202b",
            "value": " 0/3 [00:00&lt;?, ?it/s]"
          }
        },
        "73aa7aa99e504377b432d4d7c4191059": {
          "model_module": "@jupyter-widgets/base",
          "model_name": "LayoutModel",
          "model_module_version": "1.2.0",
          "state": {
            "_model_module": "@jupyter-widgets/base",
            "_model_module_version": "1.2.0",
            "_model_name": "LayoutModel",
            "_view_count": null,
            "_view_module": "@jupyter-widgets/base",
            "_view_module_version": "1.2.0",
            "_view_name": "LayoutView",
            "align_content": null,
            "align_items": null,
            "align_self": null,
            "border": null,
            "bottom": null,
            "display": null,
            "flex": null,
            "flex_flow": null,
            "grid_area": null,
            "grid_auto_columns": null,
            "grid_auto_flow": null,
            "grid_auto_rows": null,
            "grid_column": null,
            "grid_gap": null,
            "grid_row": null,
            "grid_template_areas": null,
            "grid_template_columns": null,
            "grid_template_rows": null,
            "height": null,
            "justify_content": null,
            "justify_items": null,
            "left": null,
            "margin": null,
            "max_height": null,
            "max_width": null,
            "min_height": null,
            "min_width": null,
            "object_fit": null,
            "object_position": null,
            "order": null,
            "overflow": null,
            "overflow_x": null,
            "overflow_y": null,
            "padding": null,
            "right": null,
            "top": null,
            "visibility": "hidden",
            "width": null
          }
        },
        "12d82c0264f548f8bcb93115c2376660": {
          "model_module": "@jupyter-widgets/base",
          "model_name": "LayoutModel",
          "model_module_version": "1.2.0",
          "state": {
            "_model_module": "@jupyter-widgets/base",
            "_model_module_version": "1.2.0",
            "_model_name": "LayoutModel",
            "_view_count": null,
            "_view_module": "@jupyter-widgets/base",
            "_view_module_version": "1.2.0",
            "_view_name": "LayoutView",
            "align_content": null,
            "align_items": null,
            "align_self": null,
            "border": null,
            "bottom": null,
            "display": null,
            "flex": null,
            "flex_flow": null,
            "grid_area": null,
            "grid_auto_columns": null,
            "grid_auto_flow": null,
            "grid_auto_rows": null,
            "grid_column": null,
            "grid_gap": null,
            "grid_row": null,
            "grid_template_areas": null,
            "grid_template_columns": null,
            "grid_template_rows": null,
            "height": null,
            "justify_content": null,
            "justify_items": null,
            "left": null,
            "margin": null,
            "max_height": null,
            "max_width": null,
            "min_height": null,
            "min_width": null,
            "object_fit": null,
            "object_position": null,
            "order": null,
            "overflow": null,
            "overflow_x": null,
            "overflow_y": null,
            "padding": null,
            "right": null,
            "top": null,
            "visibility": null,
            "width": null
          }
        },
        "db32148248c14c9ebd0df88ea41b43e4": {
          "model_module": "@jupyter-widgets/controls",
          "model_name": "DescriptionStyleModel",
          "model_module_version": "1.5.0",
          "state": {
            "_model_module": "@jupyter-widgets/controls",
            "_model_module_version": "1.5.0",
            "_model_name": "DescriptionStyleModel",
            "_view_count": null,
            "_view_module": "@jupyter-widgets/base",
            "_view_module_version": "1.2.0",
            "_view_name": "StyleView",
            "description_width": ""
          }
        },
        "656c07daaafe44adae1bfefd43553e80": {
          "model_module": "@jupyter-widgets/base",
          "model_name": "LayoutModel",
          "model_module_version": "1.2.0",
          "state": {
            "_model_module": "@jupyter-widgets/base",
            "_model_module_version": "1.2.0",
            "_model_name": "LayoutModel",
            "_view_count": null,
            "_view_module": "@jupyter-widgets/base",
            "_view_module_version": "1.2.0",
            "_view_name": "LayoutView",
            "align_content": null,
            "align_items": null,
            "align_self": null,
            "border": null,
            "bottom": null,
            "display": null,
            "flex": null,
            "flex_flow": null,
            "grid_area": null,
            "grid_auto_columns": null,
            "grid_auto_flow": null,
            "grid_auto_rows": null,
            "grid_column": null,
            "grid_gap": null,
            "grid_row": null,
            "grid_template_areas": null,
            "grid_template_columns": null,
            "grid_template_rows": null,
            "height": null,
            "justify_content": null,
            "justify_items": null,
            "left": null,
            "margin": null,
            "max_height": null,
            "max_width": null,
            "min_height": null,
            "min_width": null,
            "object_fit": null,
            "object_position": null,
            "order": null,
            "overflow": null,
            "overflow_x": null,
            "overflow_y": null,
            "padding": null,
            "right": null,
            "top": null,
            "visibility": null,
            "width": null
          }
        },
        "d0e5c7a215c244eb979de3da7663644d": {
          "model_module": "@jupyter-widgets/controls",
          "model_name": "ProgressStyleModel",
          "model_module_version": "1.5.0",
          "state": {
            "_model_module": "@jupyter-widgets/controls",
            "_model_module_version": "1.5.0",
            "_model_name": "ProgressStyleModel",
            "_view_count": null,
            "_view_module": "@jupyter-widgets/base",
            "_view_module_version": "1.2.0",
            "_view_name": "StyleView",
            "bar_color": null,
            "description_width": ""
          }
        },
        "ab8ec5a334fa4b538aabbaaa741aa4f2": {
          "model_module": "@jupyter-widgets/base",
          "model_name": "LayoutModel",
          "model_module_version": "1.2.0",
          "state": {
            "_model_module": "@jupyter-widgets/base",
            "_model_module_version": "1.2.0",
            "_model_name": "LayoutModel",
            "_view_count": null,
            "_view_module": "@jupyter-widgets/base",
            "_view_module_version": "1.2.0",
            "_view_name": "LayoutView",
            "align_content": null,
            "align_items": null,
            "align_self": null,
            "border": null,
            "bottom": null,
            "display": null,
            "flex": null,
            "flex_flow": null,
            "grid_area": null,
            "grid_auto_columns": null,
            "grid_auto_flow": null,
            "grid_auto_rows": null,
            "grid_column": null,
            "grid_gap": null,
            "grid_row": null,
            "grid_template_areas": null,
            "grid_template_columns": null,
            "grid_template_rows": null,
            "height": null,
            "justify_content": null,
            "justify_items": null,
            "left": null,
            "margin": null,
            "max_height": null,
            "max_width": null,
            "min_height": null,
            "min_width": null,
            "object_fit": null,
            "object_position": null,
            "order": null,
            "overflow": null,
            "overflow_x": null,
            "overflow_y": null,
            "padding": null,
            "right": null,
            "top": null,
            "visibility": null,
            "width": null
          }
        },
        "280b06bc6f4448169ef4e8afaf6e202b": {
          "model_module": "@jupyter-widgets/controls",
          "model_name": "DescriptionStyleModel",
          "model_module_version": "1.5.0",
          "state": {
            "_model_module": "@jupyter-widgets/controls",
            "_model_module_version": "1.5.0",
            "_model_name": "DescriptionStyleModel",
            "_view_count": null,
            "_view_module": "@jupyter-widgets/base",
            "_view_module_version": "1.2.0",
            "_view_name": "StyleView",
            "description_width": ""
          }
        },
        "10ea6fa0b6a04b648f26fa6543c69e5a": {
          "model_module": "@jupyter-widgets/controls",
          "model_name": "VBoxModel",
          "model_module_version": "1.5.0",
          "state": {
            "_dom_classes": [
              "widget-interact"
            ],
            "_model_module": "@jupyter-widgets/controls",
            "_model_module_version": "1.5.0",
            "_model_name": "VBoxModel",
            "_view_count": null,
            "_view_module": "@jupyter-widgets/controls",
            "_view_module_version": "1.5.0",
            "_view_name": "VBoxView",
            "box_style": "",
            "children": [
              "IPY_MODEL_e05c5b9325724040a054cecdc52a10ea",
              "IPY_MODEL_9ee9fcf2e28045498b33cf41d8fa2726"
            ],
            "layout": "IPY_MODEL_9b3be4c54504469d8e551726989f2abb"
          }
        },
        "e05c5b9325724040a054cecdc52a10ea": {
          "model_module": "@jupyter-widgets/controls",
          "model_name": "ToggleButtonsModel",
          "model_module_version": "1.5.0",
          "state": {
            "_dom_classes": [],
            "_model_module": "@jupyter-widgets/controls",
            "_model_module_version": "1.5.0",
            "_model_name": "ToggleButtonsModel",
            "_options_labels": [
              "Pipeline Plot",
              "t-SNE (3d) Dimension Plot",
              "Cluster t-SNE (3d)",
              "Elbow Plot",
              "Silhouette Plot",
              "Distance Plot",
              "Distribution Plot"
            ],
            "_view_count": null,
            "_view_module": "@jupyter-widgets/controls",
            "_view_module_version": "1.5.0",
            "_view_name": "ToggleButtonsView",
            "button_style": "",
            "description": "Plot Type:",
            "description_tooltip": null,
            "disabled": false,
            "icons": [
              ""
            ],
            "index": 0,
            "layout": "IPY_MODEL_e21e2dc9b9ee4b65af5b3bf54f4c617a",
            "style": "IPY_MODEL_88682e665ba84fdab67a85d12a7c2c36",
            "tooltips": []
          }
        },
        "9ee9fcf2e28045498b33cf41d8fa2726": {
          "model_module": "@jupyter-widgets/output",
          "model_name": "OutputModel",
          "model_module_version": "1.0.0",
          "state": {
            "_dom_classes": [],
            "_model_module": "@jupyter-widgets/output",
            "_model_module_version": "1.0.0",
            "_model_name": "OutputModel",
            "_view_count": null,
            "_view_module": "@jupyter-widgets/output",
            "_view_module_version": "1.0.0",
            "_view_name": "OutputView",
            "layout": "IPY_MODEL_7ff1d891d1f041879e9763e644e926da",
            "msg_id": "",
            "outputs": [
              {
                "output_type": "display_data",
                "data": {
                  "text/plain": "<Figure size 2200x600 with 1 Axes>",
                  "image/png": "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\n"
                },
                "metadata": {}
              }
            ]
          }
        },
        "9b3be4c54504469d8e551726989f2abb": {
          "model_module": "@jupyter-widgets/base",
          "model_name": "LayoutModel",
          "model_module_version": "1.2.0",
          "state": {
            "_model_module": "@jupyter-widgets/base",
            "_model_module_version": "1.2.0",
            "_model_name": "LayoutModel",
            "_view_count": null,
            "_view_module": "@jupyter-widgets/base",
            "_view_module_version": "1.2.0",
            "_view_name": "LayoutView",
            "align_content": null,
            "align_items": null,
            "align_self": null,
            "border": null,
            "bottom": null,
            "display": null,
            "flex": null,
            "flex_flow": null,
            "grid_area": null,
            "grid_auto_columns": null,
            "grid_auto_flow": null,
            "grid_auto_rows": null,
            "grid_column": null,
            "grid_gap": null,
            "grid_row": null,
            "grid_template_areas": null,
            "grid_template_columns": null,
            "grid_template_rows": null,
            "height": null,
            "justify_content": null,
            "justify_items": null,
            "left": null,
            "margin": null,
            "max_height": null,
            "max_width": null,
            "min_height": null,
            "min_width": null,
            "object_fit": null,
            "object_position": null,
            "order": null,
            "overflow": null,
            "overflow_x": null,
            "overflow_y": null,
            "padding": null,
            "right": null,
            "top": null,
            "visibility": null,
            "width": null
          }
        },
        "e21e2dc9b9ee4b65af5b3bf54f4c617a": {
          "model_module": "@jupyter-widgets/base",
          "model_name": "LayoutModel",
          "model_module_version": "1.2.0",
          "state": {
            "_model_module": "@jupyter-widgets/base",
            "_model_module_version": "1.2.0",
            "_model_name": "LayoutModel",
            "_view_count": null,
            "_view_module": "@jupyter-widgets/base",
            "_view_module_version": "1.2.0",
            "_view_name": "LayoutView",
            "align_content": null,
            "align_items": null,
            "align_self": null,
            "border": null,
            "bottom": null,
            "display": null,
            "flex": null,
            "flex_flow": null,
            "grid_area": null,
            "grid_auto_columns": null,
            "grid_auto_flow": null,
            "grid_auto_rows": null,
            "grid_column": null,
            "grid_gap": null,
            "grid_row": null,
            "grid_template_areas": null,
            "grid_template_columns": null,
            "grid_template_rows": null,
            "height": null,
            "justify_content": null,
            "justify_items": null,
            "left": null,
            "margin": null,
            "max_height": null,
            "max_width": null,
            "min_height": null,
            "min_width": null,
            "object_fit": null,
            "object_position": null,
            "order": null,
            "overflow": null,
            "overflow_x": null,
            "overflow_y": null,
            "padding": null,
            "right": null,
            "top": null,
            "visibility": null,
            "width": null
          }
        },
        "88682e665ba84fdab67a85d12a7c2c36": {
          "model_module": "@jupyter-widgets/controls",
          "model_name": "ToggleButtonsStyleModel",
          "model_module_version": "1.5.0",
          "state": {
            "_model_module": "@jupyter-widgets/controls",
            "_model_module_version": "1.5.0",
            "_model_name": "ToggleButtonsStyleModel",
            "_view_count": null,
            "_view_module": "@jupyter-widgets/base",
            "_view_module_version": "1.2.0",
            "_view_name": "StyleView",
            "button_width": "",
            "description_width": "",
            "font_weight": ""
          }
        },
        "7ff1d891d1f041879e9763e644e926da": {
          "model_module": "@jupyter-widgets/base",
          "model_name": "LayoutModel",
          "model_module_version": "1.2.0",
          "state": {
            "_model_module": "@jupyter-widgets/base",
            "_model_module_version": "1.2.0",
            "_model_name": "LayoutModel",
            "_view_count": null,
            "_view_module": "@jupyter-widgets/base",
            "_view_module_version": "1.2.0",
            "_view_name": "LayoutView",
            "align_content": null,
            "align_items": null,
            "align_self": null,
            "border": null,
            "bottom": null,
            "display": null,
            "flex": null,
            "flex_flow": null,
            "grid_area": null,
            "grid_auto_columns": null,
            "grid_auto_flow": null,
            "grid_auto_rows": null,
            "grid_column": null,
            "grid_gap": null,
            "grid_row": null,
            "grid_template_areas": null,
            "grid_template_columns": null,
            "grid_template_rows": null,
            "height": null,
            "justify_content": null,
            "justify_items": null,
            "left": null,
            "margin": null,
            "max_height": null,
            "max_width": null,
            "min_height": null,
            "min_width": null,
            "object_fit": null,
            "object_position": null,
            "order": null,
            "overflow": null,
            "overflow_x": null,
            "overflow_y": null,
            "padding": null,
            "right": null,
            "top": null,
            "visibility": null,
            "width": null
          }
        }
      }
    }
  },
  "cells": [
    {
      "cell_type": "markdown",
      "metadata": {
        "id": "view-in-github",
        "colab_type": "text"
      },
      "source": [
        "<a href=\"https://colab.research.google.com/github/Praneeth-18/DataMining6/blob/main/DB_Scan_Clustering_using_PyCaret_library.ipynb\" target=\"_parent\"><img src=\"https://colab.research.google.com/assets/colab-badge.svg\" alt=\"Open In Colab\"/></a>"
      ]
    },
    {
      "cell_type": "code",
      "execution_count": 1,
      "metadata": {
        "colab": {
          "base_uri": "https://localhost:8080/",
          "height": 1000
        },
        "id": "cCsgwHKY2nKN",
        "outputId": "4166376e-fb05-4858-d81c-02c226dd9abe"
      },
      "outputs": [
        {
          "output_type": "stream",
          "name": "stdout",
          "text": [
            "Collecting pycaret\n",
            "  Downloading pycaret-3.2.0-py3-none-any.whl (484 kB)\n",
            "\u001b[2K     \u001b[90m━━━━━━━━━━━━━━━━━━━━━━━━━━━━━━━━━━━━━━━━\u001b[0m \u001b[32m484.7/484.7 kB\u001b[0m \u001b[31m5.1 MB/s\u001b[0m eta \u001b[36m0:00:00\u001b[0m\n",
            "\u001b[?25hCollecting category-encoders>=2.4.0 (from pycaret)\n",
            "  Downloading category_encoders-2.6.3-py2.py3-none-any.whl (81 kB)\n",
            "\u001b[2K     \u001b[90m━━━━━━━━━━━━━━━━━━━━━━━━━━━━━━━━━━━━━━━━\u001b[0m \u001b[32m81.9/81.9 kB\u001b[0m \u001b[31m9.5 MB/s\u001b[0m eta \u001b[36m0:00:00\u001b[0m\n",
            "\u001b[?25hRequirement already satisfied: cloudpickle in /usr/local/lib/python3.10/dist-packages (from pycaret) (2.2.1)\n",
            "Collecting deprecation>=2.1.0 (from pycaret)\n",
            "  Downloading deprecation-2.1.0-py2.py3-none-any.whl (11 kB)\n",
            "Requirement already satisfied: imbalanced-learn>=0.8.1 in /usr/local/lib/python3.10/dist-packages (from pycaret) (0.10.1)\n",
            "Requirement already satisfied: importlib-metadata>=4.12.0 in /usr/local/lib/python3.10/dist-packages (from pycaret) (6.8.0)\n",
            "Requirement already satisfied: ipython>=5.5.0 in /usr/local/lib/python3.10/dist-packages (from pycaret) (7.34.0)\n",
            "Requirement already satisfied: ipywidgets>=7.6.5 in /usr/local/lib/python3.10/dist-packages (from pycaret) (7.7.1)\n",
            "Requirement already satisfied: jinja2>=1.2 in /usr/local/lib/python3.10/dist-packages (from pycaret) (3.1.2)\n",
            "Requirement already satisfied: joblib>=1.2.0 in /usr/local/lib/python3.10/dist-packages (from pycaret) (1.3.2)\n",
            "Collecting kaleido>=0.2.1 (from pycaret)\n",
            "  Downloading kaleido-0.2.1-py2.py3-none-manylinux1_x86_64.whl (79.9 MB)\n",
            "\u001b[2K     \u001b[90m━━━━━━━━━━━━━━━━━━━━━━━━━━━━━━━━━━━━━━━━\u001b[0m \u001b[32m79.9/79.9 MB\u001b[0m \u001b[31m12.5 MB/s\u001b[0m eta \u001b[36m0:00:00\u001b[0m\n",
            "\u001b[?25hRequirement already satisfied: lightgbm>=3.0.0 in /usr/local/lib/python3.10/dist-packages (from pycaret) (4.1.0)\n",
            "Requirement already satisfied: markupsafe>=2.0.1 in /usr/local/lib/python3.10/dist-packages (from pycaret) (2.1.3)\n",
            "Collecting matplotlib<=3.6,>=3.3.0 (from pycaret)\n",
            "  Downloading matplotlib-3.6.0-cp310-cp310-manylinux_2_17_x86_64.manylinux2014_x86_64.whl (11.8 MB)\n",
            "\u001b[2K     \u001b[90m━━━━━━━━━━━━━━━━━━━━━━━━━━━━━━━━━━━━━━━━\u001b[0m \u001b[32m11.8/11.8 MB\u001b[0m \u001b[31m88.3 MB/s\u001b[0m eta \u001b[36m0:00:00\u001b[0m\n",
            "\u001b[?25hRequirement already satisfied: nbformat>=4.2.0 in /usr/local/lib/python3.10/dist-packages (from pycaret) (5.9.2)\n",
            "Requirement already satisfied: numba>=0.55.0 in /usr/local/lib/python3.10/dist-packages (from pycaret) (0.58.1)\n",
            "Requirement already satisfied: numpy<1.27,>=1.21 in /usr/local/lib/python3.10/dist-packages (from pycaret) (1.23.5)\n",
            "Requirement already satisfied: pandas<2.0.0,>=1.3.0 in /usr/local/lib/python3.10/dist-packages (from pycaret) (1.5.3)\n",
            "Collecting plotly-resampler>=0.8.3.1 (from pycaret)\n",
            "  Downloading plotly_resampler-0.9.1-py3-none-any.whl (73 kB)\n",
            "\u001b[2K     \u001b[90m━━━━━━━━━━━━━━━━━━━━━━━━━━━━━━━━━━━━━━━━\u001b[0m \u001b[32m73.4/73.4 kB\u001b[0m \u001b[31m7.3 MB/s\u001b[0m eta \u001b[36m0:00:00\u001b[0m\n",
            "\u001b[?25hRequirement already satisfied: plotly>=5.0.0 in /usr/local/lib/python3.10/dist-packages (from pycaret) (5.15.0)\n",
            "Collecting pmdarima!=1.8.1,<3.0.0,>=1.8.0 (from pycaret)\n",
            "  Downloading pmdarima-2.0.4-cp310-cp310-manylinux_2_17_x86_64.manylinux2014_x86_64.manylinux_2_28_x86_64.whl (2.1 MB)\n",
            "\u001b[2K     \u001b[90m━━━━━━━━━━━━━━━━━━━━━━━━━━━━━━━━━━━━━━━━\u001b[0m \u001b[32m2.1/2.1 MB\u001b[0m \u001b[31m79.1 MB/s\u001b[0m eta \u001b[36m0:00:00\u001b[0m\n",
            "\u001b[?25hRequirement already satisfied: psutil>=5.9.0 in /usr/local/lib/python3.10/dist-packages (from pycaret) (5.9.5)\n",
            "Collecting pyod>=1.0.8 (from pycaret)\n",
            "  Downloading pyod-1.1.2.tar.gz (160 kB)\n",
            "\u001b[2K     \u001b[90m━━━━━━━━━━━━━━━━━━━━━━━━━━━━━━━━━━━━━━━━\u001b[0m \u001b[32m160.5/160.5 kB\u001b[0m \u001b[31m20.1 MB/s\u001b[0m eta \u001b[36m0:00:00\u001b[0m\n",
            "\u001b[?25h  Preparing metadata (setup.py) ... \u001b[?25l\u001b[?25hdone\n",
            "Requirement already satisfied: requests>=2.27.1 in /usr/local/lib/python3.10/dist-packages (from pycaret) (2.31.0)\n",
            "Collecting schemdraw==0.15 (from pycaret)\n",
            "  Downloading schemdraw-0.15-py3-none-any.whl (106 kB)\n",
            "\u001b[2K     \u001b[90m━━━━━━━━━━━━━━━━━━━━━━━━━━━━━━━━━━━━━━━━\u001b[0m \u001b[32m106.8/106.8 kB\u001b[0m \u001b[31m14.0 MB/s\u001b[0m eta \u001b[36m0:00:00\u001b[0m\n",
            "\u001b[?25hRequirement already satisfied: scikit-learn<1.3.0,>=1.0 in /usr/local/lib/python3.10/dist-packages (from pycaret) (1.2.2)\n",
            "Collecting scikit-plot>=0.3.7 (from pycaret)\n",
            "  Downloading scikit_plot-0.3.7-py3-none-any.whl (33 kB)\n",
            "Collecting scipy~=1.10.1 (from pycaret)\n",
            "  Downloading scipy-1.10.1-cp310-cp310-manylinux_2_17_x86_64.manylinux2014_x86_64.whl (34.4 MB)\n",
            "\u001b[2K     \u001b[90m━━━━━━━━━━━━━━━━━━━━━━━━━━━━━━━━━━━━━━━━\u001b[0m \u001b[32m34.4/34.4 MB\u001b[0m \u001b[31m14.5 MB/s\u001b[0m eta \u001b[36m0:00:00\u001b[0m\n",
            "\u001b[?25hCollecting sktime!=0.17.1,!=0.17.2,!=0.18.0,<0.22.0,>=0.16.1 (from pycaret)\n",
            "  Downloading sktime-0.21.1-py3-none-any.whl (17.1 MB)\n",
            "\u001b[2K     \u001b[90m━━━━━━━━━━━━━━━━━━━━━━━━━━━━━━━━━━━━━━━━\u001b[0m \u001b[32m17.1/17.1 MB\u001b[0m \u001b[31m64.9 MB/s\u001b[0m eta \u001b[36m0:00:00\u001b[0m\n",
            "\u001b[?25hRequirement already satisfied: statsmodels>=0.12.1 in /usr/local/lib/python3.10/dist-packages (from pycaret) (0.14.0)\n",
            "Collecting tbats>=1.1.3 (from pycaret)\n",
            "  Downloading tbats-1.1.3-py3-none-any.whl (44 kB)\n",
            "\u001b[2K     \u001b[90m━━━━━━━━━━━━━━━━━━━━━━━━━━━━━━━━━━━━━━━━\u001b[0m \u001b[32m44.0/44.0 kB\u001b[0m \u001b[31m5.4 MB/s\u001b[0m eta \u001b[36m0:00:00\u001b[0m\n",
            "\u001b[?25hRequirement already satisfied: tqdm>=4.62.0 in /usr/local/lib/python3.10/dist-packages (from pycaret) (4.66.1)\n",
            "Requirement already satisfied: xxhash in /usr/local/lib/python3.10/dist-packages (from pycaret) (3.4.1)\n",
            "Requirement already satisfied: yellowbrick>=1.4 in /usr/local/lib/python3.10/dist-packages (from pycaret) (1.5)\n",
            "Collecting wurlitzer (from pycaret)\n",
            "  Downloading wurlitzer-3.0.3-py3-none-any.whl (7.3 kB)\n",
            "Requirement already satisfied: patsy>=0.5.1 in /usr/local/lib/python3.10/dist-packages (from category-encoders>=2.4.0->pycaret) (0.5.3)\n",
            "Requirement already satisfied: packaging in /usr/local/lib/python3.10/dist-packages (from deprecation>=2.1.0->pycaret) (23.2)\n",
            "Requirement already satisfied: threadpoolctl>=2.0.0 in /usr/local/lib/python3.10/dist-packages (from imbalanced-learn>=0.8.1->pycaret) (3.2.0)\n",
            "Requirement already satisfied: zipp>=0.5 in /usr/local/lib/python3.10/dist-packages (from importlib-metadata>=4.12.0->pycaret) (3.17.0)\n",
            "Requirement already satisfied: setuptools>=18.5 in /usr/local/lib/python3.10/dist-packages (from ipython>=5.5.0->pycaret) (67.7.2)\n",
            "Collecting jedi>=0.16 (from ipython>=5.5.0->pycaret)\n",
            "  Downloading jedi-0.19.1-py2.py3-none-any.whl (1.6 MB)\n",
            "\u001b[2K     \u001b[90m━━━━━━━━━━━━━━━━━━━━━━━━━━━━━━━━━━━━━━━━\u001b[0m \u001b[32m1.6/1.6 MB\u001b[0m \u001b[31m79.3 MB/s\u001b[0m eta \u001b[36m0:00:00\u001b[0m\n",
            "\u001b[?25hRequirement already satisfied: decorator in /usr/local/lib/python3.10/dist-packages (from ipython>=5.5.0->pycaret) (4.4.2)\n",
            "Requirement already satisfied: pickleshare in /usr/local/lib/python3.10/dist-packages (from ipython>=5.5.0->pycaret) (0.7.5)\n",
            "Requirement already satisfied: traitlets>=4.2 in /usr/local/lib/python3.10/dist-packages (from ipython>=5.5.0->pycaret) (5.7.1)\n",
            "Requirement already satisfied: prompt-toolkit!=3.0.0,!=3.0.1,<3.1.0,>=2.0.0 in /usr/local/lib/python3.10/dist-packages (from ipython>=5.5.0->pycaret) (3.0.41)\n",
            "Requirement already satisfied: pygments in /usr/local/lib/python3.10/dist-packages (from ipython>=5.5.0->pycaret) (2.16.1)\n",
            "Requirement already satisfied: backcall in /usr/local/lib/python3.10/dist-packages (from ipython>=5.5.0->pycaret) (0.2.0)\n",
            "Requirement already satisfied: matplotlib-inline in /usr/local/lib/python3.10/dist-packages (from ipython>=5.5.0->pycaret) (0.1.6)\n",
            "Requirement already satisfied: pexpect>4.3 in /usr/local/lib/python3.10/dist-packages (from ipython>=5.5.0->pycaret) (4.8.0)\n",
            "Requirement already satisfied: ipykernel>=4.5.1 in /usr/local/lib/python3.10/dist-packages (from ipywidgets>=7.6.5->pycaret) (5.5.6)\n",
            "Requirement already satisfied: ipython-genutils~=0.2.0 in /usr/local/lib/python3.10/dist-packages (from ipywidgets>=7.6.5->pycaret) (0.2.0)\n",
            "Requirement already satisfied: widgetsnbextension~=3.6.0 in /usr/local/lib/python3.10/dist-packages (from ipywidgets>=7.6.5->pycaret) (3.6.6)\n",
            "Requirement already satisfied: jupyterlab-widgets>=1.0.0 in /usr/local/lib/python3.10/dist-packages (from ipywidgets>=7.6.5->pycaret) (3.0.9)\n",
            "Requirement already satisfied: contourpy>=1.0.1 in /usr/local/lib/python3.10/dist-packages (from matplotlib<=3.6,>=3.3.0->pycaret) (1.2.0)\n",
            "Requirement already satisfied: cycler>=0.10 in /usr/local/lib/python3.10/dist-packages (from matplotlib<=3.6,>=3.3.0->pycaret) (0.12.1)\n",
            "Requirement already satisfied: fonttools>=4.22.0 in /usr/local/lib/python3.10/dist-packages (from matplotlib<=3.6,>=3.3.0->pycaret) (4.44.3)\n",
            "Requirement already satisfied: kiwisolver>=1.0.1 in /usr/local/lib/python3.10/dist-packages (from matplotlib<=3.6,>=3.3.0->pycaret) (1.4.5)\n",
            "Requirement already satisfied: pillow>=6.2.0 in /usr/local/lib/python3.10/dist-packages (from matplotlib<=3.6,>=3.3.0->pycaret) (9.4.0)\n",
            "Requirement already satisfied: pyparsing>=2.2.1 in /usr/local/lib/python3.10/dist-packages (from matplotlib<=3.6,>=3.3.0->pycaret) (3.1.1)\n",
            "Requirement already satisfied: python-dateutil>=2.7 in /usr/local/lib/python3.10/dist-packages (from matplotlib<=3.6,>=3.3.0->pycaret) (2.8.2)\n",
            "Requirement already satisfied: fastjsonschema in /usr/local/lib/python3.10/dist-packages (from nbformat>=4.2.0->pycaret) (2.19.0)\n",
            "Requirement already satisfied: jsonschema>=2.6 in /usr/local/lib/python3.10/dist-packages (from nbformat>=4.2.0->pycaret) (4.19.2)\n",
            "Requirement already satisfied: jupyter-core in /usr/local/lib/python3.10/dist-packages (from nbformat>=4.2.0->pycaret) (5.5.0)\n",
            "Requirement already satisfied: llvmlite<0.42,>=0.41.0dev0 in /usr/local/lib/python3.10/dist-packages (from numba>=0.55.0->pycaret) (0.41.1)\n",
            "Requirement already satisfied: pytz>=2020.1 in /usr/local/lib/python3.10/dist-packages (from pandas<2.0.0,>=1.3.0->pycaret) (2023.3.post1)\n",
            "Requirement already satisfied: tenacity>=6.2.0 in /usr/local/lib/python3.10/dist-packages (from plotly>=5.0.0->pycaret) (8.2.3)\n",
            "Collecting dash<3.0.0,>=2.11.0 (from plotly-resampler>=0.8.3.1->pycaret)\n",
            "  Downloading dash-2.14.1-py3-none-any.whl (10.4 MB)\n",
            "\u001b[2K     \u001b[90m━━━━━━━━━━━━━━━━━━━━━━━━━━━━━━━━━━━━━━━━\u001b[0m \u001b[32m10.4/10.4 MB\u001b[0m \u001b[31m94.1 MB/s\u001b[0m eta \u001b[36m0:00:00\u001b[0m\n",
            "\u001b[?25hCollecting orjson<4.0.0,>=3.8.0 (from plotly-resampler>=0.8.3.1->pycaret)\n",
            "  Downloading orjson-3.9.10-cp310-cp310-manylinux_2_17_x86_64.manylinux2014_x86_64.whl (138 kB)\n",
            "\u001b[2K     \u001b[90m━━━━━━━━━━━━━━━━━━━━━━━━━━━━━━━━━━━━━━━━\u001b[0m \u001b[32m138.7/138.7 kB\u001b[0m \u001b[31m18.8 MB/s\u001b[0m eta \u001b[36m0:00:00\u001b[0m\n",
            "\u001b[?25hCollecting trace-updater>=0.0.8 (from plotly-resampler>=0.8.3.1->pycaret)\n",
            "  Downloading trace_updater-0.0.9.1-py3-none-any.whl (185 kB)\n",
            "\u001b[2K     \u001b[90m━━━━━━━━━━━━━━━━━━━━━━━━━━━━━━━━━━━━━━━━\u001b[0m \u001b[32m185.2/185.2 kB\u001b[0m \u001b[31m21.3 MB/s\u001b[0m eta \u001b[36m0:00:00\u001b[0m\n",
            "\u001b[?25hCollecting tsdownsample==0.1.2 (from plotly-resampler>=0.8.3.1->pycaret)\n",
            "  Downloading tsdownsample-0.1.2-cp310-cp310-manylinux_2_17_x86_64.manylinux2014_x86_64.whl (2.3 MB)\n",
            "\u001b[2K     \u001b[90m━━━━━━━━━━━━━━━━━━━━━━━━━━━━━━━━━━━━━━━━\u001b[0m \u001b[32m2.3/2.3 MB\u001b[0m \u001b[31m42.9 MB/s\u001b[0m eta \u001b[36m0:00:00\u001b[0m\n",
            "\u001b[?25hRequirement already satisfied: Cython!=0.29.18,!=0.29.31,>=0.29 in /usr/local/lib/python3.10/dist-packages (from pmdarima!=1.8.1,<3.0.0,>=1.8.0->pycaret) (3.0.5)\n",
            "Requirement already satisfied: urllib3 in /usr/local/lib/python3.10/dist-packages (from pmdarima!=1.8.1,<3.0.0,>=1.8.0->pycaret) (2.0.7)\n",
            "Requirement already satisfied: six in /usr/local/lib/python3.10/dist-packages (from pyod>=1.0.8->pycaret) (1.16.0)\n",
            "Requirement already satisfied: charset-normalizer<4,>=2 in /usr/local/lib/python3.10/dist-packages (from requests>=2.27.1->pycaret) (3.3.2)\n",
            "Requirement already satisfied: idna<4,>=2.5 in /usr/local/lib/python3.10/dist-packages (from requests>=2.27.1->pycaret) (3.4)\n",
            "Requirement already satisfied: certifi>=2017.4.17 in /usr/local/lib/python3.10/dist-packages (from requests>=2.27.1->pycaret) (2023.7.22)\n",
            "Collecting deprecated>=1.2.13 (from sktime!=0.17.1,!=0.17.2,!=0.18.0,<0.22.0,>=0.16.1->pycaret)\n",
            "  Downloading Deprecated-1.2.14-py2.py3-none-any.whl (9.6 kB)\n",
            "Collecting scikit-base<0.6.0 (from sktime!=0.17.1,!=0.17.2,!=0.18.0,<0.22.0,>=0.16.1->pycaret)\n",
            "  Downloading scikit_base-0.5.2-py3-none-any.whl (118 kB)\n",
            "\u001b[2K     \u001b[90m━━━━━━━━━━━━━━━━━━━━━━━━━━━━━━━━━━━━━━━━\u001b[0m \u001b[32m119.0/119.0 kB\u001b[0m \u001b[31m15.2 MB/s\u001b[0m eta \u001b[36m0:00:00\u001b[0m\n",
            "\u001b[?25hRequirement already satisfied: Flask<3.1,>=1.0.4 in /usr/local/lib/python3.10/dist-packages (from dash<3.0.0,>=2.11.0->plotly-resampler>=0.8.3.1->pycaret) (2.2.5)\n",
            "Requirement already satisfied: Werkzeug<3.1 in /usr/local/lib/python3.10/dist-packages (from dash<3.0.0,>=2.11.0->plotly-resampler>=0.8.3.1->pycaret) (3.0.1)\n",
            "Collecting dash-html-components==2.0.0 (from dash<3.0.0,>=2.11.0->plotly-resampler>=0.8.3.1->pycaret)\n",
            "  Downloading dash_html_components-2.0.0-py3-none-any.whl (4.1 kB)\n",
            "Collecting dash-core-components==2.0.0 (from dash<3.0.0,>=2.11.0->plotly-resampler>=0.8.3.1->pycaret)\n",
            "  Downloading dash_core_components-2.0.0-py3-none-any.whl (3.8 kB)\n",
            "Collecting dash-table==5.0.0 (from dash<3.0.0,>=2.11.0->plotly-resampler>=0.8.3.1->pycaret)\n",
            "  Downloading dash_table-5.0.0-py3-none-any.whl (3.9 kB)\n",
            "Requirement already satisfied: typing-extensions>=4.1.1 in /usr/local/lib/python3.10/dist-packages (from dash<3.0.0,>=2.11.0->plotly-resampler>=0.8.3.1->pycaret) (4.5.0)\n",
            "Collecting retrying (from dash<3.0.0,>=2.11.0->plotly-resampler>=0.8.3.1->pycaret)\n",
            "  Downloading retrying-1.3.4-py3-none-any.whl (11 kB)\n",
            "Collecting ansi2html (from dash<3.0.0,>=2.11.0->plotly-resampler>=0.8.3.1->pycaret)\n",
            "  Downloading ansi2html-1.8.0-py3-none-any.whl (16 kB)\n",
            "Requirement already satisfied: nest-asyncio in /usr/local/lib/python3.10/dist-packages (from dash<3.0.0,>=2.11.0->plotly-resampler>=0.8.3.1->pycaret) (1.5.8)\n",
            "Requirement already satisfied: wrapt<2,>=1.10 in /usr/local/lib/python3.10/dist-packages (from deprecated>=1.2.13->sktime!=0.17.1,!=0.17.2,!=0.18.0,<0.22.0,>=0.16.1->pycaret) (1.14.1)\n",
            "Requirement already satisfied: jupyter-client in /usr/local/lib/python3.10/dist-packages (from ipykernel>=4.5.1->ipywidgets>=7.6.5->pycaret) (6.1.12)\n",
            "Requirement already satisfied: tornado>=4.2 in /usr/local/lib/python3.10/dist-packages (from ipykernel>=4.5.1->ipywidgets>=7.6.5->pycaret) (6.3.2)\n",
            "Requirement already satisfied: parso<0.9.0,>=0.8.3 in /usr/local/lib/python3.10/dist-packages (from jedi>=0.16->ipython>=5.5.0->pycaret) (0.8.3)\n",
            "Requirement already satisfied: attrs>=22.2.0 in /usr/local/lib/python3.10/dist-packages (from jsonschema>=2.6->nbformat>=4.2.0->pycaret) (23.1.0)\n",
            "Requirement already satisfied: jsonschema-specifications>=2023.03.6 in /usr/local/lib/python3.10/dist-packages (from jsonschema>=2.6->nbformat>=4.2.0->pycaret) (2023.11.1)\n",
            "Requirement already satisfied: referencing>=0.28.4 in /usr/local/lib/python3.10/dist-packages (from jsonschema>=2.6->nbformat>=4.2.0->pycaret) (0.31.0)\n",
            "Requirement already satisfied: rpds-py>=0.7.1 in /usr/local/lib/python3.10/dist-packages (from jsonschema>=2.6->nbformat>=4.2.0->pycaret) (0.13.0)\n",
            "Requirement already satisfied: ptyprocess>=0.5 in /usr/local/lib/python3.10/dist-packages (from pexpect>4.3->ipython>=5.5.0->pycaret) (0.7.0)\n",
            "Requirement already satisfied: wcwidth in /usr/local/lib/python3.10/dist-packages (from prompt-toolkit!=3.0.0,!=3.0.1,<3.1.0,>=2.0.0->ipython>=5.5.0->pycaret) (0.2.10)\n",
            "Requirement already satisfied: notebook>=4.4.1 in /usr/local/lib/python3.10/dist-packages (from widgetsnbextension~=3.6.0->ipywidgets>=7.6.5->pycaret) (6.5.5)\n",
            "Requirement already satisfied: platformdirs>=2.5 in /usr/local/lib/python3.10/dist-packages (from jupyter-core->nbformat>=4.2.0->pycaret) (4.0.0)\n",
            "Requirement already satisfied: itsdangerous>=2.0 in /usr/local/lib/python3.10/dist-packages (from Flask<3.1,>=1.0.4->dash<3.0.0,>=2.11.0->plotly-resampler>=0.8.3.1->pycaret) (2.1.2)\n",
            "Requirement already satisfied: click>=8.0 in /usr/local/lib/python3.10/dist-packages (from Flask<3.1,>=1.0.4->dash<3.0.0,>=2.11.0->plotly-resampler>=0.8.3.1->pycaret) (8.1.7)\n",
            "Requirement already satisfied: pyzmq<25,>=17 in /usr/local/lib/python3.10/dist-packages (from notebook>=4.4.1->widgetsnbextension~=3.6.0->ipywidgets>=7.6.5->pycaret) (23.2.1)\n",
            "Requirement already satisfied: argon2-cffi in /usr/local/lib/python3.10/dist-packages (from notebook>=4.4.1->widgetsnbextension~=3.6.0->ipywidgets>=7.6.5->pycaret) (23.1.0)\n",
            "Requirement already satisfied: nbconvert>=5 in /usr/local/lib/python3.10/dist-packages (from notebook>=4.4.1->widgetsnbextension~=3.6.0->ipywidgets>=7.6.5->pycaret) (6.5.4)\n",
            "Requirement already satisfied: Send2Trash>=1.8.0 in /usr/local/lib/python3.10/dist-packages (from notebook>=4.4.1->widgetsnbextension~=3.6.0->ipywidgets>=7.6.5->pycaret) (1.8.2)\n",
            "Requirement already satisfied: terminado>=0.8.3 in /usr/local/lib/python3.10/dist-packages (from notebook>=4.4.1->widgetsnbextension~=3.6.0->ipywidgets>=7.6.5->pycaret) (0.18.0)\n",
            "Requirement already satisfied: prometheus-client in /usr/local/lib/python3.10/dist-packages (from notebook>=4.4.1->widgetsnbextension~=3.6.0->ipywidgets>=7.6.5->pycaret) (0.18.0)\n",
            "Requirement already satisfied: nbclassic>=0.4.7 in /usr/local/lib/python3.10/dist-packages (from notebook>=4.4.1->widgetsnbextension~=3.6.0->ipywidgets>=7.6.5->pycaret) (1.0.0)\n",
            "Requirement already satisfied: jupyter-server>=1.8 in /usr/local/lib/python3.10/dist-packages (from nbclassic>=0.4.7->notebook>=4.4.1->widgetsnbextension~=3.6.0->ipywidgets>=7.6.5->pycaret) (1.24.0)\n",
            "Requirement already satisfied: notebook-shim>=0.2.3 in /usr/local/lib/python3.10/dist-packages (from nbclassic>=0.4.7->notebook>=4.4.1->widgetsnbextension~=3.6.0->ipywidgets>=7.6.5->pycaret) (0.2.3)\n",
            "Requirement already satisfied: lxml in /usr/local/lib/python3.10/dist-packages (from nbconvert>=5->notebook>=4.4.1->widgetsnbextension~=3.6.0->ipywidgets>=7.6.5->pycaret) (4.9.3)\n",
            "Requirement already satisfied: beautifulsoup4 in /usr/local/lib/python3.10/dist-packages (from nbconvert>=5->notebook>=4.4.1->widgetsnbextension~=3.6.0->ipywidgets>=7.6.5->pycaret) (4.11.2)\n",
            "Requirement already satisfied: bleach in /usr/local/lib/python3.10/dist-packages (from nbconvert>=5->notebook>=4.4.1->widgetsnbextension~=3.6.0->ipywidgets>=7.6.5->pycaret) (6.1.0)\n",
            "Requirement already satisfied: defusedxml in /usr/local/lib/python3.10/dist-packages (from nbconvert>=5->notebook>=4.4.1->widgetsnbextension~=3.6.0->ipywidgets>=7.6.5->pycaret) (0.7.1)\n",
            "Requirement already satisfied: entrypoints>=0.2.2 in /usr/local/lib/python3.10/dist-packages (from nbconvert>=5->notebook>=4.4.1->widgetsnbextension~=3.6.0->ipywidgets>=7.6.5->pycaret) (0.4)\n",
            "Requirement already satisfied: jupyterlab-pygments in /usr/local/lib/python3.10/dist-packages (from nbconvert>=5->notebook>=4.4.1->widgetsnbextension~=3.6.0->ipywidgets>=7.6.5->pycaret) (0.2.2)\n",
            "Requirement already satisfied: mistune<2,>=0.8.1 in /usr/local/lib/python3.10/dist-packages (from nbconvert>=5->notebook>=4.4.1->widgetsnbextension~=3.6.0->ipywidgets>=7.6.5->pycaret) (0.8.4)\n",
            "Requirement already satisfied: nbclient>=0.5.0 in /usr/local/lib/python3.10/dist-packages (from nbconvert>=5->notebook>=4.4.1->widgetsnbextension~=3.6.0->ipywidgets>=7.6.5->pycaret) (0.9.0)\n",
            "Requirement already satisfied: pandocfilters>=1.4.1 in /usr/local/lib/python3.10/dist-packages (from nbconvert>=5->notebook>=4.4.1->widgetsnbextension~=3.6.0->ipywidgets>=7.6.5->pycaret) (1.5.0)\n",
            "Requirement already satisfied: tinycss2 in /usr/local/lib/python3.10/dist-packages (from nbconvert>=5->notebook>=4.4.1->widgetsnbextension~=3.6.0->ipywidgets>=7.6.5->pycaret) (1.2.1)\n",
            "Requirement already satisfied: argon2-cffi-bindings in /usr/local/lib/python3.10/dist-packages (from argon2-cffi->notebook>=4.4.1->widgetsnbextension~=3.6.0->ipywidgets>=7.6.5->pycaret) (21.2.0)\n",
            "Requirement already satisfied: anyio<4,>=3.1.0 in /usr/local/lib/python3.10/dist-packages (from jupyter-server>=1.8->nbclassic>=0.4.7->notebook>=4.4.1->widgetsnbextension~=3.6.0->ipywidgets>=7.6.5->pycaret) (3.7.1)\n",
            "Requirement already satisfied: websocket-client in /usr/local/lib/python3.10/dist-packages (from jupyter-server>=1.8->nbclassic>=0.4.7->notebook>=4.4.1->widgetsnbextension~=3.6.0->ipywidgets>=7.6.5->pycaret) (1.6.4)\n",
            "Requirement already satisfied: cffi>=1.0.1 in /usr/local/lib/python3.10/dist-packages (from argon2-cffi-bindings->argon2-cffi->notebook>=4.4.1->widgetsnbextension~=3.6.0->ipywidgets>=7.6.5->pycaret) (1.16.0)\n",
            "Requirement already satisfied: soupsieve>1.2 in /usr/local/lib/python3.10/dist-packages (from beautifulsoup4->nbconvert>=5->notebook>=4.4.1->widgetsnbextension~=3.6.0->ipywidgets>=7.6.5->pycaret) (2.5)\n",
            "Requirement already satisfied: webencodings in /usr/local/lib/python3.10/dist-packages (from bleach->nbconvert>=5->notebook>=4.4.1->widgetsnbextension~=3.6.0->ipywidgets>=7.6.5->pycaret) (0.5.1)\n",
            "Requirement already satisfied: sniffio>=1.1 in /usr/local/lib/python3.10/dist-packages (from anyio<4,>=3.1.0->jupyter-server>=1.8->nbclassic>=0.4.7->notebook>=4.4.1->widgetsnbextension~=3.6.0->ipywidgets>=7.6.5->pycaret) (1.3.0)\n",
            "Requirement already satisfied: exceptiongroup in /usr/local/lib/python3.10/dist-packages (from anyio<4,>=3.1.0->jupyter-server>=1.8->nbclassic>=0.4.7->notebook>=4.4.1->widgetsnbextension~=3.6.0->ipywidgets>=7.6.5->pycaret) (1.1.3)\n",
            "Requirement already satisfied: pycparser in /usr/local/lib/python3.10/dist-packages (from cffi>=1.0.1->argon2-cffi-bindings->argon2-cffi->notebook>=4.4.1->widgetsnbextension~=3.6.0->ipywidgets>=7.6.5->pycaret) (2.21)\n",
            "Building wheels for collected packages: pyod\n",
            "  Building wheel for pyod (setup.py) ... \u001b[?25l\u001b[?25hdone\n",
            "  Created wheel for pyod: filename=pyod-1.1.2-py3-none-any.whl size=190289 sha256=df1ea9886785ea1728b76890381176131adebe0262543bea5e6807764c55c0d1\n",
            "  Stored in directory: /root/.cache/pip/wheels/81/1b/61/aa85b78c3c0c8871f4231e3f4a03bb23cecb7db829498380ee\n",
            "Successfully built pyod\n",
            "Installing collected packages: trace-updater, kaleido, dash-table, dash-html-components, dash-core-components, wurlitzer, tsdownsample, scipy, scikit-base, schemdraw, retrying, orjson, jedi, deprecation, deprecated, ansi2html, matplotlib, sktime, scikit-plot, pyod, dash, pmdarima, plotly-resampler, category-encoders, tbats, pycaret\n",
            "  Attempting uninstall: scipy\n",
            "    Found existing installation: scipy 1.11.3\n",
            "    Uninstalling scipy-1.11.3:\n",
            "      Successfully uninstalled scipy-1.11.3\n",
            "  Attempting uninstall: matplotlib\n",
            "    Found existing installation: matplotlib 3.7.1\n",
            "    Uninstalling matplotlib-3.7.1:\n",
            "      Successfully uninstalled matplotlib-3.7.1\n",
            "\u001b[31mERROR: pip's dependency resolver does not currently take into account all the packages that are installed. This behaviour is the source of the following dependency conflicts.\n",
            "lida 0.0.10 requires fastapi, which is not installed.\n",
            "lida 0.0.10 requires python-multipart, which is not installed.\n",
            "lida 0.0.10 requires uvicorn, which is not installed.\u001b[0m\u001b[31m\n",
            "\u001b[0mSuccessfully installed ansi2html-1.8.0 category-encoders-2.6.3 dash-2.14.1 dash-core-components-2.0.0 dash-html-components-2.0.0 dash-table-5.0.0 deprecated-1.2.14 deprecation-2.1.0 jedi-0.19.1 kaleido-0.2.1 matplotlib-3.6.0 orjson-3.9.10 plotly-resampler-0.9.1 pmdarima-2.0.4 pycaret-3.2.0 pyod-1.1.2 retrying-1.3.4 schemdraw-0.15 scikit-base-0.5.2 scikit-plot-0.3.7 scipy-1.10.1 sktime-0.21.1 tbats-1.1.3 trace-updater-0.0.9.1 tsdownsample-0.1.2 wurlitzer-3.0.3\n"
          ]
        },
        {
          "output_type": "display_data",
          "data": {
            "application/vnd.colab-display-data+json": {
              "pip_warning": {
                "packages": [
                  "matplotlib",
                  "mpl_toolkits"
                ]
              }
            }
          },
          "metadata": {}
        }
      ],
      "source": [
        "pip install pycaret"
      ]
    },
    {
      "cell_type": "markdown",
      "source": [
        "DBSCAN (Density-Based Spatial Clustering of Applications with Noise) is a popular clustering algorithm that's particularly effective for identifying clusters of varying shapes and sizes, and for handling noise and outliers in the data. PyCaret, a low-code machine learning library in Python, provides an easy and efficient way to use DBSCAN for clustering."
      ],
      "metadata": {
        "id": "eKExufjO37or"
      }
    },
    {
      "cell_type": "code",
      "source": [
        "from pycaret.datasets import get_data\n",
        "from pycaret.clustering import *\n",
        "\n",
        "# Load a dataset\n",
        "data = get_data('jewellery')"
      ],
      "metadata": {
        "colab": {
          "base_uri": "https://localhost:8080/",
          "height": 206
        },
        "id": "lHyGQ29k3Y59",
        "outputId": "04bc50ab-d56b-40d9-893f-74b2c050f312"
      },
      "execution_count": 1,
      "outputs": [
        {
          "output_type": "display_data",
          "data": {
            "text/plain": [
              "   Age  Income  SpendingScore       Savings\n",
              "0   58   77769       0.791329   6559.829923\n",
              "1   59   81799       0.791082   5417.661426\n",
              "2   62   74751       0.702657   9258.992965\n",
              "3   59   74373       0.765680   7346.334504\n",
              "4   87   17760       0.348778  16869.507130"
            ],
            "text/html": [
              "\n",
              "  <div id=\"df-5c038b4d-e66f-44fa-a3da-ed5706ec1087\" class=\"colab-df-container\">\n",
              "    <div>\n",
              "<style scoped>\n",
              "    .dataframe tbody tr th:only-of-type {\n",
              "        vertical-align: middle;\n",
              "    }\n",
              "\n",
              "    .dataframe tbody tr th {\n",
              "        vertical-align: top;\n",
              "    }\n",
              "\n",
              "    .dataframe thead th {\n",
              "        text-align: right;\n",
              "    }\n",
              "</style>\n",
              "<table border=\"1\" class=\"dataframe\">\n",
              "  <thead>\n",
              "    <tr style=\"text-align: right;\">\n",
              "      <th></th>\n",
              "      <th>Age</th>\n",
              "      <th>Income</th>\n",
              "      <th>SpendingScore</th>\n",
              "      <th>Savings</th>\n",
              "    </tr>\n",
              "  </thead>\n",
              "  <tbody>\n",
              "    <tr>\n",
              "      <th>0</th>\n",
              "      <td>58</td>\n",
              "      <td>77769</td>\n",
              "      <td>0.791329</td>\n",
              "      <td>6559.829923</td>\n",
              "    </tr>\n",
              "    <tr>\n",
              "      <th>1</th>\n",
              "      <td>59</td>\n",
              "      <td>81799</td>\n",
              "      <td>0.791082</td>\n",
              "      <td>5417.661426</td>\n",
              "    </tr>\n",
              "    <tr>\n",
              "      <th>2</th>\n",
              "      <td>62</td>\n",
              "      <td>74751</td>\n",
              "      <td>0.702657</td>\n",
              "      <td>9258.992965</td>\n",
              "    </tr>\n",
              "    <tr>\n",
              "      <th>3</th>\n",
              "      <td>59</td>\n",
              "      <td>74373</td>\n",
              "      <td>0.765680</td>\n",
              "      <td>7346.334504</td>\n",
              "    </tr>\n",
              "    <tr>\n",
              "      <th>4</th>\n",
              "      <td>87</td>\n",
              "      <td>17760</td>\n",
              "      <td>0.348778</td>\n",
              "      <td>16869.507130</td>\n",
              "    </tr>\n",
              "  </tbody>\n",
              "</table>\n",
              "</div>\n",
              "    <div class=\"colab-df-buttons\">\n",
              "\n",
              "  <div class=\"colab-df-container\">\n",
              "    <button class=\"colab-df-convert\" onclick=\"convertToInteractive('df-5c038b4d-e66f-44fa-a3da-ed5706ec1087')\"\n",
              "            title=\"Convert this dataframe to an interactive table.\"\n",
              "            style=\"display:none;\">\n",
              "\n",
              "  <svg xmlns=\"http://www.w3.org/2000/svg\" height=\"24px\" viewBox=\"0 -960 960 960\">\n",
              "    <path d=\"M120-120v-720h720v720H120Zm60-500h600v-160H180v160Zm220 220h160v-160H400v160Zm0 220h160v-160H400v160ZM180-400h160v-160H180v160Zm440 0h160v-160H620v160ZM180-180h160v-160H180v160Zm440 0h160v-160H620v160Z\"/>\n",
              "  </svg>\n",
              "    </button>\n",
              "\n",
              "  <style>\n",
              "    .colab-df-container {\n",
              "      display:flex;\n",
              "      gap: 12px;\n",
              "    }\n",
              "\n",
              "    .colab-df-convert {\n",
              "      background-color: #E8F0FE;\n",
              "      border: none;\n",
              "      border-radius: 50%;\n",
              "      cursor: pointer;\n",
              "      display: none;\n",
              "      fill: #1967D2;\n",
              "      height: 32px;\n",
              "      padding: 0 0 0 0;\n",
              "      width: 32px;\n",
              "    }\n",
              "\n",
              "    .colab-df-convert:hover {\n",
              "      background-color: #E2EBFA;\n",
              "      box-shadow: 0px 1px 2px rgba(60, 64, 67, 0.3), 0px 1px 3px 1px rgba(60, 64, 67, 0.15);\n",
              "      fill: #174EA6;\n",
              "    }\n",
              "\n",
              "    .colab-df-buttons div {\n",
              "      margin-bottom: 4px;\n",
              "    }\n",
              "\n",
              "    [theme=dark] .colab-df-convert {\n",
              "      background-color: #3B4455;\n",
              "      fill: #D2E3FC;\n",
              "    }\n",
              "\n",
              "    [theme=dark] .colab-df-convert:hover {\n",
              "      background-color: #434B5C;\n",
              "      box-shadow: 0px 1px 3px 1px rgba(0, 0, 0, 0.15);\n",
              "      filter: drop-shadow(0px 1px 2px rgba(0, 0, 0, 0.3));\n",
              "      fill: #FFFFFF;\n",
              "    }\n",
              "  </style>\n",
              "\n",
              "    <script>\n",
              "      const buttonEl =\n",
              "        document.querySelector('#df-5c038b4d-e66f-44fa-a3da-ed5706ec1087 button.colab-df-convert');\n",
              "      buttonEl.style.display =\n",
              "        google.colab.kernel.accessAllowed ? 'block' : 'none';\n",
              "\n",
              "      async function convertToInteractive(key) {\n",
              "        const element = document.querySelector('#df-5c038b4d-e66f-44fa-a3da-ed5706ec1087');\n",
              "        const dataTable =\n",
              "          await google.colab.kernel.invokeFunction('convertToInteractive',\n",
              "                                                    [key], {});\n",
              "        if (!dataTable) return;\n",
              "\n",
              "        const docLinkHtml = 'Like what you see? Visit the ' +\n",
              "          '<a target=\"_blank\" href=https://colab.research.google.com/notebooks/data_table.ipynb>data table notebook</a>'\n",
              "          + ' to learn more about interactive tables.';\n",
              "        element.innerHTML = '';\n",
              "        dataTable['output_type'] = 'display_data';\n",
              "        await google.colab.output.renderOutput(dataTable, element);\n",
              "        const docLink = document.createElement('div');\n",
              "        docLink.innerHTML = docLinkHtml;\n",
              "        element.appendChild(docLink);\n",
              "      }\n",
              "    </script>\n",
              "  </div>\n",
              "\n",
              "\n",
              "<div id=\"df-a5c66d36-e720-4cfc-8fc6-e899bb6a7f49\">\n",
              "  <button class=\"colab-df-quickchart\" onclick=\"quickchart('df-a5c66d36-e720-4cfc-8fc6-e899bb6a7f49')\"\n",
              "            title=\"Suggest charts\"\n",
              "            style=\"display:none;\">\n",
              "\n",
              "<svg xmlns=\"http://www.w3.org/2000/svg\" height=\"24px\"viewBox=\"0 0 24 24\"\n",
              "     width=\"24px\">\n",
              "    <g>\n",
              "        <path d=\"M19 3H5c-1.1 0-2 .9-2 2v14c0 1.1.9 2 2 2h14c1.1 0 2-.9 2-2V5c0-1.1-.9-2-2-2zM9 17H7v-7h2v7zm4 0h-2V7h2v10zm4 0h-2v-4h2v4z\"/>\n",
              "    </g>\n",
              "</svg>\n",
              "  </button>\n",
              "\n",
              "<style>\n",
              "  .colab-df-quickchart {\n",
              "      --bg-color: #E8F0FE;\n",
              "      --fill-color: #1967D2;\n",
              "      --hover-bg-color: #E2EBFA;\n",
              "      --hover-fill-color: #174EA6;\n",
              "      --disabled-fill-color: #AAA;\n",
              "      --disabled-bg-color: #DDD;\n",
              "  }\n",
              "\n",
              "  [theme=dark] .colab-df-quickchart {\n",
              "      --bg-color: #3B4455;\n",
              "      --fill-color: #D2E3FC;\n",
              "      --hover-bg-color: #434B5C;\n",
              "      --hover-fill-color: #FFFFFF;\n",
              "      --disabled-bg-color: #3B4455;\n",
              "      --disabled-fill-color: #666;\n",
              "  }\n",
              "\n",
              "  .colab-df-quickchart {\n",
              "    background-color: var(--bg-color);\n",
              "    border: none;\n",
              "    border-radius: 50%;\n",
              "    cursor: pointer;\n",
              "    display: none;\n",
              "    fill: var(--fill-color);\n",
              "    height: 32px;\n",
              "    padding: 0;\n",
              "    width: 32px;\n",
              "  }\n",
              "\n",
              "  .colab-df-quickchart:hover {\n",
              "    background-color: var(--hover-bg-color);\n",
              "    box-shadow: 0 1px 2px rgba(60, 64, 67, 0.3), 0 1px 3px 1px rgba(60, 64, 67, 0.15);\n",
              "    fill: var(--button-hover-fill-color);\n",
              "  }\n",
              "\n",
              "  .colab-df-quickchart-complete:disabled,\n",
              "  .colab-df-quickchart-complete:disabled:hover {\n",
              "    background-color: var(--disabled-bg-color);\n",
              "    fill: var(--disabled-fill-color);\n",
              "    box-shadow: none;\n",
              "  }\n",
              "\n",
              "  .colab-df-spinner {\n",
              "    border: 2px solid var(--fill-color);\n",
              "    border-color: transparent;\n",
              "    border-bottom-color: var(--fill-color);\n",
              "    animation:\n",
              "      spin 1s steps(1) infinite;\n",
              "  }\n",
              "\n",
              "  @keyframes spin {\n",
              "    0% {\n",
              "      border-color: transparent;\n",
              "      border-bottom-color: var(--fill-color);\n",
              "      border-left-color: var(--fill-color);\n",
              "    }\n",
              "    20% {\n",
              "      border-color: transparent;\n",
              "      border-left-color: var(--fill-color);\n",
              "      border-top-color: var(--fill-color);\n",
              "    }\n",
              "    30% {\n",
              "      border-color: transparent;\n",
              "      border-left-color: var(--fill-color);\n",
              "      border-top-color: var(--fill-color);\n",
              "      border-right-color: var(--fill-color);\n",
              "    }\n",
              "    40% {\n",
              "      border-color: transparent;\n",
              "      border-right-color: var(--fill-color);\n",
              "      border-top-color: var(--fill-color);\n",
              "    }\n",
              "    60% {\n",
              "      border-color: transparent;\n",
              "      border-right-color: var(--fill-color);\n",
              "    }\n",
              "    80% {\n",
              "      border-color: transparent;\n",
              "      border-right-color: var(--fill-color);\n",
              "      border-bottom-color: var(--fill-color);\n",
              "    }\n",
              "    90% {\n",
              "      border-color: transparent;\n",
              "      border-bottom-color: var(--fill-color);\n",
              "    }\n",
              "  }\n",
              "</style>\n",
              "\n",
              "  <script>\n",
              "    async function quickchart(key) {\n",
              "      const quickchartButtonEl =\n",
              "        document.querySelector('#' + key + ' button');\n",
              "      quickchartButtonEl.disabled = true;  // To prevent multiple clicks.\n",
              "      quickchartButtonEl.classList.add('colab-df-spinner');\n",
              "      try {\n",
              "        const charts = await google.colab.kernel.invokeFunction(\n",
              "            'suggestCharts', [key], {});\n",
              "      } catch (error) {\n",
              "        console.error('Error during call to suggestCharts:', error);\n",
              "      }\n",
              "      quickchartButtonEl.classList.remove('colab-df-spinner');\n",
              "      quickchartButtonEl.classList.add('colab-df-quickchart-complete');\n",
              "    }\n",
              "    (() => {\n",
              "      let quickchartButtonEl =\n",
              "        document.querySelector('#df-a5c66d36-e720-4cfc-8fc6-e899bb6a7f49 button');\n",
              "      quickchartButtonEl.style.display =\n",
              "        google.colab.kernel.accessAllowed ? 'block' : 'none';\n",
              "    })();\n",
              "  </script>\n",
              "</div>\n",
              "    </div>\n",
              "  </div>\n"
            ]
          },
          "metadata": {}
        }
      ]
    },
    {
      "cell_type": "code",
      "source": [
        "clu1 = setup(data, normalize = True,\n",
        "             ignore_features = ['ID'],\n",
        "             session_id = 123)"
      ],
      "metadata": {
        "colab": {
          "base_uri": "https://localhost:8080/",
          "height": 551
        },
        "id": "ImD-eByc3nhl",
        "outputId": "08d1632c-dee9-4fd9-bc7d-2f562ee30b14"
      },
      "execution_count": 2,
      "outputs": [
        {
          "output_type": "display_data",
          "data": {
            "text/plain": [
              "<pandas.io.formats.style.Styler at 0x7f96e3f19090>"
            ],
            "text/html": [
              "<style type=\"text/css\">\n",
              "#T_b7045_row5_col1, #T_b7045_row9_col1 {\n",
              "  background-color: lightgreen;\n",
              "}\n",
              "</style>\n",
              "<table id=\"T_b7045\" class=\"dataframe\">\n",
              "  <thead>\n",
              "    <tr>\n",
              "      <th class=\"blank level0\" >&nbsp;</th>\n",
              "      <th id=\"T_b7045_level0_col0\" class=\"col_heading level0 col0\" >Description</th>\n",
              "      <th id=\"T_b7045_level0_col1\" class=\"col_heading level0 col1\" >Value</th>\n",
              "    </tr>\n",
              "  </thead>\n",
              "  <tbody>\n",
              "    <tr>\n",
              "      <th id=\"T_b7045_level0_row0\" class=\"row_heading level0 row0\" >0</th>\n",
              "      <td id=\"T_b7045_row0_col0\" class=\"data row0 col0\" >Session id</td>\n",
              "      <td id=\"T_b7045_row0_col1\" class=\"data row0 col1\" >123</td>\n",
              "    </tr>\n",
              "    <tr>\n",
              "      <th id=\"T_b7045_level0_row1\" class=\"row_heading level0 row1\" >1</th>\n",
              "      <td id=\"T_b7045_row1_col0\" class=\"data row1 col0\" >Original data shape</td>\n",
              "      <td id=\"T_b7045_row1_col1\" class=\"data row1 col1\" >(505, 4)</td>\n",
              "    </tr>\n",
              "    <tr>\n",
              "      <th id=\"T_b7045_level0_row2\" class=\"row_heading level0 row2\" >2</th>\n",
              "      <td id=\"T_b7045_row2_col0\" class=\"data row2 col0\" >Transformed data shape</td>\n",
              "      <td id=\"T_b7045_row2_col1\" class=\"data row2 col1\" >(505, 4)</td>\n",
              "    </tr>\n",
              "    <tr>\n",
              "      <th id=\"T_b7045_level0_row3\" class=\"row_heading level0 row3\" >3</th>\n",
              "      <td id=\"T_b7045_row3_col0\" class=\"data row3 col0\" >Ignore features</td>\n",
              "      <td id=\"T_b7045_row3_col1\" class=\"data row3 col1\" >1</td>\n",
              "    </tr>\n",
              "    <tr>\n",
              "      <th id=\"T_b7045_level0_row4\" class=\"row_heading level0 row4\" >4</th>\n",
              "      <td id=\"T_b7045_row4_col0\" class=\"data row4 col0\" >Numeric features</td>\n",
              "      <td id=\"T_b7045_row4_col1\" class=\"data row4 col1\" >4</td>\n",
              "    </tr>\n",
              "    <tr>\n",
              "      <th id=\"T_b7045_level0_row5\" class=\"row_heading level0 row5\" >5</th>\n",
              "      <td id=\"T_b7045_row5_col0\" class=\"data row5 col0\" >Preprocess</td>\n",
              "      <td id=\"T_b7045_row5_col1\" class=\"data row5 col1\" >True</td>\n",
              "    </tr>\n",
              "    <tr>\n",
              "      <th id=\"T_b7045_level0_row6\" class=\"row_heading level0 row6\" >6</th>\n",
              "      <td id=\"T_b7045_row6_col0\" class=\"data row6 col0\" >Imputation type</td>\n",
              "      <td id=\"T_b7045_row6_col1\" class=\"data row6 col1\" >simple</td>\n",
              "    </tr>\n",
              "    <tr>\n",
              "      <th id=\"T_b7045_level0_row7\" class=\"row_heading level0 row7\" >7</th>\n",
              "      <td id=\"T_b7045_row7_col0\" class=\"data row7 col0\" >Numeric imputation</td>\n",
              "      <td id=\"T_b7045_row7_col1\" class=\"data row7 col1\" >mean</td>\n",
              "    </tr>\n",
              "    <tr>\n",
              "      <th id=\"T_b7045_level0_row8\" class=\"row_heading level0 row8\" >8</th>\n",
              "      <td id=\"T_b7045_row8_col0\" class=\"data row8 col0\" >Categorical imputation</td>\n",
              "      <td id=\"T_b7045_row8_col1\" class=\"data row8 col1\" >mode</td>\n",
              "    </tr>\n",
              "    <tr>\n",
              "      <th id=\"T_b7045_level0_row9\" class=\"row_heading level0 row9\" >9</th>\n",
              "      <td id=\"T_b7045_row9_col0\" class=\"data row9 col0\" >Normalize</td>\n",
              "      <td id=\"T_b7045_row9_col1\" class=\"data row9 col1\" >True</td>\n",
              "    </tr>\n",
              "    <tr>\n",
              "      <th id=\"T_b7045_level0_row10\" class=\"row_heading level0 row10\" >10</th>\n",
              "      <td id=\"T_b7045_row10_col0\" class=\"data row10 col0\" >Normalize method</td>\n",
              "      <td id=\"T_b7045_row10_col1\" class=\"data row10 col1\" >zscore</td>\n",
              "    </tr>\n",
              "    <tr>\n",
              "      <th id=\"T_b7045_level0_row11\" class=\"row_heading level0 row11\" >11</th>\n",
              "      <td id=\"T_b7045_row11_col0\" class=\"data row11 col0\" >CPU Jobs</td>\n",
              "      <td id=\"T_b7045_row11_col1\" class=\"data row11 col1\" >-1</td>\n",
              "    </tr>\n",
              "    <tr>\n",
              "      <th id=\"T_b7045_level0_row12\" class=\"row_heading level0 row12\" >12</th>\n",
              "      <td id=\"T_b7045_row12_col0\" class=\"data row12 col0\" >Use GPU</td>\n",
              "      <td id=\"T_b7045_row12_col1\" class=\"data row12 col1\" >False</td>\n",
              "    </tr>\n",
              "    <tr>\n",
              "      <th id=\"T_b7045_level0_row13\" class=\"row_heading level0 row13\" >13</th>\n",
              "      <td id=\"T_b7045_row13_col0\" class=\"data row13 col0\" >Log Experiment</td>\n",
              "      <td id=\"T_b7045_row13_col1\" class=\"data row13 col1\" >False</td>\n",
              "    </tr>\n",
              "    <tr>\n",
              "      <th id=\"T_b7045_level0_row14\" class=\"row_heading level0 row14\" >14</th>\n",
              "      <td id=\"T_b7045_row14_col0\" class=\"data row14 col0\" >Experiment Name</td>\n",
              "      <td id=\"T_b7045_row14_col1\" class=\"data row14 col1\" >cluster-default-name</td>\n",
              "    </tr>\n",
              "    <tr>\n",
              "      <th id=\"T_b7045_level0_row15\" class=\"row_heading level0 row15\" >15</th>\n",
              "      <td id=\"T_b7045_row15_col0\" class=\"data row15 col0\" >USI</td>\n",
              "      <td id=\"T_b7045_row15_col1\" class=\"data row15 col1\" >444c</td>\n",
              "    </tr>\n",
              "  </tbody>\n",
              "</table>\n"
            ]
          },
          "metadata": {}
        }
      ]
    },
    {
      "cell_type": "code",
      "source": [
        "dbscan = create_model('dbscan', eps=0.5, min_samples=5)"
      ],
      "metadata": {
        "colab": {
          "base_uri": "https://localhost:8080/",
          "height": 81,
          "referenced_widgets": [
            "ffecdbb4fcda4bad89537a647727d9f8",
            "2f0066bb8a0248f8b51754d4e424ce06",
            "8d50e7d14253425daac676864b4b743a",
            "be62e203d36b4749a0c413db38f0a173",
            "e953ca84343b4201bddb488bafeed875",
            "6340e901c1ce450ab64b9afa3f8cc586",
            "aeb5a66040814740aa1a1a640df202d5",
            "aa2b22bd8838471fbc9ed789e9d1e2d8",
            "e6f658c07cad4956bcf7c30de4ea96cc",
            "3d66c34304c24fe09d2141fcd2ee1a5f",
            "504ea5c1cba148afb0dacb2aafe31b88"
          ]
        },
        "id": "4vgW2mM23rEx",
        "outputId": "adc0b521-53bc-4d43-e171-c7a30ca7912d"
      },
      "execution_count": 3,
      "outputs": [
        {
          "output_type": "display_data",
          "data": {
            "text/plain": [
              "<IPython.core.display.HTML object>"
            ],
            "text/html": []
          },
          "metadata": {}
        },
        {
          "output_type": "display_data",
          "data": {
            "text/plain": [
              "<pandas.io.formats.style.Styler at 0x7f96e5a865f0>"
            ],
            "text/html": [
              "<style type=\"text/css\">\n",
              "</style>\n",
              "<table id=\"T_30156\" class=\"dataframe\">\n",
              "  <thead>\n",
              "    <tr>\n",
              "      <th class=\"blank level0\" >&nbsp;</th>\n",
              "      <th id=\"T_30156_level0_col0\" class=\"col_heading level0 col0\" >Silhouette</th>\n",
              "      <th id=\"T_30156_level0_col1\" class=\"col_heading level0 col1\" >Calinski-Harabasz</th>\n",
              "      <th id=\"T_30156_level0_col2\" class=\"col_heading level0 col2\" >Davies-Bouldin</th>\n",
              "      <th id=\"T_30156_level0_col3\" class=\"col_heading level0 col3\" >Homogeneity</th>\n",
              "      <th id=\"T_30156_level0_col4\" class=\"col_heading level0 col4\" >Rand Index</th>\n",
              "      <th id=\"T_30156_level0_col5\" class=\"col_heading level0 col5\" >Completeness</th>\n",
              "    </tr>\n",
              "  </thead>\n",
              "  <tbody>\n",
              "    <tr>\n",
              "      <th id=\"T_30156_level0_row0\" class=\"row_heading level0 row0\" >0</th>\n",
              "      <td id=\"T_30156_row0_col0\" class=\"data row0 col0\" >0.8049</td>\n",
              "      <td id=\"T_30156_row0_col1\" class=\"data row0 col1\" >3671.3580</td>\n",
              "      <td id=\"T_30156_row0_col2\" class=\"data row0 col2\" >0.2762</td>\n",
              "      <td id=\"T_30156_row0_col3\" class=\"data row0 col3\" >0</td>\n",
              "      <td id=\"T_30156_row0_col4\" class=\"data row0 col4\" >0</td>\n",
              "      <td id=\"T_30156_row0_col5\" class=\"data row0 col5\" >0</td>\n",
              "    </tr>\n",
              "  </tbody>\n",
              "</table>\n"
            ]
          },
          "metadata": {}
        },
        {
          "output_type": "display_data",
          "data": {
            "text/plain": [
              "Processing:   0%|          | 0/3 [00:00<?, ?it/s]"
            ],
            "application/vnd.jupyter.widget-view+json": {
              "version_major": 2,
              "version_minor": 0,
              "model_id": "ffecdbb4fcda4bad89537a647727d9f8"
            }
          },
          "metadata": {
            "application/vnd.jupyter.widget-view+json": {
              "colab": {
                "custom_widget_manager": {
                  "url": "https://ssl.gstatic.com/colaboratory-static/widgets/colab-cdn-widget-manager/b3e629b1971e1542/manager.min.js"
                }
              }
            }
          }
        },
        {
          "output_type": "display_data",
          "data": {
            "text/plain": [
              "<IPython.core.display.HTML object>"
            ],
            "text/html": []
          },
          "metadata": {}
        }
      ]
    },
    {
      "cell_type": "code",
      "source": [
        "dbscan_results = assign_model(dbscan)"
      ],
      "metadata": {
        "id": "2HdsW2tJ3snF"
      },
      "execution_count": 4,
      "outputs": []
    },
    {
      "cell_type": "code",
      "source": [
        "evaluate_model(dbscan)"
      ],
      "metadata": {
        "colab": {
          "base_uri": "https://localhost:8080/",
          "height": 188,
          "referenced_widgets": [
            "f9df633f64cf438482f65d83775e009f",
            "6e6ccccb67b8479f80d19c54781df7e1",
            "8781623796a7436783e3f88a83d59156",
            "9f720e034315439cb34c18a220da151c",
            "ea4a40bf47c7487782907dbca7eea774",
            "d11ad9c16b78450aa905061009121485",
            "4d7890f8c0ce49a0b3be6cdcd2f32cb5"
          ]
        },
        "id": "hGtvccP-3t60",
        "outputId": "2463ad53-7567-417c-c03e-7049bd4849b3"
      },
      "execution_count": 5,
      "outputs": [
        {
          "output_type": "display_data",
          "data": {
            "text/plain": [
              "interactive(children=(ToggleButtons(description='Plot Type:', icons=('',), options=(('Pipeline Plot', 'pipelin…"
            ],
            "application/vnd.jupyter.widget-view+json": {
              "version_major": 2,
              "version_minor": 0,
              "model_id": "f9df633f64cf438482f65d83775e009f"
            }
          },
          "metadata": {
            "application/vnd.jupyter.widget-view+json": {
              "colab": {
                "custom_widget_manager": {
                  "url": "https://ssl.gstatic.com/colaboratory-static/widgets/colab-cdn-widget-manager/b3e629b1971e1542/manager.min.js"
                }
              }
            }
          }
        }
      ]
    },
    {
      "cell_type": "code",
      "source": [
        "plot_model(dbscan, plot = 'cluster')"
      ],
      "metadata": {
        "colab": {
          "base_uri": "https://localhost:8080/",
          "height": 617
        },
        "id": "-5lfQnZG3vDZ",
        "outputId": "137074e5-9adf-458d-a882-c59493db0afc"
      },
      "execution_count": 6,
      "outputs": [
        {
          "output_type": "display_data",
          "data": {
            "text/plain": [
              "<IPython.core.display.HTML object>"
            ],
            "text/html": []
          },
          "metadata": {}
        },
        {
          "output_type": "display_data",
          "data": {
            "text/html": [
              "<html>\n",
              "<head><meta charset=\"utf-8\" /></head>\n",
              "<body>\n",
              "    <div>            <script src=\"https://cdnjs.cloudflare.com/ajax/libs/mathjax/2.7.5/MathJax.js?config=TeX-AMS-MML_SVG\"></script><script type=\"text/javascript\">if (window.MathJax && window.MathJax.Hub && window.MathJax.Hub.Config) {window.MathJax.Hub.Config({SVG: {font: \"STIX-Web\"}});}</script>                <script type=\"text/javascript\">window.PlotlyConfig = {MathJaxConfig: 'local'};</script>\n",
              "        <script charset=\"utf-8\" src=\"https://cdn.plot.ly/plotly-2.24.1.min.js\"></script>                <div id=\"bd26cc92-9354-463c-b433-9d7f17ce1288\" class=\"plotly-graph-div\" style=\"height:600px; width:100%;\"></div>            <script type=\"text/javascript\">                                    window.PLOTLYENV=window.PLOTLYENV || {};                                    if (document.getElementById(\"bd26cc92-9354-463c-b433-9d7f17ce1288\")) {                    Plotly.newPlot(                        \"bd26cc92-9354-463c-b433-9d7f17ce1288\",                        [{\"customdata\":[[58],[55],[60],[56],[60],[58],[56],[64],[63],[62],[59],[67],[58],[58],[57],[66],[64],[59],[68],[61],[64],[63],[55],[57],[57],[61],[58],[59],[53],[59],[62],[60],[65],[60],[63],[56],[58],[62],[56],[59],[65],[62],[59],[66],[64],[62],[61],[56],[62],[60],[62],[64],[63],[58],[62],[61],[59],[59],[58],[55],[51],[57],[61],[60],[64],[65],[59],[58],[63],[61],[59],[56],[61],[63],[58],[62],[60],[62],[65],[59],[65],[58],[61],[66],[58],[68],[58],[67],[56],[61],[56],[61],[59],[62],[59],[59],[59],[57],[59],[61],[62],[67],[56],[59],[58],[61],[55],[59],[59],[60],[60],[67],[57],[56],[63],[64],[57],[60],[61],[61],[57],[64],[55],[59],[58],[58],[59],[53],[53],[59],[63],[55],[62],[61],[59],[55],[56],[57],[66],[66],[59],[59],[56],[61],[61],[63],[58],[62],[58],[55],[58],[60],[61],[57],[54],[62],[64]],\"hovertemplate\":\"Cluster=Cluster 0\\u003cbr\\u003ePCA1=%{x}\\u003cbr\\u003ePCA2=%{y}\\u003cbr\\u003eFeature=%{customdata[0]}\\u003cextra\\u003e\\u003c\\u002fextra\\u003e\",\"legendgroup\":\"Cluster 0\",\"marker\":{\"color\":\"#636efa\",\"opacity\":0.5,\"symbol\":\"circle\"},\"mode\":\"markers\",\"name\":\"Cluster 0\",\"orientation\":\"v\",\"showlegend\":true,\"x\":[1.1682837002981554,1.4165248474989307,1.0276427199624671,0.7918438826702816,0.6555738403701944,1.2856257644562679,1.0405649159923467,0.8861290613065832,0.914656905552916,0.9278732433593299,1.2454279396930048,0.7728732342358806,1.1074480844605277,1.2687191541005096,0.9449531635491203,0.7622312268075447,0.9777645559930501,1.0169684017691274,1.010374287385807,0.8997248139805238,1.0437351483073096,0.5968294692176298,1.2062170192506037,1.3021698682866714,0.9384815712202279,0.7160188879115622,1.3211848806836244,1.1080733107301208,0.9983593069552814,0.8919397686485703,0.734458774050507,0.9008413126703924,0.861209702478893,0.7821932358049105,1.204150283466361,1.2062689639165902,1.0852611343777796,0.8459436007799077,0.8943127938254039,0.8726423089978533,0.9041298708228793,0.9066282295775973,0.9808089192409672,1.0636835747962283,0.9404516521503734,0.7759052575820313,0.6643083633818323,0.8659576195564087,1.0488447178474816,0.9312354065998134,0.9819717090583893,1.0590705207647062,0.7440274522719088,1.1042748149489459,0.8417702446799288,0.7874789340364967,0.9425921069204355,0.8657576280514769,1.0019403172175656,0.9594904501652082,1.2191798503320759,1.047772643449041,1.0077913668289495,0.9041625435151752,0.5770891879196995,0.841680883152855,0.6350507730329608,1.1666392991194003,0.8463936669282945,0.8566260358632626,0.9119072832149151,1.0860490205360358,0.9366545997757679,0.8473239394675028,0.9030632526952314,1.2474049340254765,0.7580640120524239,1.0725421735877514,0.7059600929994883,1.2113149008777504,0.6609924228042448,1.1841092257604497,0.7954780881086867,0.8652969865535096,1.2806116873975626,0.7310246756468842,0.6935247292600984,1.1100288124039313,1.1219558239547458,0.9605009118547884,1.185149068631839,0.7065493157257267,0.8220018192601689,0.9389335977642522,1.0372284509042105,0.8637286535793987,1.0205116797168639,0.9352338258234568,0.8645507831528335,0.9431474612825113,0.8598961482066799,0.7324373925173786,1.0101209320872186,1.3029770007955623,0.9578529035814847,1.1929201863238192,0.9890445934967501,1.0262015665917117,1.32064656548069,0.8764462897040272,1.1328881813626868,1.046473810938685,1.346704743888095,1.0574476828468298,1.1951063715213464,1.0121035638001261,1.2175980282031043,0.9540261213115766,1.178896545904274,0.9680414759191468,1.1543311950894954,1.0768594116139978,0.9446702949507852,1.1276584532463576,0.9390626266597389,0.9214394452884335,0.8854326073556666,0.8545270992189644,1.3514663993849727,0.6491557089831029,1.1697157157105844,1.110791953070698,0.9629568366605431,0.9694492150848557,0.9863668241734642,1.2097308456376705,0.840475293306715,1.1695787307060757,0.9783089217155606,0.9549237109237508,1.3253416973277252,0.968822317693735,0.9694486721072398,0.9128901619260924,0.9904005931312488,1.119400412219108,0.9700286595917199,0.5838880837444463,1.1412703962743072,0.9780919383590059,0.9415026940468485,1.3791574074188675,1.2113994896127693,0.9951066400134885,1.1878058391546593,1.1686594538900321,0.6485204145371003],\"xaxis\":\"x\",\"y\":[-1.000182097500611,-1.1874054921130865,-1.2614198248900812,-1.0428462357194523,-0.9506074996684037,-1.0491610821438084,-1.087901392001263,-1.3114515408661906,-1.045797476256663,-1.3218177947254264,-1.1350938967856568,-1.4498324189835496,-0.9032411332655957,-1.2877279418212286,-1.0827043896146118,-1.1008297151560256,-1.0054322463139485,-1.1019901712259734,-1.240654716574946,-1.0180186815310632,-1.1407848193687478,-1.246672019665121,-0.9890970342964712,-1.1317551847841063,-0.9114183932695236,-0.8559835943006032,-1.0112114872870104,-1.049140688816259,-0.7261456077497619,-0.9244828083379835,-1.1739384664823311,-1.0551957087085175,-1.3076654831188999,-0.9017111014195509,-1.1104902648719726,-0.7873291593576792,-1.000543576088855,-1.0255561956986627,-0.8956354652269498,-1.012864442353784,-1.3387063216989783,-0.8129183745026265,-1.152957974759164,-1.0687677144088823,-1.0093416187074324,-1.0307952435211079,-0.8901299659112826,-0.9501853298632682,-1.0341295279527492,-1.1517194309146972,-1.2111098594920384,-0.890799807285715,-1.0170300674445742,-0.9261339192219501,-1.131554149232685,-1.0185756181499817,-1.4138817772205292,-1.0093228176418252,-0.8672710371535215,-1.0207959533810098,-0.9339131059589088,-0.9909497372641377,-0.9251206383974471,-0.9268788820901757,-1.1057267491959977,-1.0551123254284867,-0.84448861759909,-0.9858205173986626,-0.775047865665298,-1.0899101222137213,-1.0921090956253687,-1.1540811039662726,-1.0537811899478342,-1.0958576719468034,-0.9571164515340794,-1.3089097569990802,-1.0899601739553046,-1.3410544447617931,-1.0135586747930199,-1.3413428545726847,-1.0233877280029158,-1.2783964263267658,-0.83988275498742,-1.0111196723730456,-1.1487850666835389,-1.2106187138454423,-0.8048185035647609,-1.2312022661473188,-0.9361935812116113,-1.1213907739917421,-0.9262420039422752,-1.0071640739085734,-0.7151245439682441,-1.1841016447602941,-1.1311766157283245,-0.6305227529987886,-1.0690001233128807,-1.0689487670100215,-0.8363636703849527,-1.2236753861220675,-1.2307738114173261,-1.2033210848393185,-0.7192448138435934,-1.0354555267432723,-0.7304667795198446,-1.3237198197423277,-0.7460961462187093,-1.0784364850663157,-0.8439511805184668,-0.9881938435607152,-1.3481125132949197,-1.1669307977663461,-1.0718240516910909,-0.9625591715859116,-1.5360719766613218,-1.2827358441799015,-1.0940498318756804,-1.1050118654678673,-1.1914816463333715,-1.1378583973726577,-0.8986911550414328,-0.8646271599998729,-0.8512723128101781,-1.1423072290982208,-0.8248210998493889,-0.9607789514792965,-0.9872029878216135,-0.9365448631646779,-0.9684157167828297,-0.7130075332511674,-1.3232677556655468,-0.8504676820728514,-1.0563539504353543,-0.965254933414787,-1.2147598407332458,-1.0174123069790046,-1.0083836537404791,-0.9948424146853008,-1.2837073824379714,-1.4279651456655158,-1.0537884452997577,-0.9508264386599714,-0.5166517090533883,-1.2877890111042187,-1.0986216164230391,-0.9454616685796324,-1.0226848796124326,-0.7095234382012507,-1.1282610424770683,-0.8932650861034415,-0.8738518191467409,-1.1911314537851476,-1.3813315342767865,-0.8446993285766251,-0.9010032597945411,-1.382885067796596,-1.2345567241332505],\"yaxis\":\"y\",\"type\":\"scatter\",\"textposition\":\"top center\"},{\"customdata\":[[87],[94],[86],[92],[86],[91],[82],[87],[89],[90],[88],[93],[85],[84],[86],[83],[94],[83],[88],[83],[91],[84],[90],[90],[88],[87],[83],[88],[90],[91],[84],[87],[91],[85],[87],[88],[87],[88],[90],[91],[91],[91],[83],[92],[87],[85],[94],[86],[92],[84],[83],[87],[90],[87],[88],[86],[84],[90],[91],[92],[97],[84],[92],[87],[91],[93],[90],[84],[87],[82],[90],[83],[91],[88],[91],[84],[87],[89],[84],[94],[86],[79],[86],[85],[92],[89],[88],[87],[90],[89],[79],[82],[87],[91],[86],[89],[83],[91],[89],[88],[94],[91],[91],[94],[91],[92],[82],[88],[87],[88],[85],[87],[93],[89],[88],[85],[89],[82],[90],[89],[84],[87],[85],[89],[94],[95],[91],[81],[88],[89],[86],[91],[83],[83],[84],[84],[88],[85],[85],[87],[89],[85],[92],[88],[84],[88],[85]],\"hovertemplate\":\"Cluster=Cluster 1\\u003cbr\\u003ePCA1=%{x}\\u003cbr\\u003ePCA2=%{y}\\u003cbr\\u003eFeature=%{customdata[0]}\\u003cextra\\u003e\\u003c\\u002fextra\\u003e\",\"legendgroup\":\"Cluster 1\",\"marker\":{\"color\":\"#EF553B\",\"opacity\":0.5,\"symbol\":\"circle\"},\"mode\":\"markers\",\"name\":\"Cluster 1\",\"orientation\":\"v\",\"showlegend\":true,\"x\":[-2.1869226852858175,-2.4042827025688167,-2.0773059378719783,-2.4413576593337782,-2.3022948107819055,-2.2875822229613876,-2.05175276790885,-2.061750629315316,-2.1055768655960208,-1.9237706946125321,-1.9803938458771324,-2.5674016169878335,-2.0693762576312373,-2.3168729941610073,-2.311440829204624,-2.0488757032995775,-2.064027137588368,-2.0740642425400124,-2.3256650636920932,-2.0660308350734233,-2.1601323732581976,-2.0794015782267965,-2.1132550638960677,-2.23674502860145,-2.0257149698382473,-2.1009645101949235,-2.1726077535690322,-1.9475645518884872,-2.1246147683316625,-2.19874928119205,-1.8819533679121574,-1.6415100426953986,-2.209528595089089,-2.213564388378537,-1.8905345605431274,-2.1966542995106213,-2.2149141307911275,-1.8568486460830838,-2.4957367358934337,-1.9888631880066792,-2.190582477806907,-2.263831289547848,-2.0848956401167595,-2.0072052114473364,-2.015669694528222,-1.844956618328365,-2.300902917379733,-2.090489658917059,-2.3091832318104224,-2.0610472088980267,-1.692013611041892,-1.972682149187,-2.0348464256973675,-2.1763682898835333,-1.8744645494467427,-2.032547250920052,-1.8540489541166656,-2.054698687403401,-2.271968805607208,-2.138370657346907,-2.1665825094251763,-1.8268448016513754,-2.1151354477730853,-2.169452767115892,-2.021920358755615,-2.6650846141014086,-1.9113850975608015,-2.1374480042711417,-1.9797365510783647,-1.9316929871361508,-2.0875236402024995,-1.8501139452750146,-2.4708555943873143,-2.1045480550454108,-2.0596221679142697,-2.0392936585620483,-1.9494241646564785,-2.1338732955587894,-2.012610118056563,-2.089773101911317,-1.9440773058871803,-1.651896587162527,-2.127958889466204,-1.7799235382684186,-2.0620186995784313,-1.6899782169382016,-2.3722395809982224,-1.8777106536524606,-2.0057278451758527,-1.9614733683409837,-1.734049612327912,-2.14234665463199,-1.920851042901055,-2.1795387137149733,-2.408625989054941,-2.0549612447047516,-2.075245210099716,-2.2841169250665474,-1.8925095563905732,-1.9479417950813145,-2.3241773386525257,-2.3963856007419455,-2.446140175242716,-2.121996843165194,-2.060675629197233,-2.0545283818607483,-1.687260197005142,-1.8776590854293693,-2.011017746214522,-1.7185088195699367,-2.034198832156783,-2.1894947053864375,-2.419934173981644,-1.5876423955693562,-2.18841375624137,-1.8598620401888177,-1.9874389966732815,-1.9126164348236838,-1.8108771371265435,-2.1601504902786357,-1.855591741633042,-2.1368664763049896,-2.1555298773976754,-2.1099741256835625,-2.2408627709960416,-2.3908001435492796,-2.377900056300697,-1.9100567546298202,-2.2967077311386994,-2.226733491807393,-1.7605101149425784,-2.3511033859939303,-1.7196671474447438,-1.8945487121532516,-2.3536231808272676,-2.108265172091554,-1.963514259794928,-1.9593513155850932,-1.7579711332465606,-1.9122344808169949,-2.2696247431645307,-1.8605670449487413,-1.9876134372615235,-2.181045521331897,-1.812597525526372,-1.8583744423673194,-2.1063108193780646],\"xaxis\":\"x\",\"y\":[-0.8067995569356419,-0.7173393400405392,-0.6825634242360208,-0.5181762316186257,-0.11431721526800956,-0.8755633636665127,-0.1596190647071296,-0.39991666446128404,-0.5517801062784086,-0.6273745595239687,-0.4501763107308202,-0.5584256319110373,-0.5698597167158757,-0.40881869043679053,-0.057588001331142134,-0.2910284906094382,-0.7464151677357718,-0.4538962042160322,-0.5350079372274517,-0.1527021996513406,-0.5893188314701036,-0.5608573168992347,-0.36960813449633784,-0.5264186996992537,-0.5390371933703426,-0.5619385982740368,-0.2306859213668446,-0.5215544689094562,-0.46037204898379924,-0.613838553245679,-0.29422105067826826,-0.3200521843718291,-0.5797516991361967,-0.2550458445323649,-0.5393495897616244,-0.6273116697679452,-0.5241277681177694,-0.705410397947897,-0.36810760917687757,-0.46772412504721833,-0.6014849347139458,-0.45444443291172315,-0.5585027453296469,-0.5682786079006387,-0.6102172142266885,-0.7365498286947547,-0.6493932058674964,-0.44017507300540354,-0.6093340007317014,-0.41872262764416934,-0.4664397183670407,-0.2091844523877474,-0.5728525797446413,-0.674020074454894,-0.6191144593009178,-0.5563919003697063,-0.5275821832441504,-0.7520088590283934,-0.449152927592017,-0.8410375014215652,-0.7505233015126646,-0.3671605377452335,-0.42973694027798837,-0.36895596113163404,-0.5746310157584502,-0.35627443327827807,-0.5456030013787853,-0.3834394144313491,-0.45659384089036686,-0.30034031179805487,-0.6338688044084954,-0.42749581594129443,-0.24687040779734967,-0.6480071046379435,-0.6563181470502271,-0.40534452684214906,-0.6280532039655611,-0.5696768817440947,-0.6402758608991833,-0.4424074339759886,-0.5298424005360374,-0.29117606467004337,-0.13911050506757666,-0.644154010415915,-0.5549713642005606,-0.6934908301507859,-0.5161724087173116,-0.6206342835178319,-0.4200309871644905,-0.6400389921177897,-0.3269654762898555,-0.30471157599602705,-0.9227842667757731,-0.6347762918396856,-0.4487441855504683,-0.7539529182760792,-0.3794030889030786,-0.4958571771385831,-0.6046141006526979,-0.6458564147851067,-0.5246607801291672,-0.10743763606387961,-0.278295803404649,-0.7167505909540547,-0.541789183446163,-0.5009905475094888,-0.7954904013263535,-0.701510360248401,-0.5766039187068894,-0.703494683526787,-0.40722339979213706,-0.5869172876819716,-0.5971884642663118,-1.0908349749742379,-0.4018651993954495,-0.43428115354467745,-0.5169981583589748,-0.31220075025838223,-0.6893553855124898,-0.6676343563650067,-0.5744379782396483,-0.5519563585136078,-0.39829077230568516,-0.7826594232507057,-0.7895587957764538,-0.5480994425662659,-0.5926924652356996,-0.19150554711229692,-0.19658001770472255,-0.46464098116749714,-0.17396287162943957,-0.6846139841079554,-0.6422730817663537,-0.30305245905086764,-0.10320599172187539,-0.31381835673691455,-0.9640476068371756,-0.3045947159020649,-0.6274956634284363,-0.6857124943849289,-0.2886326266191247,-0.5908679438455625,-0.6418532294699375,-0.47087749345166335,-0.19896479018514346,-0.5353794322734133,-0.2844963006679815],\"yaxis\":\"y\",\"type\":\"scatter\",\"textposition\":\"top center\"},{\"customdata\":[[20],[20],[17],[28],[18],[17],[24],[17],[28],[26],[21],[30],[17],[25],[20],[23],[25],[24],[27],[31],[24],[27],[28],[26],[21],[25],[24],[24],[25],[23],[26],[22],[28],[28],[23],[25],[24],[29],[25],[22],[29],[26],[26],[27],[22],[28],[23],[29],[24],[18]],\"hovertemplate\":\"Cluster=Cluster 2\\u003cbr\\u003ePCA1=%{x}\\u003cbr\\u003ePCA2=%{y}\\u003cbr\\u003eFeature=%{customdata[0]}\\u003cextra\\u003e\\u003c\\u002fextra\\u003e\",\"legendgroup\":\"Cluster 2\",\"marker\":{\"color\":\"#00cc96\",\"opacity\":0.5,\"symbol\":\"circle\"},\"mode\":\"markers\",\"name\":\"Cluster 2\",\"orientation\":\"v\",\"showlegend\":true,\"x\":[2.9100544957209804,2.9645299636113425,3.606010983090438,2.7276907896076095,3.0185007250619513,3.20338396840245,3.334588630852615,3.318657383723655,2.624846863297901,2.7615134859068284,3.1336887106715734,2.582432396706412,3.2480214116738417,2.6834430250258134,3.0222113740060275,2.821084689652978,3.0625443827330545,3.0785132486416065,3.1369285979261305,2.8857013607379094,2.836009011933872,2.877220096055834,3.189901759657706,2.65803106417447,3.018464875894078,3.3147831847414415,2.9684908655393976,3.02767018527069,2.8772063344909196,3.0284708922404167,3.02334189097965,2.95554567941947,2.6126329530035703,3.057404654175019,3.2896659880682386,2.744122928724172,3.1284383602323262,2.908192054122525,2.9946138386426826,3.2271349825395617,2.9969656622217267,3.029682667396979,2.946708385875592,2.7928142681585473,2.979040992931337,3.109047720144275,2.996529439802399,3.0194786789947643,3.106051429241851,2.8596496306311026],\"xaxis\":\"x\",\"y\":[0.24234807841349096,0.030777093442380245,-0.0208025851887022,0.06575239258431761,0.26981597634276383,-0.04759533842959641,-0.02342727176877164,0.18149476219538724,-0.10508687804990402,0.02747241492397654,0.005365721165934989,-0.011831568042126489,0.22315486658724842,0.03876450528017546,0.1276505780411079,-0.01674357731161442,-0.02478843719848264,0.11283445585873157,-0.33384212807692926,-0.2874926435025413,-0.07559244793310618,-0.15961214015413483,-0.3934181166799326,0.22000584216006436,0.025679173060421258,-0.060191290283313784,0.0970913686859642,0.039586042192475746,0.15353835692851392,-0.005101874022638185,-0.27978962354909986,0.27586603735658866,0.007656245740532624,-0.3726669612744837,0.05549888270140566,0.22846587950490577,-0.1238629775244602,0.014594534918111291,0.004345556023207649,0.023558547283749183,-0.3238423806182271,-0.11781866110151179,0.07393602818372133,-0.13296706160376373,-0.17767734510080505,-0.226728405014203,0.10028251723062642,0.12620198118673354,0.046652922261199076,0.2720229389531099],\"yaxis\":\"y\",\"type\":\"scatter\",\"textposition\":\"top center\"},{\"customdata\":[[84],[87],[92],[88],[90],[83],[84],[90],[86],[83],[89],[88],[82],[84],[85],[86],[85],[88],[77],[86],[91],[93],[83],[82],[84]],\"hovertemplate\":\"Cluster=Cluster 3\\u003cbr\\u003ePCA1=%{x}\\u003cbr\\u003ePCA2=%{y}\\u003cbr\\u003eFeature=%{customdata[0]}\\u003cextra\\u003e\\u003c\\u002fextra\\u003e\",\"legendgroup\":\"Cluster 3\",\"marker\":{\"color\":\"#ab63fa\",\"opacity\":0.5,\"symbol\":\"circle\"},\"mode\":\"markers\",\"name\":\"Cluster 3\",\"orientation\":\"v\",\"showlegend\":true,\"x\":[-0.9031905734664314,-0.9670629893092257,-1.095230132931521,-1.097561273588576,-1.209876703314409,-0.9552849167539048,-1.1915520070338923,-0.9541647230065936,-0.7634175002438868,-1.1277989607099237,-1.2921524659738688,-1.0392532826408887,-0.9675569341635255,-1.090366308691407,-1.398309851414372,-1.2481136231302212,-1.0212922752555376,-1.624912784682921,-0.8348661374051676,-1.19086735346285,-1.2427853491999237,-1.1784391771348135,-1.1975955739957032,-1.0432102475267317,-1.2666202761220238],\"xaxis\":\"x\",\"y\":[1.2898573129879842,1.0706344836522834,1.172735725642775,1.2589971606078183,1.3846394655480814,1.1784851030346268,1.207173714468001,0.9893579282310021,1.2243905626141154,1.380468988792302,1.3272072145860685,1.313529980643634,1.4027015868432702,1.2543911832820014,1.3795671282642656,1.5822628167983055,1.201626671234369,1.5343348554889615,1.6633252754404941,1.2792909280909803,1.2472155265607736,1.3195283019356376,1.4958441049619176,1.5599327591141467,1.3289766394539375],\"yaxis\":\"y\",\"type\":\"scatter\",\"textposition\":\"top center\"},{\"customdata\":[[28],[39],[30],[30],[36],[30],[30],[31],[35],[28],[37],[29],[38],[35],[28],[31],[30],[32],[33],[36],[28],[31],[32],[35],[31],[31],[28],[31],[33],[34],[36],[32],[22],[33],[34],[34],[35],[31],[35],[34],[33],[32],[36],[38],[34],[29],[30],[37],[30],[37],[35],[36],[31],[33],[29],[33],[26],[24],[36],[33],[31],[34],[29],[30],[31],[31],[37],[37],[37],[35],[43],[36],[31],[31],[38],[37],[33],[31],[30],[29],[33],[25],[33],[30],[40],[34],[33],[36],[29],[37],[33],[31],[37],[37],[33],[28],[31],[27],[34],[44],[31],[36],[29],[35],[42],[29],[39],[25],[29],[35],[29],[28],[36],[34],[35],[32],[31],[34],[29],[39],[34],[33],[32],[32],[38],[30]],\"hovertemplate\":\"Cluster=Cluster 4\\u003cbr\\u003ePCA1=%{x}\\u003cbr\\u003ePCA2=%{y}\\u003cbr\\u003eFeature=%{customdata[0]}\\u003cextra\\u003e\\u003c\\u002fextra\\u003e\",\"legendgroup\":\"Cluster 4\",\"marker\":{\"color\":\"#FFA15A\",\"opacity\":0.5,\"symbol\":\"circle\"},\"mode\":\"markers\",\"name\":\"Cluster 4\",\"orientation\":\"v\",\"showlegend\":true,\"x\":[0.2339569539293467,-0.04760087566338863,0.4200019700884521,0.3071298201159739,0.3029435101187436,0.23417750997887748,0.22944948238709398,0.2440510816748923,0.012671801975977661,0.4196126094108742,0.3200645772375872,0.3769090009227286,0.27421496881147167,-0.0573043367677231,0.13276133089362183,0.432756601463385,0.4262593783536396,0.4708579684888598,0.3752451861591107,-0.15304546419504264,0.10836349308851129,-0.015301315617337025,0.42412679047370183,0.20455623897684722,0.24079969673089785,0.7206924895154387,0.4492071224815625,0.40994647080598806,0.3138346180986763,-0.04815840112971613,0.14166263743097368,0.05098714428991456,0.4086853376162123,-0.02430617785107031,0.24302668050736081,0.014221911379845206,0.08619074425664054,0.268654232425569,0.29574810277516195,0.23046760581771247,0.20307770090155328,0.19313300482210546,0.22836613364074457,0.2173044120017599,-0.22938327018966115,0.574733766724466,0.533068045733243,-0.11069432274793654,0.10470996541711539,-0.15415708313395526,0.22200055084790424,-0.06863321431549023,0.3580625745548703,0.22843064435005764,0.32782637402305914,0.39048243211305866,0.14248076054024983,0.46704741960656354,0.10015090672814998,0.41939999810333245,0.11017438441604883,0.1886534455664492,0.4717467165334152,0.25297559302998995,0.40319377494594544,0.49505500000745006,0.3880954533197921,0.18370795238168075,0.14987783471490704,0.18269464454382242,0.16150148801103809,-0.03367818987759715,0.4899909100776805,0.470402742813418,-0.09633293567621397,0.16539833779945554,0.34601027990822525,0.34747534778564027,0.2853175820548806,0.18708409504009724,0.03699655649374205,0.2905262592157218,0.2534949984394282,0.1079819084972925,-0.17843253697327557,0.28625480646659557,0.18176350487328632,0.16245405345980285,0.25870617603376783,-0.1374878126725732,0.07021001806088847,0.32955810175474637,0.3109793267163913,0.13527403086539172,0.2357552920773506,0.15203680877924422,0.3333764909069378,0.2857223152622026,0.1368969320142832,0.21406794406996385,0.024457731480087105,0.06669640833247258,0.5268484618876361,0.07082608217652632,0.10755104259987598,0.6209177796273915,-0.18547993140616173,0.4053831365577326,0.14711322768260127,0.1559687200491659,0.1898926911254186,0.5702847122284482,0.23536293605830866,0.3100718569574625,0.3956742558540018,0.3292128709411825,0.42774883345496856,0.4088934982537297,0.2528098247551937,-0.01918706326351514,0.38335889847256643,0.215847609700151,-0.0884356564062433,-0.017085394400111777,0.3379530615508683,0.38862967897900197],\"xaxis\":\"x\",\"y\":[1.6203935593284917,1.4687294476473323,1.579151125849965,1.5713309202800723,1.5526622020249556,1.460912995657525,1.4856662614493952,1.9799561709420028,1.8431367338776348,1.5081257564609076,1.439632272176084,1.654140519986686,1.6670982850467246,1.8753574874612198,1.6239620763416729,1.630341435147052,1.43081455778163,1.7797650101528035,1.79957114732993,1.7117805229656018,1.8203269548922107,1.792300973639756,1.652155893887287,1.7192415822105929,1.728855460150427,1.350852395647528,1.850005394960068,1.6457160200113277,1.5917902760458627,1.778221896367298,1.637903745525795,1.8996637903379139,1.9740726772901889,1.7425572756054553,1.6242223756932646,1.5946020915388959,1.6215237789267258,1.6683769187201256,1.3939504094346489,1.3890042364188562,1.7269874254785935,1.6485887320386272,1.3946960951346237,1.3840144713116411,1.8646990635027592,1.8315728608200967,1.5752059739870667,1.7989046071428356,1.7883369100459336,1.629954512785757,1.8694706537538353,1.5834940212505586,1.562804447744614,1.3602033073351614,1.6049146730237194,1.347047176845727,1.7697532475058286,1.9073392847817223,1.6948995367702562,1.7434932540225696,1.7275528351039258,1.626568552336558,1.8495581010669766,1.8050070559334659,1.6709257858407847,1.6722885899019209,1.4121023340577583,1.6274930606611877,1.6099944616725794,1.6082293630009554,1.1885110799135472,1.5181028540855577,1.7492547422359526,1.6505084641177998,1.3905682317427932,1.307485045964935,1.595979971676154,1.64459511864475,1.7974611512875212,1.5100587117890976,1.598023964357373,1.7901953904841927,1.6210649589932014,1.9551017959482688,1.5557085096903749,1.1386862990336828,1.5598097590207984,1.4691569045918424,1.6856596988448178,1.9393261032562328,1.9697401166278399,1.575530203365142,1.5576452851593503,1.713627357171947,1.290231445194519,1.7482436217107917,1.4389177834699087,1.8709051196978235,1.622483653095855,1.4915248779052883,1.8809435326607977,1.735620133882849,1.707431842357302,1.677686740307086,1.4363191296982472,1.5672685856356077,1.6505739051015142,1.7628075982504308,1.6852232384430972,1.5906017920090876,1.7329710142513877,1.6086501450933868,1.5278631091379475,1.906840055431285,1.6332620434691147,1.6238566951008393,1.7193221511506933,1.411554987717098,1.8908250036218406,1.4381686133010123,1.6070736167135975,1.7098543670336448,1.8279335923121078,1.642421621906374,1.5676659850444277,1.7142458945666081],\"yaxis\":\"y\",\"type\":\"scatter\",\"textposition\":\"top center\"}],                        {\"template\":{\"data\":{\"histogram2dcontour\":[{\"type\":\"histogram2dcontour\",\"colorbar\":{\"outlinewidth\":0,\"ticks\":\"\"},\"colorscale\":[[0.0,\"#0d0887\"],[0.1111111111111111,\"#46039f\"],[0.2222222222222222,\"#7201a8\"],[0.3333333333333333,\"#9c179e\"],[0.4444444444444444,\"#bd3786\"],[0.5555555555555556,\"#d8576b\"],[0.6666666666666666,\"#ed7953\"],[0.7777777777777778,\"#fb9f3a\"],[0.8888888888888888,\"#fdca26\"],[1.0,\"#f0f921\"]]}],\"choropleth\":[{\"type\":\"choropleth\",\"colorbar\":{\"outlinewidth\":0,\"ticks\":\"\"}}],\"histogram2d\":[{\"type\":\"histogram2d\",\"colorbar\":{\"outlinewidth\":0,\"ticks\":\"\"},\"colorscale\":[[0.0,\"#0d0887\"],[0.1111111111111111,\"#46039f\"],[0.2222222222222222,\"#7201a8\"],[0.3333333333333333,\"#9c179e\"],[0.4444444444444444,\"#bd3786\"],[0.5555555555555556,\"#d8576b\"],[0.6666666666666666,\"#ed7953\"],[0.7777777777777778,\"#fb9f3a\"],[0.8888888888888888,\"#fdca26\"],[1.0,\"#f0f921\"]]}],\"heatmap\":[{\"type\":\"heatmap\",\"colorbar\":{\"outlinewidth\":0,\"ticks\":\"\"},\"colorscale\":[[0.0,\"#0d0887\"],[0.1111111111111111,\"#46039f\"],[0.2222222222222222,\"#7201a8\"],[0.3333333333333333,\"#9c179e\"],[0.4444444444444444,\"#bd3786\"],[0.5555555555555556,\"#d8576b\"],[0.6666666666666666,\"#ed7953\"],[0.7777777777777778,\"#fb9f3a\"],[0.8888888888888888,\"#fdca26\"],[1.0,\"#f0f921\"]]}],\"heatmapgl\":[{\"type\":\"heatmapgl\",\"colorbar\":{\"outlinewidth\":0,\"ticks\":\"\"},\"colorscale\":[[0.0,\"#0d0887\"],[0.1111111111111111,\"#46039f\"],[0.2222222222222222,\"#7201a8\"],[0.3333333333333333,\"#9c179e\"],[0.4444444444444444,\"#bd3786\"],[0.5555555555555556,\"#d8576b\"],[0.6666666666666666,\"#ed7953\"],[0.7777777777777778,\"#fb9f3a\"],[0.8888888888888888,\"#fdca26\"],[1.0,\"#f0f921\"]]}],\"contourcarpet\":[{\"type\":\"contourcarpet\",\"colorbar\":{\"outlinewidth\":0,\"ticks\":\"\"}}],\"contour\":[{\"type\":\"contour\",\"colorbar\":{\"outlinewidth\":0,\"ticks\":\"\"},\"colorscale\":[[0.0,\"#0d0887\"],[0.1111111111111111,\"#46039f\"],[0.2222222222222222,\"#7201a8\"],[0.3333333333333333,\"#9c179e\"],[0.4444444444444444,\"#bd3786\"],[0.5555555555555556,\"#d8576b\"],[0.6666666666666666,\"#ed7953\"],[0.7777777777777778,\"#fb9f3a\"],[0.8888888888888888,\"#fdca26\"],[1.0,\"#f0f921\"]]}],\"surface\":[{\"type\":\"surface\",\"colorbar\":{\"outlinewidth\":0,\"ticks\":\"\"},\"colorscale\":[[0.0,\"#0d0887\"],[0.1111111111111111,\"#46039f\"],[0.2222222222222222,\"#7201a8\"],[0.3333333333333333,\"#9c179e\"],[0.4444444444444444,\"#bd3786\"],[0.5555555555555556,\"#d8576b\"],[0.6666666666666666,\"#ed7953\"],[0.7777777777777778,\"#fb9f3a\"],[0.8888888888888888,\"#fdca26\"],[1.0,\"#f0f921\"]]}],\"mesh3d\":[{\"type\":\"mesh3d\",\"colorbar\":{\"outlinewidth\":0,\"ticks\":\"\"}}],\"scatter\":[{\"fillpattern\":{\"fillmode\":\"overlay\",\"size\":10,\"solidity\":0.2},\"type\":\"scatter\"}],\"parcoords\":[{\"type\":\"parcoords\",\"line\":{\"colorbar\":{\"outlinewidth\":0,\"ticks\":\"\"}}}],\"scatterpolargl\":[{\"type\":\"scatterpolargl\",\"marker\":{\"colorbar\":{\"outlinewidth\":0,\"ticks\":\"\"}}}],\"bar\":[{\"error_x\":{\"color\":\"#2a3f5f\"},\"error_y\":{\"color\":\"#2a3f5f\"},\"marker\":{\"line\":{\"color\":\"#E5ECF6\",\"width\":0.5},\"pattern\":{\"fillmode\":\"overlay\",\"size\":10,\"solidity\":0.2}},\"type\":\"bar\"}],\"scattergeo\":[{\"type\":\"scattergeo\",\"marker\":{\"colorbar\":{\"outlinewidth\":0,\"ticks\":\"\"}}}],\"scatterpolar\":[{\"type\":\"scatterpolar\",\"marker\":{\"colorbar\":{\"outlinewidth\":0,\"ticks\":\"\"}}}],\"histogram\":[{\"marker\":{\"pattern\":{\"fillmode\":\"overlay\",\"size\":10,\"solidity\":0.2}},\"type\":\"histogram\"}],\"scattergl\":[{\"type\":\"scattergl\",\"marker\":{\"colorbar\":{\"outlinewidth\":0,\"ticks\":\"\"}}}],\"scatter3d\":[{\"type\":\"scatter3d\",\"line\":{\"colorbar\":{\"outlinewidth\":0,\"ticks\":\"\"}},\"marker\":{\"colorbar\":{\"outlinewidth\":0,\"ticks\":\"\"}}}],\"scattermapbox\":[{\"type\":\"scattermapbox\",\"marker\":{\"colorbar\":{\"outlinewidth\":0,\"ticks\":\"\"}}}],\"scatterternary\":[{\"type\":\"scatterternary\",\"marker\":{\"colorbar\":{\"outlinewidth\":0,\"ticks\":\"\"}}}],\"scattercarpet\":[{\"type\":\"scattercarpet\",\"marker\":{\"colorbar\":{\"outlinewidth\":0,\"ticks\":\"\"}}}],\"carpet\":[{\"aaxis\":{\"endlinecolor\":\"#2a3f5f\",\"gridcolor\":\"white\",\"linecolor\":\"white\",\"minorgridcolor\":\"white\",\"startlinecolor\":\"#2a3f5f\"},\"baxis\":{\"endlinecolor\":\"#2a3f5f\",\"gridcolor\":\"white\",\"linecolor\":\"white\",\"minorgridcolor\":\"white\",\"startlinecolor\":\"#2a3f5f\"},\"type\":\"carpet\"}],\"table\":[{\"cells\":{\"fill\":{\"color\":\"#EBF0F8\"},\"line\":{\"color\":\"white\"}},\"header\":{\"fill\":{\"color\":\"#C8D4E3\"},\"line\":{\"color\":\"white\"}},\"type\":\"table\"}],\"barpolar\":[{\"marker\":{\"line\":{\"color\":\"#E5ECF6\",\"width\":0.5},\"pattern\":{\"fillmode\":\"overlay\",\"size\":10,\"solidity\":0.2}},\"type\":\"barpolar\"}],\"pie\":[{\"automargin\":true,\"type\":\"pie\"}]},\"layout\":{\"autotypenumbers\":\"strict\",\"colorway\":[\"#636efa\",\"#EF553B\",\"#00cc96\",\"#ab63fa\",\"#FFA15A\",\"#19d3f3\",\"#FF6692\",\"#B6E880\",\"#FF97FF\",\"#FECB52\"],\"font\":{\"color\":\"#2a3f5f\"},\"hovermode\":\"closest\",\"hoverlabel\":{\"align\":\"left\"},\"paper_bgcolor\":\"white\",\"plot_bgcolor\":\"#E5ECF6\",\"polar\":{\"bgcolor\":\"#E5ECF6\",\"angularaxis\":{\"gridcolor\":\"white\",\"linecolor\":\"white\",\"ticks\":\"\"},\"radialaxis\":{\"gridcolor\":\"white\",\"linecolor\":\"white\",\"ticks\":\"\"}},\"ternary\":{\"bgcolor\":\"#E5ECF6\",\"aaxis\":{\"gridcolor\":\"white\",\"linecolor\":\"white\",\"ticks\":\"\"},\"baxis\":{\"gridcolor\":\"white\",\"linecolor\":\"white\",\"ticks\":\"\"},\"caxis\":{\"gridcolor\":\"white\",\"linecolor\":\"white\",\"ticks\":\"\"}},\"coloraxis\":{\"colorbar\":{\"outlinewidth\":0,\"ticks\":\"\"}},\"colorscale\":{\"sequential\":[[0.0,\"#0d0887\"],[0.1111111111111111,\"#46039f\"],[0.2222222222222222,\"#7201a8\"],[0.3333333333333333,\"#9c179e\"],[0.4444444444444444,\"#bd3786\"],[0.5555555555555556,\"#d8576b\"],[0.6666666666666666,\"#ed7953\"],[0.7777777777777778,\"#fb9f3a\"],[0.8888888888888888,\"#fdca26\"],[1.0,\"#f0f921\"]],\"sequentialminus\":[[0.0,\"#0d0887\"],[0.1111111111111111,\"#46039f\"],[0.2222222222222222,\"#7201a8\"],[0.3333333333333333,\"#9c179e\"],[0.4444444444444444,\"#bd3786\"],[0.5555555555555556,\"#d8576b\"],[0.6666666666666666,\"#ed7953\"],[0.7777777777777778,\"#fb9f3a\"],[0.8888888888888888,\"#fdca26\"],[1.0,\"#f0f921\"]],\"diverging\":[[0,\"#8e0152\"],[0.1,\"#c51b7d\"],[0.2,\"#de77ae\"],[0.3,\"#f1b6da\"],[0.4,\"#fde0ef\"],[0.5,\"#f7f7f7\"],[0.6,\"#e6f5d0\"],[0.7,\"#b8e186\"],[0.8,\"#7fbc41\"],[0.9,\"#4d9221\"],[1,\"#276419\"]]},\"xaxis\":{\"gridcolor\":\"white\",\"linecolor\":\"white\",\"ticks\":\"\",\"title\":{\"standoff\":15},\"zerolinecolor\":\"white\",\"automargin\":true,\"zerolinewidth\":2},\"yaxis\":{\"gridcolor\":\"white\",\"linecolor\":\"white\",\"ticks\":\"\",\"title\":{\"standoff\":15},\"zerolinecolor\":\"white\",\"automargin\":true,\"zerolinewidth\":2},\"scene\":{\"xaxis\":{\"backgroundcolor\":\"#E5ECF6\",\"gridcolor\":\"white\",\"linecolor\":\"white\",\"showbackground\":true,\"ticks\":\"\",\"zerolinecolor\":\"white\",\"gridwidth\":2},\"yaxis\":{\"backgroundcolor\":\"#E5ECF6\",\"gridcolor\":\"white\",\"linecolor\":\"white\",\"showbackground\":true,\"ticks\":\"\",\"zerolinecolor\":\"white\",\"gridwidth\":2},\"zaxis\":{\"backgroundcolor\":\"#E5ECF6\",\"gridcolor\":\"white\",\"linecolor\":\"white\",\"showbackground\":true,\"ticks\":\"\",\"zerolinecolor\":\"white\",\"gridwidth\":2}},\"shapedefaults\":{\"line\":{\"color\":\"#2a3f5f\"}},\"annotationdefaults\":{\"arrowcolor\":\"#2a3f5f\",\"arrowhead\":0,\"arrowwidth\":1},\"geo\":{\"bgcolor\":\"white\",\"landcolor\":\"#E5ECF6\",\"subunitcolor\":\"white\",\"showland\":true,\"showlakes\":true,\"lakecolor\":\"white\"},\"title\":{\"x\":0.05},\"mapbox\":{\"style\":\"light\"}}},\"xaxis\":{\"anchor\":\"y\",\"domain\":[0.0,1.0],\"title\":{\"text\":\"PCA1\"}},\"yaxis\":{\"anchor\":\"x\",\"domain\":[0.0,1.0],\"title\":{\"text\":\"PCA2\"}},\"legend\":{\"title\":{\"text\":\"Cluster\"},\"tracegroupgap\":0},\"margin\":{\"t\":60},\"plot_bgcolor\":\"rgb(240,240,240)\",\"title\":{\"text\":\"2D Cluster PCA Plot\"},\"height\":600},                        {\"responsive\": true}                    ).then(function(){\n",
              "                            \n",
              "var gd = document.getElementById('bd26cc92-9354-463c-b433-9d7f17ce1288');\n",
              "var x = new MutationObserver(function (mutations, observer) {{\n",
              "        var display = window.getComputedStyle(gd).display;\n",
              "        if (!display || display === 'none') {{\n",
              "            console.log([gd, 'removed!']);\n",
              "            Plotly.purge(gd);\n",
              "            observer.disconnect();\n",
              "        }}\n",
              "}});\n",
              "\n",
              "// Listen for the removal of the full notebook cells\n",
              "var notebookContainer = gd.closest('#notebook-container');\n",
              "if (notebookContainer) {{\n",
              "    x.observe(notebookContainer, {childList: true});\n",
              "}}\n",
              "\n",
              "// Listen for the clearing of the current output cell\n",
              "var outputEl = gd.closest('.output');\n",
              "if (outputEl) {{\n",
              "    x.observe(outputEl, {childList: true});\n",
              "}}\n",
              "\n",
              "                        })                };                            </script>        </div>\n",
              "</body>\n",
              "</html>"
            ]
          },
          "metadata": {}
        }
      ]
    },
    {
      "cell_type": "code",
      "source": [
        "save_model(dbscan, 'dbscan_model')"
      ],
      "metadata": {
        "colab": {
          "base_uri": "https://localhost:8080/"
        },
        "id": "SwlxY4mj3xQ9",
        "outputId": "790125bf-58ff-40b9-8ab0-890eb0c7d57f"
      },
      "execution_count": 7,
      "outputs": [
        {
          "output_type": "stream",
          "name": "stdout",
          "text": [
            "Transformation Pipeline and Model Successfully Saved\n"
          ]
        },
        {
          "output_type": "execute_result",
          "data": {
            "text/plain": [
              "(Pipeline(memory=Memory(location=None),\n",
              "          steps=[('numerical_imputer',\n",
              "                  TransformerWrapper(include=['Age', 'Income', 'SpendingScore',\n",
              "                                              'Savings'],\n",
              "                                     transformer=SimpleImputer())),\n",
              "                 ('categorical_imputer',\n",
              "                  TransformerWrapper(include=[],\n",
              "                                     transformer=SimpleImputer(strategy='most_frequent'))),\n",
              "                 ('normalize', TransformerWrapper(transformer=StandardScaler())),\n",
              "                 ('trained_model', DBSCAN(n_jobs=-1))]),\n",
              " 'dbscan_model.pkl')"
            ]
          },
          "metadata": {},
          "execution_count": 7
        }
      ]
    },
    {
      "cell_type": "code",
      "source": [
        "saved_dbscan = load_model('dbscan_model')"
      ],
      "metadata": {
        "colab": {
          "base_uri": "https://localhost:8080/"
        },
        "id": "Kfw2-Vqh3y_S",
        "outputId": "b3fa88fa-4131-40a4-cd1d-bd476af67245"
      },
      "execution_count": 8,
      "outputs": [
        {
          "output_type": "stream",
          "name": "stdout",
          "text": [
            "Transformation Pipeline and Model Successfully Loaded\n"
          ]
        }
      ]
    },
    {
      "cell_type": "code",
      "source": [
        "clu1 = setup(data,\n",
        "             normalize=True,\n",
        "             ignore_features=['ID'],\n",
        "             remove_multicollinearity=True,  # Remove multicollinear features\n",
        "             multicollinearity_threshold=0.9,  # Threshold for multicollinearity\n",
        "             session_id=123)"
      ],
      "metadata": {
        "colab": {
          "base_uri": "https://localhost:8080/",
          "height": 614
        },
        "id": "CxqqAd2y4kzt",
        "outputId": "be17031f-3136-4307-bb18-1b64a1567fc9"
      },
      "execution_count": 11,
      "outputs": [
        {
          "output_type": "display_data",
          "data": {
            "text/plain": [
              "<pandas.io.formats.style.Styler at 0x7f96c9665840>"
            ],
            "text/html": [
              "<style type=\"text/css\">\n",
              "#T_18183_row5_col1, #T_18183_row9_col1, #T_18183_row11_col1 {\n",
              "  background-color: lightgreen;\n",
              "}\n",
              "</style>\n",
              "<table id=\"T_18183\" class=\"dataframe\">\n",
              "  <thead>\n",
              "    <tr>\n",
              "      <th class=\"blank level0\" >&nbsp;</th>\n",
              "      <th id=\"T_18183_level0_col0\" class=\"col_heading level0 col0\" >Description</th>\n",
              "      <th id=\"T_18183_level0_col1\" class=\"col_heading level0 col1\" >Value</th>\n",
              "    </tr>\n",
              "  </thead>\n",
              "  <tbody>\n",
              "    <tr>\n",
              "      <th id=\"T_18183_level0_row0\" class=\"row_heading level0 row0\" >0</th>\n",
              "      <td id=\"T_18183_row0_col0\" class=\"data row0 col0\" >Session id</td>\n",
              "      <td id=\"T_18183_row0_col1\" class=\"data row0 col1\" >123</td>\n",
              "    </tr>\n",
              "    <tr>\n",
              "      <th id=\"T_18183_level0_row1\" class=\"row_heading level0 row1\" >1</th>\n",
              "      <td id=\"T_18183_row1_col0\" class=\"data row1 col0\" >Original data shape</td>\n",
              "      <td id=\"T_18183_row1_col1\" class=\"data row1 col1\" >(505, 4)</td>\n",
              "    </tr>\n",
              "    <tr>\n",
              "      <th id=\"T_18183_level0_row2\" class=\"row_heading level0 row2\" >2</th>\n",
              "      <td id=\"T_18183_row2_col0\" class=\"data row2 col0\" >Transformed data shape</td>\n",
              "      <td id=\"T_18183_row2_col1\" class=\"data row2 col1\" >(505, 4)</td>\n",
              "    </tr>\n",
              "    <tr>\n",
              "      <th id=\"T_18183_level0_row3\" class=\"row_heading level0 row3\" >3</th>\n",
              "      <td id=\"T_18183_row3_col0\" class=\"data row3 col0\" >Ignore features</td>\n",
              "      <td id=\"T_18183_row3_col1\" class=\"data row3 col1\" >1</td>\n",
              "    </tr>\n",
              "    <tr>\n",
              "      <th id=\"T_18183_level0_row4\" class=\"row_heading level0 row4\" >4</th>\n",
              "      <td id=\"T_18183_row4_col0\" class=\"data row4 col0\" >Numeric features</td>\n",
              "      <td id=\"T_18183_row4_col1\" class=\"data row4 col1\" >4</td>\n",
              "    </tr>\n",
              "    <tr>\n",
              "      <th id=\"T_18183_level0_row5\" class=\"row_heading level0 row5\" >5</th>\n",
              "      <td id=\"T_18183_row5_col0\" class=\"data row5 col0\" >Preprocess</td>\n",
              "      <td id=\"T_18183_row5_col1\" class=\"data row5 col1\" >True</td>\n",
              "    </tr>\n",
              "    <tr>\n",
              "      <th id=\"T_18183_level0_row6\" class=\"row_heading level0 row6\" >6</th>\n",
              "      <td id=\"T_18183_row6_col0\" class=\"data row6 col0\" >Imputation type</td>\n",
              "      <td id=\"T_18183_row6_col1\" class=\"data row6 col1\" >simple</td>\n",
              "    </tr>\n",
              "    <tr>\n",
              "      <th id=\"T_18183_level0_row7\" class=\"row_heading level0 row7\" >7</th>\n",
              "      <td id=\"T_18183_row7_col0\" class=\"data row7 col0\" >Numeric imputation</td>\n",
              "      <td id=\"T_18183_row7_col1\" class=\"data row7 col1\" >mean</td>\n",
              "    </tr>\n",
              "    <tr>\n",
              "      <th id=\"T_18183_level0_row8\" class=\"row_heading level0 row8\" >8</th>\n",
              "      <td id=\"T_18183_row8_col0\" class=\"data row8 col0\" >Categorical imputation</td>\n",
              "      <td id=\"T_18183_row8_col1\" class=\"data row8 col1\" >mode</td>\n",
              "    </tr>\n",
              "    <tr>\n",
              "      <th id=\"T_18183_level0_row9\" class=\"row_heading level0 row9\" >9</th>\n",
              "      <td id=\"T_18183_row9_col0\" class=\"data row9 col0\" >Remove multicollinearity</td>\n",
              "      <td id=\"T_18183_row9_col1\" class=\"data row9 col1\" >True</td>\n",
              "    </tr>\n",
              "    <tr>\n",
              "      <th id=\"T_18183_level0_row10\" class=\"row_heading level0 row10\" >10</th>\n",
              "      <td id=\"T_18183_row10_col0\" class=\"data row10 col0\" >Multicollinearity threshold</td>\n",
              "      <td id=\"T_18183_row10_col1\" class=\"data row10 col1\" >0.900000</td>\n",
              "    </tr>\n",
              "    <tr>\n",
              "      <th id=\"T_18183_level0_row11\" class=\"row_heading level0 row11\" >11</th>\n",
              "      <td id=\"T_18183_row11_col0\" class=\"data row11 col0\" >Normalize</td>\n",
              "      <td id=\"T_18183_row11_col1\" class=\"data row11 col1\" >True</td>\n",
              "    </tr>\n",
              "    <tr>\n",
              "      <th id=\"T_18183_level0_row12\" class=\"row_heading level0 row12\" >12</th>\n",
              "      <td id=\"T_18183_row12_col0\" class=\"data row12 col0\" >Normalize method</td>\n",
              "      <td id=\"T_18183_row12_col1\" class=\"data row12 col1\" >zscore</td>\n",
              "    </tr>\n",
              "    <tr>\n",
              "      <th id=\"T_18183_level0_row13\" class=\"row_heading level0 row13\" >13</th>\n",
              "      <td id=\"T_18183_row13_col0\" class=\"data row13 col0\" >CPU Jobs</td>\n",
              "      <td id=\"T_18183_row13_col1\" class=\"data row13 col1\" >-1</td>\n",
              "    </tr>\n",
              "    <tr>\n",
              "      <th id=\"T_18183_level0_row14\" class=\"row_heading level0 row14\" >14</th>\n",
              "      <td id=\"T_18183_row14_col0\" class=\"data row14 col0\" >Use GPU</td>\n",
              "      <td id=\"T_18183_row14_col1\" class=\"data row14 col1\" >False</td>\n",
              "    </tr>\n",
              "    <tr>\n",
              "      <th id=\"T_18183_level0_row15\" class=\"row_heading level0 row15\" >15</th>\n",
              "      <td id=\"T_18183_row15_col0\" class=\"data row15 col0\" >Log Experiment</td>\n",
              "      <td id=\"T_18183_row15_col1\" class=\"data row15 col1\" >False</td>\n",
              "    </tr>\n",
              "    <tr>\n",
              "      <th id=\"T_18183_level0_row16\" class=\"row_heading level0 row16\" >16</th>\n",
              "      <td id=\"T_18183_row16_col0\" class=\"data row16 col0\" >Experiment Name</td>\n",
              "      <td id=\"T_18183_row16_col1\" class=\"data row16 col1\" >cluster-default-name</td>\n",
              "    </tr>\n",
              "    <tr>\n",
              "      <th id=\"T_18183_level0_row17\" class=\"row_heading level0 row17\" >17</th>\n",
              "      <td id=\"T_18183_row17_col0\" class=\"data row17 col0\" >USI</td>\n",
              "      <td id=\"T_18183_row17_col1\" class=\"data row17 col1\" >c2a0</td>\n",
              "    </tr>\n",
              "  </tbody>\n",
              "</table>\n"
            ]
          },
          "metadata": {}
        }
      ]
    },
    {
      "cell_type": "code",
      "source": [
        "dbscan = create_model('dbscan', eps=0.3, min_samples=15)"
      ],
      "metadata": {
        "colab": {
          "base_uri": "https://localhost:8080/",
          "height": 81,
          "referenced_widgets": [
            "1fb9fdf3fc1641d5b4ef2206fa98cc51",
            "2040a509cd3a426f83830c2151201823",
            "19e9e1dfa85c425d970157c153451638",
            "dbd5853b6e19448eba91fc0e27f57594",
            "73aa7aa99e504377b432d4d7c4191059",
            "12d82c0264f548f8bcb93115c2376660",
            "db32148248c14c9ebd0df88ea41b43e4",
            "656c07daaafe44adae1bfefd43553e80",
            "d0e5c7a215c244eb979de3da7663644d",
            "ab8ec5a334fa4b538aabbaaa741aa4f2",
            "280b06bc6f4448169ef4e8afaf6e202b"
          ]
        },
        "id": "0ACm-L1p4pJk",
        "outputId": "05708aa3-da08-4a69-a86b-731fe3c8684d"
      },
      "execution_count": 12,
      "outputs": [
        {
          "output_type": "display_data",
          "data": {
            "text/plain": [
              "<IPython.core.display.HTML object>"
            ],
            "text/html": []
          },
          "metadata": {}
        },
        {
          "output_type": "display_data",
          "data": {
            "text/plain": [
              "<pandas.io.formats.style.Styler at 0x7f96e3f18b20>"
            ],
            "text/html": [
              "<style type=\"text/css\">\n",
              "</style>\n",
              "<table id=\"T_87786\" class=\"dataframe\">\n",
              "  <thead>\n",
              "    <tr>\n",
              "      <th class=\"blank level0\" >&nbsp;</th>\n",
              "      <th id=\"T_87786_level0_col0\" class=\"col_heading level0 col0\" >Silhouette</th>\n",
              "      <th id=\"T_87786_level0_col1\" class=\"col_heading level0 col1\" >Calinski-Harabasz</th>\n",
              "      <th id=\"T_87786_level0_col2\" class=\"col_heading level0 col2\" >Davies-Bouldin</th>\n",
              "      <th id=\"T_87786_level0_col3\" class=\"col_heading level0 col3\" >Homogeneity</th>\n",
              "      <th id=\"T_87786_level0_col4\" class=\"col_heading level0 col4\" >Rand Index</th>\n",
              "      <th id=\"T_87786_level0_col5\" class=\"col_heading level0 col5\" >Completeness</th>\n",
              "    </tr>\n",
              "  </thead>\n",
              "  <tbody>\n",
              "    <tr>\n",
              "      <th id=\"T_87786_level0_row0\" class=\"row_heading level0 row0\" >0</th>\n",
              "      <td id=\"T_87786_row0_col0\" class=\"data row0 col0\" >0.6259</td>\n",
              "      <td id=\"T_87786_row0_col1\" class=\"data row0 col1\" >413.6964</td>\n",
              "      <td id=\"T_87786_row0_col2\" class=\"data row0 col2\" >1.4388</td>\n",
              "      <td id=\"T_87786_row0_col3\" class=\"data row0 col3\" >0</td>\n",
              "      <td id=\"T_87786_row0_col4\" class=\"data row0 col4\" >0</td>\n",
              "      <td id=\"T_87786_row0_col5\" class=\"data row0 col5\" >0</td>\n",
              "    </tr>\n",
              "  </tbody>\n",
              "</table>\n"
            ]
          },
          "metadata": {}
        },
        {
          "output_type": "display_data",
          "data": {
            "text/plain": [
              "Processing:   0%|          | 0/3 [00:00<?, ?it/s]"
            ],
            "application/vnd.jupyter.widget-view+json": {
              "version_major": 2,
              "version_minor": 0,
              "model_id": "1fb9fdf3fc1641d5b4ef2206fa98cc51"
            }
          },
          "metadata": {
            "application/vnd.jupyter.widget-view+json": {
              "colab": {
                "custom_widget_manager": {
                  "url": "https://ssl.gstatic.com/colaboratory-static/widgets/colab-cdn-widget-manager/b3e629b1971e1542/manager.min.js"
                }
              }
            }
          }
        },
        {
          "output_type": "display_data",
          "data": {
            "text/plain": [
              "<IPython.core.display.HTML object>"
            ],
            "text/html": []
          },
          "metadata": {}
        }
      ]
    },
    {
      "cell_type": "code",
      "source": [
        "dbscan_results = assign_model(dbscan)"
      ],
      "metadata": {
        "id": "BgT76rzy4o9H"
      },
      "execution_count": 13,
      "outputs": []
    },
    {
      "cell_type": "code",
      "source": [
        "evaluate_model(dbscan)"
      ],
      "metadata": {
        "colab": {
          "base_uri": "https://localhost:8080/",
          "height": 158,
          "referenced_widgets": [
            "10ea6fa0b6a04b648f26fa6543c69e5a",
            "e05c5b9325724040a054cecdc52a10ea",
            "9ee9fcf2e28045498b33cf41d8fa2726",
            "9b3be4c54504469d8e551726989f2abb",
            "e21e2dc9b9ee4b65af5b3bf54f4c617a",
            "88682e665ba84fdab67a85d12a7c2c36",
            "7ff1d891d1f041879e9763e644e926da"
          ]
        },
        "id": "1eZU-SZI4o31",
        "outputId": "b52eabd0-654a-484c-eeb1-f943dc1fd047"
      },
      "execution_count": 14,
      "outputs": [
        {
          "output_type": "display_data",
          "data": {
            "text/plain": [
              "interactive(children=(ToggleButtons(description='Plot Type:', icons=('',), options=(('Pipeline Plot', 'pipelin…"
            ],
            "application/vnd.jupyter.widget-view+json": {
              "version_major": 2,
              "version_minor": 0,
              "model_id": "10ea6fa0b6a04b648f26fa6543c69e5a"
            }
          },
          "metadata": {
            "application/vnd.jupyter.widget-view+json": {
              "colab": {
                "custom_widget_manager": {
                  "url": "https://ssl.gstatic.com/colaboratory-static/widgets/colab-cdn-widget-manager/b3e629b1971e1542/manager.min.js"
                }
              }
            }
          }
        }
      ]
    },
    {
      "cell_type": "code",
      "source": [
        "plot_model(dbscan, plot='distribution')"
      ],
      "metadata": {
        "colab": {
          "base_uri": "https://localhost:8080/",
          "height": 617
        },
        "id": "yWhKWZHo30lc",
        "outputId": "fb81a962-eb62-4a65-f374-d6dadb481cb3"
      },
      "execution_count": 16,
      "outputs": [
        {
          "output_type": "display_data",
          "data": {
            "text/plain": [
              "<IPython.core.display.HTML object>"
            ],
            "text/html": []
          },
          "metadata": {}
        },
        {
          "output_type": "display_data",
          "data": {
            "text/html": [
              "<html>\n",
              "<head><meta charset=\"utf-8\" /></head>\n",
              "<body>\n",
              "    <div>            <script src=\"https://cdnjs.cloudflare.com/ajax/libs/mathjax/2.7.5/MathJax.js?config=TeX-AMS-MML_SVG\"></script><script type=\"text/javascript\">if (window.MathJax && window.MathJax.Hub && window.MathJax.Hub.Config) {window.MathJax.Hub.Config({SVG: {font: \"STIX-Web\"}});}</script>                <script type=\"text/javascript\">window.PlotlyConfig = {MathJaxConfig: 'local'};</script>\n",
              "        <script charset=\"utf-8\" src=\"https://cdn.plot.ly/plotly-2.24.1.min.js\"></script>                <div id=\"4da61aaa-8916-4d01-a468-b7ae86808ab9\" class=\"plotly-graph-div\" style=\"height:600px; width:100%;\"></div>            <script type=\"text/javascript\">                                    window.PLOTLYENV=window.PLOTLYENV || {};                                    if (document.getElementById(\"4da61aaa-8916-4d01-a468-b7ae86808ab9\")) {                    Plotly.newPlot(                        \"4da61aaa-8916-4d01-a468-b7ae86808ab9\",                        [{\"alignmentgroup\":\"True\",\"bingroup\":\"x\",\"hovertemplate\":\"Cluster=%{x}\\u003cbr\\u003ecount=%{y}\\u003cextra\\u003e\\u003c\\u002fextra\\u003e\",\"legendgroup\":\"Cluster -1\",\"marker\":{\"color\":\"#636efa\",\"opacity\":0.7,\"pattern\":{\"shape\":\"\"}},\"name\":\"Cluster -1\",\"offsetgroup\":\"Cluster -1\",\"orientation\":\"v\",\"showlegend\":true,\"x\":[\"Cluster -1\",\"Cluster -1\",\"Cluster -1\",\"Cluster -1\",\"Cluster -1\",\"Cluster -1\",\"Cluster -1\",\"Cluster -1\",\"Cluster -1\",\"Cluster -1\",\"Cluster -1\",\"Cluster -1\",\"Cluster -1\",\"Cluster -1\",\"Cluster -1\",\"Cluster -1\",\"Cluster -1\",\"Cluster -1\",\"Cluster -1\",\"Cluster -1\",\"Cluster -1\",\"Cluster -1\",\"Cluster -1\",\"Cluster -1\",\"Cluster -1\",\"Cluster -1\",\"Cluster -1\",\"Cluster -1\",\"Cluster -1\",\"Cluster -1\",\"Cluster -1\",\"Cluster -1\",\"Cluster -1\",\"Cluster -1\",\"Cluster -1\",\"Cluster -1\",\"Cluster -1\",\"Cluster -1\",\"Cluster -1\",\"Cluster -1\",\"Cluster -1\",\"Cluster -1\",\"Cluster -1\",\"Cluster -1\",\"Cluster -1\",\"Cluster -1\",\"Cluster -1\",\"Cluster -1\",\"Cluster -1\",\"Cluster -1\",\"Cluster -1\",\"Cluster -1\",\"Cluster -1\",\"Cluster -1\",\"Cluster -1\",\"Cluster -1\",\"Cluster -1\",\"Cluster -1\",\"Cluster -1\",\"Cluster -1\",\"Cluster -1\",\"Cluster -1\",\"Cluster -1\",\"Cluster -1\",\"Cluster -1\",\"Cluster -1\",\"Cluster -1\",\"Cluster -1\",\"Cluster -1\",\"Cluster -1\",\"Cluster -1\",\"Cluster -1\",\"Cluster -1\"],\"xaxis\":\"x\",\"yaxis\":\"y\",\"type\":\"histogram\"},{\"alignmentgroup\":\"True\",\"customdata\":[[25.0,120957.0,0.8776734471321106,5590.447265625],[91.0,118794.0,0.019212065264582634,14047.388671875],[77.0,128596.0,0.04082407057285309,14503.4111328125],[63.0,67370.0,0.899940550327301,5985.0771484375],[21.0,123678.0,0.8320252895355225,2838.81591796875],[90.0,117668.0,0.0827227458357811,12554.6923828125],[91.0,36991.0,0.26859790086746216,19047.771484375],[28.0,117108.0,0.857078492641449,4749.87939453125],[84.0,110582.0,0.07904903590679169,14937.9951171875],[29.0,122264.0,0.8985788226127625,2494.55615234375],[28.0,123153.0,0.9842407703399658,3697.513671875],[87.0,117564.0,0.12827959656715393,14000.2490234375],[82.0,126257.0,0.07809619605541229,15816.1015625],[20.0,129469.0,0.9399954080581665,5522.5732421875],[27.0,121468.0,0.920648992061615,5011.1123046875],[28.0,121216.0,0.8569692969322205,5349.0654296875],[88.0,123651.0,0.029027139768004417,13504.5771484375],[26.0,125662.0,0.9268183708190918,6089.478515625],[83.0,119429.0,0.04215480014681816,15607.5615234375],[38.0,94775.0,0.3803901970386505,16867.130859375],[18.0,130813.0,0.8908912539482117,5256.4345703125],[59.0,74576.0,0.7812961339950562,10547.775390625],[64.0,88361.0,0.7745562195777893,7240.759765625],[90.0,124170.0,0.030751314014196396,14773.4072265625],[89.0,24520.0,0.4438326954841614,13556.935546875],[29.0,91375.0,0.23545043170452118,13104.962890625],[83.0,117347.0,0.15569409728050232,15086.701171875],[87.0,46910.0,0.3085617125034332,14789.1484375],[86.0,35998.0,0.3216356337070465,20000.0],[85.0,118169.0,0.1231960579752922,14855.951171875],[88.0,114767.0,0.03220754116773605,17833.09375],[84.0,114406.0,0.12383837252855301,16840.5703125],[22.0,120525.0,1.0,5495.16552734375],[24.0,136644.0,0.8716976642608643,1617.2257080078125],[82.0,24221.0,0.47354966402053833,16251.759765625],[29.0,142000.0,0.9400873184204102,5349.8212890625],[17.0,134734.0,0.8579216599464417,0.0],[34.0,89598.0,0.340152382850647,12832.7685546875],[84.0,115237.0,0.06877820938825607,14396.568359375],[84.0,27544.0,0.2309337705373764,18207.361328125],[82.0,121642.0,0.054653190076351166,14177.513671875],[83.0,117943.0,0.07721324265003204,15391.9521484375],[87.0,15671.0,0.35072508454322815,14326.6015625],[43.0,101641.0,0.38198381662368774,14424.09765625],[20.0,129142.0,0.8870519995689392,5603.12109375],[31.0,107932.0,0.3742421865463257,12207.5263671875],[93.0,126601.0,0.02517016977071762,14117.447265625],[17.0,134966.0,0.9072421789169312,4128.044921875],[26.0,127320.0,0.8250297904014587,5495.64208984375],[89.0,119697.0,0.09167920053005219,16215.3994140625],[17.0,123828.0,0.9420129060745239,3798.84033203125],[28.0,127699.0,0.8814245462417603,5490.81494140625],[84.0,122696.0,0.08218683302402496,13809.734375],[86.0,115689.0,0.057842954993247986,14803.1533203125],[88.0,120678.0,0.06327284872531891,14264.4736328125],[18.0,123718.0,0.8065528869628906,4420.44580078125],[92.0,122879.0,0.060724034905433655,13709.669921875],[31.0,122924.0,0.8904602527618408,3071.944580078125],[85.0,111389.0,0.03679536283016205,16009.2373046875],[27.0,125008.0,0.9596453905105591,2963.6376953125],[88.0,17388.0,0.466189444065094,16698.62109375],[26.0,123005.0,0.9845262169837952,4371.23486328125],[30.0,98030.0,0.4111117124557495,16316.8427734375],[93.0,19934.0,0.2031402438879013,17969.693359375],[28.0,123229.0,0.8733219504356384,610.4462280273438],[24.0,120465.0,0.9074853658676147,4838.34814453125],[30.0,122788.0,0.8728724122047424,5706.1494140625],[22.0,109152.0,0.3234464228153229,16022.482421875],[85.0,27599.0,0.2819950580596924,13470.970703125],[86.0,124372.0,0.0,15374.4658203125],[17.0,136255.0,0.9358761310577393,4126.2265625],[86.0,46977.0,0.2827284038066864,15628.95703125],[86.0,128378.0,0.1260834038257599,13585.7783203125]],\"hovertemplate\":\"Cluster=%{x}\\u003cbr\\u003eAge=%{customdata[0]}\\u003cbr\\u003eIncome=%{customdata[1]}\\u003cbr\\u003eSpendingScore=%{customdata[2]}\\u003cbr\\u003eSavings=%{customdata[3]}\\u003cextra\\u003e\\u003c\\u002fextra\\u003e\",\"legendgroup\":\"Cluster -1\",\"marker\":{\"color\":\"#636efa\"},\"name\":\"Cluster -1\",\"notched\":true,\"offsetgroup\":\"Cluster -1\",\"showlegend\":false,\"x\":[\"Cluster -1\",\"Cluster -1\",\"Cluster -1\",\"Cluster -1\",\"Cluster -1\",\"Cluster -1\",\"Cluster -1\",\"Cluster -1\",\"Cluster -1\",\"Cluster -1\",\"Cluster -1\",\"Cluster -1\",\"Cluster -1\",\"Cluster -1\",\"Cluster -1\",\"Cluster -1\",\"Cluster -1\",\"Cluster -1\",\"Cluster -1\",\"Cluster -1\",\"Cluster -1\",\"Cluster -1\",\"Cluster -1\",\"Cluster -1\",\"Cluster -1\",\"Cluster -1\",\"Cluster -1\",\"Cluster -1\",\"Cluster -1\",\"Cluster -1\",\"Cluster -1\",\"Cluster -1\",\"Cluster -1\",\"Cluster -1\",\"Cluster -1\",\"Cluster -1\",\"Cluster -1\",\"Cluster -1\",\"Cluster -1\",\"Cluster -1\",\"Cluster -1\",\"Cluster -1\",\"Cluster -1\",\"Cluster -1\",\"Cluster -1\",\"Cluster -1\",\"Cluster -1\",\"Cluster -1\",\"Cluster -1\",\"Cluster -1\",\"Cluster -1\",\"Cluster -1\",\"Cluster -1\",\"Cluster -1\",\"Cluster -1\",\"Cluster -1\",\"Cluster -1\",\"Cluster -1\",\"Cluster -1\",\"Cluster -1\",\"Cluster -1\",\"Cluster -1\",\"Cluster -1\",\"Cluster -1\",\"Cluster -1\",\"Cluster -1\",\"Cluster -1\",\"Cluster -1\",\"Cluster -1\",\"Cluster -1\",\"Cluster -1\",\"Cluster -1\",\"Cluster -1\"],\"xaxis\":\"x2\",\"yaxis\":\"y2\",\"type\":\"box\"},{\"alignmentgroup\":\"True\",\"bingroup\":\"x\",\"hovertemplate\":\"Cluster=%{x}\\u003cbr\\u003ecount=%{y}\\u003cextra\\u003e\\u003c\\u002fextra\\u003e\",\"legendgroup\":\"Cluster 0\",\"marker\":{\"color\":\"#EF553B\",\"opacity\":0.7,\"pattern\":{\"shape\":\"\"}},\"name\":\"Cluster 0\",\"offsetgroup\":\"Cluster 0\",\"orientation\":\"v\",\"showlegend\":true,\"x\":[\"Cluster 0\",\"Cluster 0\",\"Cluster 0\",\"Cluster 0\",\"Cluster 0\",\"Cluster 0\",\"Cluster 0\",\"Cluster 0\",\"Cluster 0\",\"Cluster 0\",\"Cluster 0\",\"Cluster 0\",\"Cluster 0\",\"Cluster 0\",\"Cluster 0\",\"Cluster 0\",\"Cluster 0\",\"Cluster 0\",\"Cluster 0\",\"Cluster 0\",\"Cluster 0\",\"Cluster 0\",\"Cluster 0\",\"Cluster 0\",\"Cluster 0\",\"Cluster 0\",\"Cluster 0\",\"Cluster 0\",\"Cluster 0\",\"Cluster 0\",\"Cluster 0\",\"Cluster 0\",\"Cluster 0\",\"Cluster 0\",\"Cluster 0\",\"Cluster 0\",\"Cluster 0\",\"Cluster 0\",\"Cluster 0\",\"Cluster 0\",\"Cluster 0\",\"Cluster 0\",\"Cluster 0\",\"Cluster 0\",\"Cluster 0\",\"Cluster 0\",\"Cluster 0\",\"Cluster 0\",\"Cluster 0\",\"Cluster 0\",\"Cluster 0\",\"Cluster 0\",\"Cluster 0\",\"Cluster 0\",\"Cluster 0\",\"Cluster 0\",\"Cluster 0\",\"Cluster 0\",\"Cluster 0\",\"Cluster 0\",\"Cluster 0\",\"Cluster 0\",\"Cluster 0\",\"Cluster 0\",\"Cluster 0\",\"Cluster 0\",\"Cluster 0\",\"Cluster 0\",\"Cluster 0\",\"Cluster 0\",\"Cluster 0\",\"Cluster 0\",\"Cluster 0\",\"Cluster 0\",\"Cluster 0\",\"Cluster 0\",\"Cluster 0\",\"Cluster 0\",\"Cluster 0\",\"Cluster 0\",\"Cluster 0\",\"Cluster 0\",\"Cluster 0\",\"Cluster 0\",\"Cluster 0\",\"Cluster 0\",\"Cluster 0\",\"Cluster 0\",\"Cluster 0\",\"Cluster 0\",\"Cluster 0\",\"Cluster 0\",\"Cluster 0\",\"Cluster 0\",\"Cluster 0\",\"Cluster 0\",\"Cluster 0\",\"Cluster 0\",\"Cluster 0\",\"Cluster 0\",\"Cluster 0\",\"Cluster 0\",\"Cluster 0\",\"Cluster 0\",\"Cluster 0\",\"Cluster 0\",\"Cluster 0\",\"Cluster 0\",\"Cluster 0\",\"Cluster 0\",\"Cluster 0\",\"Cluster 0\",\"Cluster 0\",\"Cluster 0\",\"Cluster 0\",\"Cluster 0\",\"Cluster 0\",\"Cluster 0\",\"Cluster 0\",\"Cluster 0\",\"Cluster 0\",\"Cluster 0\",\"Cluster 0\",\"Cluster 0\",\"Cluster 0\",\"Cluster 0\",\"Cluster 0\",\"Cluster 0\",\"Cluster 0\",\"Cluster 0\",\"Cluster 0\",\"Cluster 0\",\"Cluster 0\",\"Cluster 0\",\"Cluster 0\",\"Cluster 0\",\"Cluster 0\",\"Cluster 0\",\"Cluster 0\",\"Cluster 0\",\"Cluster 0\",\"Cluster 0\",\"Cluster 0\",\"Cluster 0\",\"Cluster 0\",\"Cluster 0\",\"Cluster 0\",\"Cluster 0\",\"Cluster 0\",\"Cluster 0\",\"Cluster 0\",\"Cluster 0\",\"Cluster 0\",\"Cluster 0\"],\"xaxis\":\"x\",\"yaxis\":\"y\",\"type\":\"histogram\"},{\"alignmentgroup\":\"True\",\"customdata\":[[61.0,71171.0,0.721080482006073,6457.79052734375],[58.0,80278.0,0.8233590126037598,6335.978515625],[64.0,76410.0,0.7756041884422302,6135.30810546875],[56.0,60059.0,0.7275840044021606,7166.8583984375],[64.0,86283.0,0.7568019032478333,6852.5546875],[55.0,73895.0,0.7471254467964172,5563.90673828125],[63.0,69849.0,0.7403870820999146,7670.69091796875],[60.0,65340.0,0.7316485047340393,8354.1962890625],[57.0,76573.0,0.8405990600585938,6225.3759765625],[57.0,69655.0,0.6748906970024109,5889.8310546875],[62.0,69391.0,0.7921059727668762,6518.28369140625],[60.0,65054.0,0.7086131572723389,5417.2373046875],[62.0,78413.0,0.7907090783119202,6961.2041015625],[63.0,56875.0,0.7622805833816528,7837.2333984375],[58.0,78635.0,0.7864400744438171,7162.7392578125],[62.0,67030.0,0.7467384338378906,6740.76513671875],[60.0,67491.0,0.8466184735298157,7180.7138671875],[58.0,70272.0,0.8229596018791199,5290.0869140625],[66.0,71672.0,0.7538892030715942,7387.83544921875],[64.0,78801.0,0.7403674721717834,6420.94384765625],[59.0,69460.0,0.7527238130569458,6101.3720703125],[53.0,74996.0,0.7387310862541199,7821.44775390625],[58.0,77559.0,0.7122963666915894,5742.5244140625],[67.0,59243.0,0.7436599731445312,5446.5576171875],[58.0,83351.0,0.8406978249549866,6673.90966796875],[57.0,65608.0,0.7662312984466553,6904.318359375],[55.0,76057.0,0.8778280019760132,6132.8984375],[62.0,62747.0,0.7705945372581482,5852.326171875],[63.0,75078.0,0.7831591367721558,7468.85107421875],[64.0,64331.0,0.7571277618408203,5815.66015625],[61.0,73495.0,0.7727562785148621,9288.189453125],[68.0,77648.0,0.7965446710586548,6190.8642578125],[56.0,67274.0,0.7798516750335693,6652.39111328125],[61.0,71033.0,0.8380950689315796,9456.876953125],[59.0,71302.0,0.7020090222358704,6595.72607421875],[59.0,75505.0,0.7682786583900452,5006.52880859375],[58.0,77769.0,0.7913287878036499,6559.830078125],[61.0,65914.0,0.7781022191047668,6406.876953125],[59.0,56321.0,0.8065659403800964,6129.2890625],[58.0,78611.0,0.9104166626930237,7665.88427734375],[55.0,64768.0,0.7332568764686584,6486.35400390625],[51.0,72086.0,0.7911147475242615,6732.09619140625],[57.0,72055.0,0.7549723386764526,6544.84765625],[61.0,78837.0,0.7459489703178406,6811.30322265625],[60.0,74460.0,0.7545393109321594,7567.6474609375],[64.0,62886.0,0.7480162978172302,8302.5888671875],[65.0,74430.0,0.7517741322517395,7145.2509765625],[59.0,67346.0,0.7251569032669067,8857.8486328125],[58.0,78078.0,0.7837795615196228,6483.0498046875],[63.0,82343.0,0.732318639755249,8090.70654296875],[61.0,67372.0,0.7340673208236694,6618.54931640625],[68.0,68944.0,0.7455674409866333,6828.70947265625],[59.0,68038.0,0.8014869689941406,7719.28369140625],[61.0,72027.0,0.7623249292373657,6926.12353515625],[63.0,70580.0,0.7665090560913086,7262.10888671875],[58.0,70676.0,0.7640283703804016,7664.41552734375],[62.0,73675.0,0.796619176864624,4688.6572265625],[60.0,63476.0,0.7519000172615051,7543.54296875],[62.0,67731.0,0.8191699385643005,5956.5556640625],[65.0,70430.0,0.6969942450523376,6971.1650390625],[59.0,69408.0,0.8799059987068176,6491.77099609375],[65.0,71229.0,0.7878897786140442,9024.337890625],[58.0,70369.0,0.9045205116271973,7461.5673828125],[61.0,74282.0,0.6922364830970764,7286.7548828125],[66.0,77052.0,0.7072624564170837,6296.41748046875],[56.0,65313.0,0.7546030282974243,5574.24365234375],[59.0,75495.0,0.7945029139518738,6702.9521484375],[58.0,69247.0,0.7237212061882019,8715.6796875],[56.0,73516.0,0.806499183177948,7696.83251953125],[59.0,67401.0,0.7114339470863342,6529.58642578125],[58.0,76052.0,0.7215881943702698,6681.984375],[56.0,75599.0,0.7737370729446411,6799.62548828125],[61.0,72060.0,0.8334590196609497,7924.64111328125],[56.0,78992.0,0.8122757077217102,7285.1806640625],[61.0,65647.0,0.7174899578094482,7497.2314453125],[59.0,77978.0,0.7188951969146729,8316.3115234375],[62.0,69326.0,0.7980123162269592,7003.095703125],[59.0,69115.0,0.759883463382721,5997.6904296875],[59.0,80876.0,0.6573140621185303,7232.8251953125],[59.0,73057.0,0.8302949070930481,7819.39306640625],[57.0,64803.0,0.7285849452018738,6255.552734375],[67.0,78702.0,0.7632736563682556,5030.36474609375],[59.0,73350.0,0.6797735691070557,6710.57421875],[67.0,68663.0,0.7738336324691772,7451.994140625],[56.0,80431.0,0.7594316005706787,8150.5576171875],[59.0,82199.0,0.8035144805908203,5880.81494140625],[58.0,80248.0,0.724955677986145,7641.16015625],[61.0,68842.0,0.7544065713882446,4077.65869140625],[55.0,76831.0,0.7421137094497681,7806.39892578125],[59.0,73596.0,0.8567042350769043,8281.71875],[59.0,90422.0,0.8062102198600769,6746.28125],[60.0,70054.0,0.7143393754959106,6609.91845703125],[60.0,65942.0,0.8005783557891846,5253.26513671875],[67.0,80914.0,0.8196642398834229,6833.50732421875],[57.0,79794.0,0.8224083781242371,5893.97509765625],[56.0,68463.0,0.8157116770744324,8995.1796875],[61.0,69698.0,0.7416839599609375,8777.0771484375],[57.0,74014.0,0.7873780727386475,5783.84716796875],[62.0,68279.0,0.7196850776672363,7028.67529296875],[57.0,79470.0,0.7734352946281433,6773.04931640625],[59.0,72588.0,0.8017156720161438,6300.84375],[58.0,77101.0,0.7667195796966553,8148.49169921875],[58.0,70798.0,0.7535284161567688,5330.73974609375],[63.0,85761.0,0.8005979061126709,7175.09033203125],[58.0,70259.0,0.7697129249572754,7101.67431640625],[60.0,79969.0,0.8121049404144287,4879.3349609375],[58.0,69879.0,0.7209987044334412,6669.03369140625],[62.0,73480.0,0.7391949892044067,6277.67529296875],[66.0,72571.0,0.8115483522415161,6509.41162109375],[57.0,76594.0,0.7906578779220581,6584.65478515625],[66.0,64866.0,0.7665941715240479,5037.89892578125],[63.0,72815.0,0.820035994052887,5504.3857421875],[64.0,71692.0,0.8426521420478821,7002.9765625],[62.0,63596.0,0.7453271746635437,6142.20166015625],[62.0,62650.0,0.7665723562240601,7533.673828125],[60.0,71436.0,0.8320590853691101,8557.8603515625],[65.0,65736.0,0.7785687446594238,6387.2197265625],[60.0,70663.0,0.715339720249176,7557.9375],[58.0,74340.0,0.7351650595664978,7259.541015625],[55.0,71056.0,0.7565897107124329,7464.1630859375],[62.0,69741.0,0.8462195992469788,5781.658203125],[64.0,60493.0,0.768056333065033,7708.11279296875],[59.0,81799.0,0.7910820245742798,5417.66162109375],[62.0,74751.0,0.7026569247245789,9258.9931640625],[59.0,74373.0,0.7656795382499695,7346.33447265625],[54.0,76500.0,0.7851978540420532,6878.88427734375],[61.0,71933.0,0.8441067934036255,8022.20849609375],[55.0,71621.0,0.7533426880836487,7780.58984375],[53.0,76667.0,0.7600576281547546,5168.2255859375],[55.0,78761.0,0.827174186706543,8376.7490234375],[61.0,76955.0,0.7771175503730774,7467.03662109375],[63.0,80705.0,0.7626699805259705,5154.33056640625],[59.0,65700.0,0.811471164226532,6932.48779296875],[56.0,63866.0,0.7618879675865173,7762.2548828125],[61.0,74117.0,0.7702140808105469,5103.609375],[61.0,63846.0,0.8278622627258301,7283.5048828125],[60.0,70012.0,0.7944610714912415,7263.24267578125],[57.0,75332.0,0.721502423286438,6845.056640625],[61.0,73245.0,0.8111603856086731,7413.78466796875],[55.0,74356.0,0.799826979637146,6484.630859375],[53.0,62117.0,0.7331388592720032,7500.45263671875],[61.0,69001.0,0.821668803691864,5074.12109375],[59.0,69738.0,0.7421121001243591,7151.65087890625],[56.0,84386.0,0.7849450707435608,7270.41943359375],[56.0,86484.0,0.7321233749389648,8777.49609375],[58.0,75757.0,0.8097944259643555,7390.5771484375],[59.0,67781.0,0.7225483655929565,6701.52783203125],[59.0,67988.0,0.8114706873893738,7255.9033203125],[65.0,66017.0,0.7861892580986023,6159.6630859375],[62.0,80093.0,0.6909167766571045,6756.7490234375],[56.0,68698.0,0.7162678241729736,7070.966796875],[62.0,71050.0,0.735356867313385,6988.197265625],[66.0,82526.0,0.7696800827980042,6205.66259765625],[64.0,76364.0,0.6993887424468994,5772.1171875]],\"hovertemplate\":\"Cluster=%{x}\\u003cbr\\u003eAge=%{customdata[0]}\\u003cbr\\u003eIncome=%{customdata[1]}\\u003cbr\\u003eSpendingScore=%{customdata[2]}\\u003cbr\\u003eSavings=%{customdata[3]}\\u003cextra\\u003e\\u003c\\u002fextra\\u003e\",\"legendgroup\":\"Cluster 0\",\"marker\":{\"color\":\"#EF553B\"},\"name\":\"Cluster 0\",\"notched\":true,\"offsetgroup\":\"Cluster 0\",\"showlegend\":false,\"x\":[\"Cluster 0\",\"Cluster 0\",\"Cluster 0\",\"Cluster 0\",\"Cluster 0\",\"Cluster 0\",\"Cluster 0\",\"Cluster 0\",\"Cluster 0\",\"Cluster 0\",\"Cluster 0\",\"Cluster 0\",\"Cluster 0\",\"Cluster 0\",\"Cluster 0\",\"Cluster 0\",\"Cluster 0\",\"Cluster 0\",\"Cluster 0\",\"Cluster 0\",\"Cluster 0\",\"Cluster 0\",\"Cluster 0\",\"Cluster 0\",\"Cluster 0\",\"Cluster 0\",\"Cluster 0\",\"Cluster 0\",\"Cluster 0\",\"Cluster 0\",\"Cluster 0\",\"Cluster 0\",\"Cluster 0\",\"Cluster 0\",\"Cluster 0\",\"Cluster 0\",\"Cluster 0\",\"Cluster 0\",\"Cluster 0\",\"Cluster 0\",\"Cluster 0\",\"Cluster 0\",\"Cluster 0\",\"Cluster 0\",\"Cluster 0\",\"Cluster 0\",\"Cluster 0\",\"Cluster 0\",\"Cluster 0\",\"Cluster 0\",\"Cluster 0\",\"Cluster 0\",\"Cluster 0\",\"Cluster 0\",\"Cluster 0\",\"Cluster 0\",\"Cluster 0\",\"Cluster 0\",\"Cluster 0\",\"Cluster 0\",\"Cluster 0\",\"Cluster 0\",\"Cluster 0\",\"Cluster 0\",\"Cluster 0\",\"Cluster 0\",\"Cluster 0\",\"Cluster 0\",\"Cluster 0\",\"Cluster 0\",\"Cluster 0\",\"Cluster 0\",\"Cluster 0\",\"Cluster 0\",\"Cluster 0\",\"Cluster 0\",\"Cluster 0\",\"Cluster 0\",\"Cluster 0\",\"Cluster 0\",\"Cluster 0\",\"Cluster 0\",\"Cluster 0\",\"Cluster 0\",\"Cluster 0\",\"Cluster 0\",\"Cluster 0\",\"Cluster 0\",\"Cluster 0\",\"Cluster 0\",\"Cluster 0\",\"Cluster 0\",\"Cluster 0\",\"Cluster 0\",\"Cluster 0\",\"Cluster 0\",\"Cluster 0\",\"Cluster 0\",\"Cluster 0\",\"Cluster 0\",\"Cluster 0\",\"Cluster 0\",\"Cluster 0\",\"Cluster 0\",\"Cluster 0\",\"Cluster 0\",\"Cluster 0\",\"Cluster 0\",\"Cluster 0\",\"Cluster 0\",\"Cluster 0\",\"Cluster 0\",\"Cluster 0\",\"Cluster 0\",\"Cluster 0\",\"Cluster 0\",\"Cluster 0\",\"Cluster 0\",\"Cluster 0\",\"Cluster 0\",\"Cluster 0\",\"Cluster 0\",\"Cluster 0\",\"Cluster 0\",\"Cluster 0\",\"Cluster 0\",\"Cluster 0\",\"Cluster 0\",\"Cluster 0\",\"Cluster 0\",\"Cluster 0\",\"Cluster 0\",\"Cluster 0\",\"Cluster 0\",\"Cluster 0\",\"Cluster 0\",\"Cluster 0\",\"Cluster 0\",\"Cluster 0\",\"Cluster 0\",\"Cluster 0\",\"Cluster 0\",\"Cluster 0\",\"Cluster 0\",\"Cluster 0\",\"Cluster 0\",\"Cluster 0\",\"Cluster 0\",\"Cluster 0\",\"Cluster 0\",\"Cluster 0\",\"Cluster 0\",\"Cluster 0\",\"Cluster 0\"],\"xaxis\":\"x2\",\"yaxis\":\"y2\",\"type\":\"box\"},{\"alignmentgroup\":\"True\",\"bingroup\":\"x\",\"hovertemplate\":\"Cluster=%{x}\\u003cbr\\u003ecount=%{y}\\u003cextra\\u003e\\u003c\\u002fextra\\u003e\",\"legendgroup\":\"Cluster 1\",\"marker\":{\"color\":\"#00cc96\",\"opacity\":0.7,\"pattern\":{\"shape\":\"\"}},\"name\":\"Cluster 1\",\"offsetgroup\":\"Cluster 1\",\"orientation\":\"v\",\"showlegend\":true,\"x\":[\"Cluster 1\",\"Cluster 1\",\"Cluster 1\",\"Cluster 1\",\"Cluster 1\",\"Cluster 1\",\"Cluster 1\",\"Cluster 1\",\"Cluster 1\",\"Cluster 1\",\"Cluster 1\",\"Cluster 1\",\"Cluster 1\",\"Cluster 1\",\"Cluster 1\",\"Cluster 1\",\"Cluster 1\",\"Cluster 1\",\"Cluster 1\",\"Cluster 1\",\"Cluster 1\",\"Cluster 1\",\"Cluster 1\",\"Cluster 1\",\"Cluster 1\",\"Cluster 1\",\"Cluster 1\",\"Cluster 1\",\"Cluster 1\",\"Cluster 1\",\"Cluster 1\",\"Cluster 1\",\"Cluster 1\",\"Cluster 1\",\"Cluster 1\",\"Cluster 1\",\"Cluster 1\",\"Cluster 1\",\"Cluster 1\",\"Cluster 1\",\"Cluster 1\",\"Cluster 1\",\"Cluster 1\",\"Cluster 1\",\"Cluster 1\",\"Cluster 1\",\"Cluster 1\",\"Cluster 1\",\"Cluster 1\",\"Cluster 1\",\"Cluster 1\",\"Cluster 1\",\"Cluster 1\",\"Cluster 1\",\"Cluster 1\",\"Cluster 1\",\"Cluster 1\",\"Cluster 1\",\"Cluster 1\",\"Cluster 1\",\"Cluster 1\",\"Cluster 1\",\"Cluster 1\",\"Cluster 1\",\"Cluster 1\",\"Cluster 1\",\"Cluster 1\",\"Cluster 1\",\"Cluster 1\",\"Cluster 1\",\"Cluster 1\",\"Cluster 1\",\"Cluster 1\",\"Cluster 1\",\"Cluster 1\",\"Cluster 1\",\"Cluster 1\",\"Cluster 1\",\"Cluster 1\",\"Cluster 1\",\"Cluster 1\",\"Cluster 1\",\"Cluster 1\",\"Cluster 1\",\"Cluster 1\",\"Cluster 1\",\"Cluster 1\",\"Cluster 1\",\"Cluster 1\",\"Cluster 1\",\"Cluster 1\",\"Cluster 1\",\"Cluster 1\",\"Cluster 1\",\"Cluster 1\",\"Cluster 1\",\"Cluster 1\",\"Cluster 1\",\"Cluster 1\",\"Cluster 1\",\"Cluster 1\",\"Cluster 1\",\"Cluster 1\",\"Cluster 1\",\"Cluster 1\",\"Cluster 1\",\"Cluster 1\",\"Cluster 1\",\"Cluster 1\",\"Cluster 1\",\"Cluster 1\",\"Cluster 1\",\"Cluster 1\",\"Cluster 1\",\"Cluster 1\",\"Cluster 1\",\"Cluster 1\",\"Cluster 1\",\"Cluster 1\",\"Cluster 1\",\"Cluster 1\",\"Cluster 1\",\"Cluster 1\",\"Cluster 1\",\"Cluster 1\",\"Cluster 1\",\"Cluster 1\",\"Cluster 1\",\"Cluster 1\",\"Cluster 1\",\"Cluster 1\",\"Cluster 1\",\"Cluster 1\",\"Cluster 1\",\"Cluster 1\",\"Cluster 1\"],\"xaxis\":\"x\",\"yaxis\":\"y\",\"type\":\"histogram\"},{\"alignmentgroup\":\"True\",\"customdata\":[[90.0,24376.0,0.28127944469451904,15134.994140625],[87.0,24578.0,0.3761654496192932,17789.248046875],[87.0,18459.0,0.2645499110221863,15637.59765625],[89.0,26940.0,0.32600513100624084,16555.16015625],[89.0,30267.0,0.2893100678920746,14386.3515625],[89.0,31096.0,0.27858784794807434,17736.943359375],[84.0,27179.0,0.34742340445518494,15612.62890625],[90.0,33490.0,0.4199085235595703,17091.904296875],[92.0,22484.0,0.3317732512950897,18615.6328125],[89.0,22008.0,0.38190606236457825,16458.3984375],[88.0,33303.0,0.39971569180488586,15232.59765625],[87.0,26045.0,0.3752921223640442,15903.55859375],[82.0,33610.0,0.30125322937965393,17755.6640625],[94.0,18937.0,0.3470950722694397,17739.775390625],[93.0,17672.0,0.3032923638820648,18516.451171875],[84.0,20704.0,0.379496306180954,16816.912109375],[83.0,28497.0,0.3938024044036865,15510.11328125],[87.0,30178.0,0.2793159782886505,16123.0703125],[85.0,21652.0,0.31845614314079285,14175.169921875],[88.0,26351.0,0.3041681945323944,14035.91796875],[87.0,26665.0,0.402145653963089,17376.9140625],[85.0,21250.0,0.31041011214256287,16033.970703125],[91.0,26917.0,0.3767135441303253,17986.619140625],[88.0,17851.0,0.28986597061157227,17472.470703125],[90.0,22288.0,0.27132683992385864,18434.099609375],[94.0,28352.0,0.37687572836875916,16798.88671875],[91.0,36639.0,0.32619887590408325,16275.703125],[92.0,35484.0,0.39706361293792725,17324.044921875],[87.0,12000.0,0.3429909944534302,16180.265625],[88.0,35051.0,0.3860515058040619,17593.24609375],[88.0,31366.0,0.37962085008621216,16079.623046875],[91.0,12038.0,0.34980326890945435,16464.9609375],[86.0,31994.0,0.24947693943977356,18210.087890625],[85.0,28401.0,0.3694371283054352,15990.494140625],[89.0,20292.0,0.31214818358421326,16023.4453125],[86.0,18812.0,0.3415457606315613,16157.734375],[87.0,23042.0,0.3663119971752167,18149.03515625],[94.0,38923.0,0.33022600412368774,16971.181640625],[86.0,28779.0,0.3365233242511749,16047.2685546875],[83.0,30721.0,0.33114179968833923,17705.9921875],[79.0,38201.0,0.3697828948497772,16393.396484375],[86.0,36031.0,0.24017663300037384,16945.326171875],[83.0,23206.0,0.3212403655052185,16870.671875],[85.0,28408.0,0.3580738604068756,15063.3359375],[92.0,33550.0,0.36851564049720764,17106.326171875],[89.0,34524.0,0.34811827540397644,14051.2568359375],[83.0,33170.0,0.2410777509212494,16620.009765625],[90.0,33188.0,0.2488100677728653,15866.9140625],[91.0,24370.0,0.2963285744190216,16141.048828125],[87.0,23322.0,0.30682119727134705,16131.267578125],[87.0,30102.0,0.3903906047344208,16330.0810546875],[83.0,28727.0,0.30826303362846375,18205.3359375],[93.0,20440.0,0.2975730299949646,17406.07421875],[84.0,18244.0,0.2926633656024933,17815.34765625],[89.0,25252.0,0.3217652142047882,16539.36328125],[85.0,30794.0,0.28622928261756897,17096.390625],[88.0,19510.0,0.31675103306770325,16529.201171875],[83.0,26882.0,0.3479796350002289,17775.228515625],[83.0,34529.0,0.3172075152397156,16517.208984375],[83.0,18162.0,0.3013734519481659,16029.46875],[83.0,30492.0,0.30163148045539856,15365.8583984375],[82.0,32494.0,0.32731539011001587,16799.443359375],[91.0,29750.0,0.2884703278541565,19201.119140625],[86.0,15695.0,0.2571749687194824,17366.185546875],[82.0,24391.0,0.27610135078430176,17053.029296875],[79.0,32421.0,0.3032762110233307,15319.4677734375],[91.0,25886.0,0.3017537593841553,17266.044921875],[88.0,22602.0,0.35674482583999634,16740.34375],[91.0,27168.0,0.3322388231754303,15893.7294921875],[91.0,28777.0,0.3241935670375824,17808.265625],[84.0,27384.0,0.31364670395851135,16734.671875],[87.0,25566.0,0.3167603611946106,15188.05859375],[94.0,20719.0,0.3364022672176361,16281.83203125],[90.0,37503.0,0.3577883243560791,17258.57421875],[89.0,28160.0,0.33884885907173157,15607.0615234375],[91.0,22672.0,0.27106451988220215,15407.646484375],[91.0,28165.0,0.30369293689727783,17460.1796875],[90.0,22782.0,0.35630688071250916,15924.0712890625],[84.0,30481.0,0.39702290296554565,16837.205078125],[88.0,34001.0,0.33756932616233826,15530.9345703125],[84.0,24105.0,0.27180901169776917,16524.90234375],[81.0,34425.0,0.27260977029800415,16262.6240234375],[91.0,20681.0,0.3546791672706604,18401.087890625],[91.0,16950.0,0.3230040371417999,17172.609375],[84.0,42018.0,0.29799360036849976,16148.3701171875],[86.0,23400.0,0.27803555130958557,15215.28125],[87.0,42592.0,0.35528966784477234,18086.287109375],[88.0,26092.0,0.3128732144832611,17105.79296875],[83.0,34384.0,0.3247186839580536,14783.37890625],[84.0,29492.0,0.3336031436920166,17954.095703125],[94.0,27771.0,0.30250322818756104,17303.95703125],[91.0,30148.0,0.27738896012306213,15324.287109375],[91.0,29082.0,0.28248852491378784,18794.48828125],[95.0,27038.0,0.33135199546813965,18126.578125],[89.0,26127.0,0.3044743835926056,17194.828125],[89.0,19202.0,0.3819877505302429,16626.22265625],[90.0,35297.0,0.3551490306854248,16091.40234375],[87.0,25701.0,0.31522056460380554,15738.859375],[89.0,33311.0,0.37614697217941284,17093.0703125],[91.0,30756.0,0.30369803309440613,15492.0048828125],[85.0,34634.0,0.3690001666545868,16719.81640625],[92.0,32915.0,0.3885749280452728,16694.70703125],[90.0,29029.0,0.30375897884368896,15592.9912109375],[85.0,29204.0,0.32549145817756653,16918.904296875],[92.0,35877.0,0.3668917119503021,17287.90625],[88.0,28409.0,0.30565354228019714,17326.17578125],[92.0,36032.0,0.3369683027267456,17348.599609375],[87.0,17760.0,0.34877756237983704,16869.5078125],[84.0,36463.0,0.3536209464073181,16563.373046875],[97.0,27271.0,0.28392288088798523,14928.166015625],[92.0,18724.0,0.32786232233047485,15341.380859375],[87.0,29909.0,0.3421516418457031,18142.232421875],[94.0,27169.0,0.31417304277420044,15061.7763671875],[84.0,27693.0,0.3670629858970642,17879.55859375],[92.0,22616.0,0.32285067439079285,17275.662109375],[86.0,27705.0,0.3293769657611847,17130.85546875],[88.0,28802.0,0.40838783979415894,16293.0380859375],[91.0,25237.0,0.3535018265247345,17292.732421875],[90.0,30178.0,0.2823512852191925,16182.8388671875],[88.0,17946.0,0.269643634557724,16715.16015625],[82.0,33636.0,0.37178298830986023,17866.833984375],[87.0,31481.0,0.3174239695072174,16180.6884765625],[94.0,23854.0,0.31444668769836426,16828.41015625],[88.0,32708.0,0.36821532249450684,16711.068359375],[88.0,28585.0,0.3977396786212921,16725.841796875],[85.0,26355.0,0.3423406779766083,17971.193359375],[88.0,27169.0,0.2800595164299011,15260.6357421875],[84.0,38042.0,0.36608585715293884,17465.85546875],[90.0,33259.0,0.3775710463523865,15315.0283203125],[85.0,34802.0,0.2987969219684601,16450.00390625],[90.0,25733.0,0.3385629653930664,17631.568359375],[85.0,29610.0,0.31813523173332214,18475.48828125],[91.0,26424.0,0.31938865780830383,16501.46875],[87.0,30812.0,0.31446313858032227,15238.119140625],[84.0,22286.0,0.39550623297691345,17886.537109375],[88.0,33251.0,0.30439135432243347,18868.2421875]],\"hovertemplate\":\"Cluster=%{x}\\u003cbr\\u003eAge=%{customdata[0]}\\u003cbr\\u003eIncome=%{customdata[1]}\\u003cbr\\u003eSpendingScore=%{customdata[2]}\\u003cbr\\u003eSavings=%{customdata[3]}\\u003cextra\\u003e\\u003c\\u002fextra\\u003e\",\"legendgroup\":\"Cluster 1\",\"marker\":{\"color\":\"#00cc96\"},\"name\":\"Cluster 1\",\"notched\":true,\"offsetgroup\":\"Cluster 1\",\"showlegend\":false,\"x\":[\"Cluster 1\",\"Cluster 1\",\"Cluster 1\",\"Cluster 1\",\"Cluster 1\",\"Cluster 1\",\"Cluster 1\",\"Cluster 1\",\"Cluster 1\",\"Cluster 1\",\"Cluster 1\",\"Cluster 1\",\"Cluster 1\",\"Cluster 1\",\"Cluster 1\",\"Cluster 1\",\"Cluster 1\",\"Cluster 1\",\"Cluster 1\",\"Cluster 1\",\"Cluster 1\",\"Cluster 1\",\"Cluster 1\",\"Cluster 1\",\"Cluster 1\",\"Cluster 1\",\"Cluster 1\",\"Cluster 1\",\"Cluster 1\",\"Cluster 1\",\"Cluster 1\",\"Cluster 1\",\"Cluster 1\",\"Cluster 1\",\"Cluster 1\",\"Cluster 1\",\"Cluster 1\",\"Cluster 1\",\"Cluster 1\",\"Cluster 1\",\"Cluster 1\",\"Cluster 1\",\"Cluster 1\",\"Cluster 1\",\"Cluster 1\",\"Cluster 1\",\"Cluster 1\",\"Cluster 1\",\"Cluster 1\",\"Cluster 1\",\"Cluster 1\",\"Cluster 1\",\"Cluster 1\",\"Cluster 1\",\"Cluster 1\",\"Cluster 1\",\"Cluster 1\",\"Cluster 1\",\"Cluster 1\",\"Cluster 1\",\"Cluster 1\",\"Cluster 1\",\"Cluster 1\",\"Cluster 1\",\"Cluster 1\",\"Cluster 1\",\"Cluster 1\",\"Cluster 1\",\"Cluster 1\",\"Cluster 1\",\"Cluster 1\",\"Cluster 1\",\"Cluster 1\",\"Cluster 1\",\"Cluster 1\",\"Cluster 1\",\"Cluster 1\",\"Cluster 1\",\"Cluster 1\",\"Cluster 1\",\"Cluster 1\",\"Cluster 1\",\"Cluster 1\",\"Cluster 1\",\"Cluster 1\",\"Cluster 1\",\"Cluster 1\",\"Cluster 1\",\"Cluster 1\",\"Cluster 1\",\"Cluster 1\",\"Cluster 1\",\"Cluster 1\",\"Cluster 1\",\"Cluster 1\",\"Cluster 1\",\"Cluster 1\",\"Cluster 1\",\"Cluster 1\",\"Cluster 1\",\"Cluster 1\",\"Cluster 1\",\"Cluster 1\",\"Cluster 1\",\"Cluster 1\",\"Cluster 1\",\"Cluster 1\",\"Cluster 1\",\"Cluster 1\",\"Cluster 1\",\"Cluster 1\",\"Cluster 1\",\"Cluster 1\",\"Cluster 1\",\"Cluster 1\",\"Cluster 1\",\"Cluster 1\",\"Cluster 1\",\"Cluster 1\",\"Cluster 1\",\"Cluster 1\",\"Cluster 1\",\"Cluster 1\",\"Cluster 1\",\"Cluster 1\",\"Cluster 1\",\"Cluster 1\",\"Cluster 1\",\"Cluster 1\",\"Cluster 1\",\"Cluster 1\",\"Cluster 1\",\"Cluster 1\",\"Cluster 1\",\"Cluster 1\",\"Cluster 1\"],\"xaxis\":\"x2\",\"yaxis\":\"y2\",\"type\":\"box\"},{\"alignmentgroup\":\"True\",\"bingroup\":\"x\",\"hovertemplate\":\"Cluster=%{x}\\u003cbr\\u003ecount=%{y}\\u003cextra\\u003e\\u003c\\u002fextra\\u003e\",\"legendgroup\":\"Cluster 2\",\"marker\":{\"color\":\"#ab63fa\",\"opacity\":0.7,\"pattern\":{\"shape\":\"\"}},\"name\":\"Cluster 2\",\"offsetgroup\":\"Cluster 2\",\"orientation\":\"v\",\"showlegend\":true,\"x\":[\"Cluster 2\",\"Cluster 2\",\"Cluster 2\",\"Cluster 2\",\"Cluster 2\",\"Cluster 2\",\"Cluster 2\",\"Cluster 2\",\"Cluster 2\",\"Cluster 2\",\"Cluster 2\",\"Cluster 2\",\"Cluster 2\",\"Cluster 2\",\"Cluster 2\",\"Cluster 2\",\"Cluster 2\",\"Cluster 2\",\"Cluster 2\",\"Cluster 2\",\"Cluster 2\",\"Cluster 2\",\"Cluster 2\",\"Cluster 2\",\"Cluster 2\",\"Cluster 2\",\"Cluster 2\",\"Cluster 2\",\"Cluster 2\",\"Cluster 2\",\"Cluster 2\",\"Cluster 2\",\"Cluster 2\",\"Cluster 2\",\"Cluster 2\",\"Cluster 2\",\"Cluster 2\",\"Cluster 2\",\"Cluster 2\",\"Cluster 2\",\"Cluster 2\",\"Cluster 2\",\"Cluster 2\",\"Cluster 2\",\"Cluster 2\",\"Cluster 2\",\"Cluster 2\",\"Cluster 2\",\"Cluster 2\",\"Cluster 2\",\"Cluster 2\",\"Cluster 2\",\"Cluster 2\",\"Cluster 2\",\"Cluster 2\",\"Cluster 2\",\"Cluster 2\",\"Cluster 2\",\"Cluster 2\",\"Cluster 2\",\"Cluster 2\",\"Cluster 2\",\"Cluster 2\",\"Cluster 2\",\"Cluster 2\",\"Cluster 2\",\"Cluster 2\",\"Cluster 2\",\"Cluster 2\",\"Cluster 2\",\"Cluster 2\",\"Cluster 2\",\"Cluster 2\",\"Cluster 2\",\"Cluster 2\",\"Cluster 2\",\"Cluster 2\",\"Cluster 2\",\"Cluster 2\",\"Cluster 2\",\"Cluster 2\",\"Cluster 2\",\"Cluster 2\",\"Cluster 2\",\"Cluster 2\",\"Cluster 2\",\"Cluster 2\",\"Cluster 2\",\"Cluster 2\",\"Cluster 2\",\"Cluster 2\",\"Cluster 2\",\"Cluster 2\",\"Cluster 2\",\"Cluster 2\",\"Cluster 2\",\"Cluster 2\",\"Cluster 2\",\"Cluster 2\",\"Cluster 2\",\"Cluster 2\",\"Cluster 2\",\"Cluster 2\",\"Cluster 2\",\"Cluster 2\",\"Cluster 2\",\"Cluster 2\",\"Cluster 2\",\"Cluster 2\",\"Cluster 2\",\"Cluster 2\",\"Cluster 2\",\"Cluster 2\",\"Cluster 2\",\"Cluster 2\",\"Cluster 2\",\"Cluster 2\",\"Cluster 2\",\"Cluster 2\"],\"xaxis\":\"x\",\"yaxis\":\"y\",\"type\":\"histogram\"},{\"alignmentgroup\":\"True\",\"customdata\":[[35.0,110106.0,0.2867692708969116,14924.537109375],[32.0,101905.0,0.30747631192207336,17532.1640625],[30.0,101073.0,0.31438711285591125,14324.5556640625],[31.0,107994.0,0.2944689393043518,13685.97265625],[34.0,98993.0,0.32299309968948364,16138.0791015625],[44.0,114642.0,0.30920490622520447,14067.6181640625],[28.0,99611.0,0.27955785393714905,15345.658203125],[31.0,99457.0,0.3658064901828766,14580.61328125],[28.0,100592.0,0.25959834456443787,15520.35546875],[29.0,102028.0,0.2889604866504669,14634.4306640625],[29.0,111426.0,0.40028116106987,14352.6435546875],[31.0,105036.0,0.2722280025482178,16465.064453125],[28.0,101206.0,0.3874407112598419,14936.775390625],[33.0,111813.0,0.23824378848075867,15901.2392578125],[34.0,102291.0,0.24786227941513062,15819.5771484375],[36.0,98137.0,0.2974012792110443,15978.3330078125],[33.0,116616.0,0.32093003392219543,15104.498046875],[28.0,94762.0,0.3035961985588074,15352.521484375],[31.0,111449.0,0.29410621523857117,13929.62109375],[31.0,101481.0,0.2702350616455078,15226.6142578125],[31.0,101209.0,0.3043229877948761,16917.572265625],[30.0,96241.0,0.3773384988307953,15485.15625],[31.0,107963.0,0.2905086278915405,13407.0810546875],[30.0,99949.0,0.34467923641204834,13621.6396484375],[36.0,99780.0,0.26543259620666504,16398.400390625],[39.0,100540.0,0.38492298126220703,16741.013671875],[35.0,108499.0,0.2612719237804413,16046.0830078125],[32.0,95536.0,0.2662460505962372,15420.6259765625],[33.0,106757.0,0.25839611887931824,14431.65234375],[36.0,109038.0,0.3242132067680359,16502.388671875],[33.0,107100.0,0.34243547916412354,14895.4736328125],[36.0,109809.0,0.35566020011901855,14978.501953125],[37.0,106894.0,0.3432357609272003,14075.2177734375],[39.0,100661.0,0.37664124369621277,16873.12890625],[32.0,108417.0,0.28737086057662964,16696.3984375],[29.0,106014.0,0.34794512391090393,15038.0107421875],[32.0,117050.0,0.3113555312156677,14310.5458984375],[38.0,104738.0,0.4059588611125946,15634.3134765625],[29.0,112531.0,0.3427661657333374,14361.3349609375],[33.0,101058.0,0.31508153676986694,14911.8681640625],[30.0,107926.0,0.23016072809696198,15520.5361328125],[36.0,104285.0,0.21236005425453186,13347.55859375],[31.0,102618.0,0.27637791633605957,13209.3017578125],[25.0,101503.0,0.2884688675403595,15026.26171875],[33.0,99637.0,0.22821708023548126,15139.4033203125],[38.0,115146.0,0.31449007987976074,14798.8681640625],[37.0,97831.0,0.37446582317352295,14935.14453125],[33.0,105667.0,0.2507508099079132,12869.7607421875],[32.0,110439.0,0.3069901466369629,13873.5078125],[31.0,105826.0,0.2862743139266968,13856.8056640625],[34.0,98752.0,0.3720337152481079,14975.3837890625],[31.0,116247.0,0.2943151295185089,16178.205078125],[31.0,108067.0,0.26867425441741943,13316.767578125],[33.0,106345.0,0.33923542499542236,15300.4541015625],[30.0,108581.0,0.309446781873703,15628.7919921875],[34.0,98165.0,0.17412050068378448,15721.86328125],[34.0,103204.0,0.301087349653244,15149.810546875],[30.0,107525.0,0.29481643438339233,12702.84765625],[37.0,110595.0,0.2866485118865967,15235.4453125],[30.0,102056.0,0.26070061326026917,15370.6689453125],[25.0,106772.0,0.3909047245979309,16353.4716796875],[37.0,106664.0,0.27758675813674927,14479.3740234375],[37.0,97678.0,0.2574704587459564,15834.11328125],[35.0,102308.0,0.2751372158527374,14874.5576171875],[31.0,104388.0,0.28647324442863464,14406.5615234375],[29.0,101943.0,0.3256230652332306,14619.3544921875],[37.0,107877.0,0.3346179723739624,17968.5546875],[29.0,119366.0,0.3587713837623596,15012.8525390625],[34.0,103428.0,0.2474244087934494,13791.0361328125],[31.0,107115.0,0.32804208993911743,15693.5],[32.0,102035.0,0.26207035779953003,14209.9326171875],[31.0,114833.0,0.3050696849822998,13953.029296875],[36.0,96336.0,0.2880975604057312,15286.76953125],[34.0,107255.0,0.3283430337905884,15130.595703125],[35.0,106588.0,0.3422141969203949,15648.65625],[35.0,107131.0,0.24247315526008606,16200.0126953125],[37.0,107958.0,0.34666907787323,13641.009765625],[36.0,100158.0,0.3160604238510132,13832.37890625],[31.0,112943.0,0.3412395119667053,14297.7021484375],[28.0,97965.0,0.313491553068161,14981.40234375],[30.0,108928.0,0.30386361479759216,14339.6533203125],[35.0,101691.0,0.34911102056503296,14152.671875],[37.0,108635.0,0.28649571537971497,14558.0546875],[35.0,117112.0,0.3047918677330017,15908.0361328125],[27.0,106758.0,0.2662947177886963,14942.560546875],[36.0,101811.0,0.340666800737381,15048.8994140625],[36.0,105567.0,0.3126388490200043,14355.310546875],[34.0,119877.0,0.30543699860572815,15634.7880859375],[32.0,106543.0,0.3107432425022125,14337.2880859375],[33.0,98033.0,0.30951112508773804,15774.6904296875],[28.0,111937.0,0.2537347376346588,13669.1103515625],[30.0,107302.0,0.23967717587947845,13993.244140625],[29.0,110860.0,0.3194403052330017,16260.4208984375],[34.0,111303.0,0.34531256556510925,14624.318359375],[33.0,108345.0,0.3254132866859436,15646.3212890625],[39.0,99216.0,0.21660614013671875,15230.3447265625],[38.0,113659.0,0.33348599076271057,14364.693359375],[30.0,106350.0,0.3694162964820862,14863.2333984375],[35.0,105991.0,0.3433779776096344,16616.087890625],[37.0,108651.0,0.19234362244606018,15881.2421875],[31.0,105006.0,0.3741658926010132,15419.41796875],[37.0,110732.0,0.32267624139785767,14265.3515625],[33.0,92569.0,0.33607980608940125,13765.685546875],[28.0,109075.0,0.3627619743347168,14082.4580078125],[35.0,104678.0,0.32799285650253296,15422.0556640625],[35.0,112878.0,0.30091357231140137,13755.482421875],[36.0,108004.0,0.30892300605773926,15813.96484375],[33.0,94964.0,0.33023250102996826,14018.349609375],[29.0,99161.0,0.30792000889778137,15631.8369140625],[33.0,100275.0,0.36308568716049194,13735.4384765625],[26.0,97750.0,0.29340875148773193,15823.0322265625],[24.0,110564.0,0.3049429953098297,14967.83984375],[34.0,104284.0,0.3445454239845276,13541.8017578125],[33.0,114555.0,0.2792568504810333,13746.7451171875],[29.0,116451.0,0.34065961837768555,15294.6611328125],[31.0,110882.0,0.3252806067466736,14004.61328125],[29.0,103223.0,0.3388162851333618,16252.8828125],[42.0,106990.0,0.33006542921066284,14856.939453125],[40.0,98821.0,0.2790808379650116,15995.16015625]],\"hovertemplate\":\"Cluster=%{x}\\u003cbr\\u003eAge=%{customdata[0]}\\u003cbr\\u003eIncome=%{customdata[1]}\\u003cbr\\u003eSpendingScore=%{customdata[2]}\\u003cbr\\u003eSavings=%{customdata[3]}\\u003cextra\\u003e\\u003c\\u002fextra\\u003e\",\"legendgroup\":\"Cluster 2\",\"marker\":{\"color\":\"#ab63fa\"},\"name\":\"Cluster 2\",\"notched\":true,\"offsetgroup\":\"Cluster 2\",\"showlegend\":false,\"x\":[\"Cluster 2\",\"Cluster 2\",\"Cluster 2\",\"Cluster 2\",\"Cluster 2\",\"Cluster 2\",\"Cluster 2\",\"Cluster 2\",\"Cluster 2\",\"Cluster 2\",\"Cluster 2\",\"Cluster 2\",\"Cluster 2\",\"Cluster 2\",\"Cluster 2\",\"Cluster 2\",\"Cluster 2\",\"Cluster 2\",\"Cluster 2\",\"Cluster 2\",\"Cluster 2\",\"Cluster 2\",\"Cluster 2\",\"Cluster 2\",\"Cluster 2\",\"Cluster 2\",\"Cluster 2\",\"Cluster 2\",\"Cluster 2\",\"Cluster 2\",\"Cluster 2\",\"Cluster 2\",\"Cluster 2\",\"Cluster 2\",\"Cluster 2\",\"Cluster 2\",\"Cluster 2\",\"Cluster 2\",\"Cluster 2\",\"Cluster 2\",\"Cluster 2\",\"Cluster 2\",\"Cluster 2\",\"Cluster 2\",\"Cluster 2\",\"Cluster 2\",\"Cluster 2\",\"Cluster 2\",\"Cluster 2\",\"Cluster 2\",\"Cluster 2\",\"Cluster 2\",\"Cluster 2\",\"Cluster 2\",\"Cluster 2\",\"Cluster 2\",\"Cluster 2\",\"Cluster 2\",\"Cluster 2\",\"Cluster 2\",\"Cluster 2\",\"Cluster 2\",\"Cluster 2\",\"Cluster 2\",\"Cluster 2\",\"Cluster 2\",\"Cluster 2\",\"Cluster 2\",\"Cluster 2\",\"Cluster 2\",\"Cluster 2\",\"Cluster 2\",\"Cluster 2\",\"Cluster 2\",\"Cluster 2\",\"Cluster 2\",\"Cluster 2\",\"Cluster 2\",\"Cluster 2\",\"Cluster 2\",\"Cluster 2\",\"Cluster 2\",\"Cluster 2\",\"Cluster 2\",\"Cluster 2\",\"Cluster 2\",\"Cluster 2\",\"Cluster 2\",\"Cluster 2\",\"Cluster 2\",\"Cluster 2\",\"Cluster 2\",\"Cluster 2\",\"Cluster 2\",\"Cluster 2\",\"Cluster 2\",\"Cluster 2\",\"Cluster 2\",\"Cluster 2\",\"Cluster 2\",\"Cluster 2\",\"Cluster 2\",\"Cluster 2\",\"Cluster 2\",\"Cluster 2\",\"Cluster 2\",\"Cluster 2\",\"Cluster 2\",\"Cluster 2\",\"Cluster 2\",\"Cluster 2\",\"Cluster 2\",\"Cluster 2\",\"Cluster 2\",\"Cluster 2\",\"Cluster 2\",\"Cluster 2\",\"Cluster 2\",\"Cluster 2\"],\"xaxis\":\"x2\",\"yaxis\":\"y2\",\"type\":\"box\"},{\"alignmentgroup\":\"True\",\"bingroup\":\"x\",\"hovertemplate\":\"Cluster=%{x}\\u003cbr\\u003ecount=%{y}\\u003cextra\\u003e\\u003c\\u002fextra\\u003e\",\"legendgroup\":\"Cluster 3\",\"marker\":{\"color\":\"#FFA15A\",\"opacity\":0.7,\"pattern\":{\"shape\":\"\"}},\"name\":\"Cluster 3\",\"offsetgroup\":\"Cluster 3\",\"orientation\":\"v\",\"showlegend\":true,\"x\":[\"Cluster 3\",\"Cluster 3\",\"Cluster 3\",\"Cluster 3\",\"Cluster 3\",\"Cluster 3\",\"Cluster 3\",\"Cluster 3\",\"Cluster 3\",\"Cluster 3\",\"Cluster 3\",\"Cluster 3\",\"Cluster 3\",\"Cluster 3\",\"Cluster 3\",\"Cluster 3\",\"Cluster 3\",\"Cluster 3\",\"Cluster 3\",\"Cluster 3\",\"Cluster 3\",\"Cluster 3\",\"Cluster 3\"],\"xaxis\":\"x\",\"yaxis\":\"y\",\"type\":\"histogram\"},{\"alignmentgroup\":\"True\",\"customdata\":[[23.0,129937.0,0.8727356791496277,4102.0654296875],[25.0,130934.0,0.9137660264968872,3942.38916015625],[25.0,130361.0,0.9254385828971863,4691.55224609375],[27.0,122671.0,0.9101071357727051,4206.287109375],[25.0,128625.0,0.8167389631271362,4914.1171875],[23.0,138443.0,0.9226565361022949,3297.058837890625],[24.0,129087.0,0.827117919921875,3290.82958984375],[22.0,132948.0,0.8898001909255981,2839.786376953125],[26.0,126617.0,0.8770521283149719,2913.3681640625],[24.0,127352.0,0.9054521322250366,2961.716796875],[29.0,131578.0,0.8470340967178345,3535.514404296875],[24.0,134384.0,0.8747208118438721,3731.33984375],[26.0,131827.0,0.8807194828987122,4352.69921875],[25.0,131009.0,0.8640568852424622,4792.4267578125],[23.0,120226.0,0.8819129467010498,4698.294921875],[22.0,134209.0,0.8706979751586914,5138.109375],[24.0,130974.0,0.9118385910987854,4420.07275390625],[24.0,134389.0,0.9388521313667297,4573.6064453125],[28.0,129019.0,0.9308319687843323,3016.820556640625],[23.0,126500.0,0.8650328516960144,3270.150390625],[25.0,138021.0,0.9440171718597412,3005.577392578125],[21.0,129726.0,0.951792299747467,4550.79931640625],[20.0,122581.0,0.894080638885498,4444.44775390625]],\"hovertemplate\":\"Cluster=%{x}\\u003cbr\\u003eAge=%{customdata[0]}\\u003cbr\\u003eIncome=%{customdata[1]}\\u003cbr\\u003eSpendingScore=%{customdata[2]}\\u003cbr\\u003eSavings=%{customdata[3]}\\u003cextra\\u003e\\u003c\\u002fextra\\u003e\",\"legendgroup\":\"Cluster 3\",\"marker\":{\"color\":\"#FFA15A\"},\"name\":\"Cluster 3\",\"notched\":true,\"offsetgroup\":\"Cluster 3\",\"showlegend\":false,\"x\":[\"Cluster 3\",\"Cluster 3\",\"Cluster 3\",\"Cluster 3\",\"Cluster 3\",\"Cluster 3\",\"Cluster 3\",\"Cluster 3\",\"Cluster 3\",\"Cluster 3\",\"Cluster 3\",\"Cluster 3\",\"Cluster 3\",\"Cluster 3\",\"Cluster 3\",\"Cluster 3\",\"Cluster 3\",\"Cluster 3\",\"Cluster 3\",\"Cluster 3\",\"Cluster 3\",\"Cluster 3\",\"Cluster 3\"],\"xaxis\":\"x2\",\"yaxis\":\"y2\",\"type\":\"box\"}],                        {\"template\":{\"data\":{\"histogram2dcontour\":[{\"type\":\"histogram2dcontour\",\"colorbar\":{\"outlinewidth\":0,\"ticks\":\"\"},\"colorscale\":[[0.0,\"#0d0887\"],[0.1111111111111111,\"#46039f\"],[0.2222222222222222,\"#7201a8\"],[0.3333333333333333,\"#9c179e\"],[0.4444444444444444,\"#bd3786\"],[0.5555555555555556,\"#d8576b\"],[0.6666666666666666,\"#ed7953\"],[0.7777777777777778,\"#fb9f3a\"],[0.8888888888888888,\"#fdca26\"],[1.0,\"#f0f921\"]]}],\"choropleth\":[{\"type\":\"choropleth\",\"colorbar\":{\"outlinewidth\":0,\"ticks\":\"\"}}],\"histogram2d\":[{\"type\":\"histogram2d\",\"colorbar\":{\"outlinewidth\":0,\"ticks\":\"\"},\"colorscale\":[[0.0,\"#0d0887\"],[0.1111111111111111,\"#46039f\"],[0.2222222222222222,\"#7201a8\"],[0.3333333333333333,\"#9c179e\"],[0.4444444444444444,\"#bd3786\"],[0.5555555555555556,\"#d8576b\"],[0.6666666666666666,\"#ed7953\"],[0.7777777777777778,\"#fb9f3a\"],[0.8888888888888888,\"#fdca26\"],[1.0,\"#f0f921\"]]}],\"heatmap\":[{\"type\":\"heatmap\",\"colorbar\":{\"outlinewidth\":0,\"ticks\":\"\"},\"colorscale\":[[0.0,\"#0d0887\"],[0.1111111111111111,\"#46039f\"],[0.2222222222222222,\"#7201a8\"],[0.3333333333333333,\"#9c179e\"],[0.4444444444444444,\"#bd3786\"],[0.5555555555555556,\"#d8576b\"],[0.6666666666666666,\"#ed7953\"],[0.7777777777777778,\"#fb9f3a\"],[0.8888888888888888,\"#fdca26\"],[1.0,\"#f0f921\"]]}],\"heatmapgl\":[{\"type\":\"heatmapgl\",\"colorbar\":{\"outlinewidth\":0,\"ticks\":\"\"},\"colorscale\":[[0.0,\"#0d0887\"],[0.1111111111111111,\"#46039f\"],[0.2222222222222222,\"#7201a8\"],[0.3333333333333333,\"#9c179e\"],[0.4444444444444444,\"#bd3786\"],[0.5555555555555556,\"#d8576b\"],[0.6666666666666666,\"#ed7953\"],[0.7777777777777778,\"#fb9f3a\"],[0.8888888888888888,\"#fdca26\"],[1.0,\"#f0f921\"]]}],\"contourcarpet\":[{\"type\":\"contourcarpet\",\"colorbar\":{\"outlinewidth\":0,\"ticks\":\"\"}}],\"contour\":[{\"type\":\"contour\",\"colorbar\":{\"outlinewidth\":0,\"ticks\":\"\"},\"colorscale\":[[0.0,\"#0d0887\"],[0.1111111111111111,\"#46039f\"],[0.2222222222222222,\"#7201a8\"],[0.3333333333333333,\"#9c179e\"],[0.4444444444444444,\"#bd3786\"],[0.5555555555555556,\"#d8576b\"],[0.6666666666666666,\"#ed7953\"],[0.7777777777777778,\"#fb9f3a\"],[0.8888888888888888,\"#fdca26\"],[1.0,\"#f0f921\"]]}],\"surface\":[{\"type\":\"surface\",\"colorbar\":{\"outlinewidth\":0,\"ticks\":\"\"},\"colorscale\":[[0.0,\"#0d0887\"],[0.1111111111111111,\"#46039f\"],[0.2222222222222222,\"#7201a8\"],[0.3333333333333333,\"#9c179e\"],[0.4444444444444444,\"#bd3786\"],[0.5555555555555556,\"#d8576b\"],[0.6666666666666666,\"#ed7953\"],[0.7777777777777778,\"#fb9f3a\"],[0.8888888888888888,\"#fdca26\"],[1.0,\"#f0f921\"]]}],\"mesh3d\":[{\"type\":\"mesh3d\",\"colorbar\":{\"outlinewidth\":0,\"ticks\":\"\"}}],\"scatter\":[{\"fillpattern\":{\"fillmode\":\"overlay\",\"size\":10,\"solidity\":0.2},\"type\":\"scatter\"}],\"parcoords\":[{\"type\":\"parcoords\",\"line\":{\"colorbar\":{\"outlinewidth\":0,\"ticks\":\"\"}}}],\"scatterpolargl\":[{\"type\":\"scatterpolargl\",\"marker\":{\"colorbar\":{\"outlinewidth\":0,\"ticks\":\"\"}}}],\"bar\":[{\"error_x\":{\"color\":\"#2a3f5f\"},\"error_y\":{\"color\":\"#2a3f5f\"},\"marker\":{\"line\":{\"color\":\"#E5ECF6\",\"width\":0.5},\"pattern\":{\"fillmode\":\"overlay\",\"size\":10,\"solidity\":0.2}},\"type\":\"bar\"}],\"scattergeo\":[{\"type\":\"scattergeo\",\"marker\":{\"colorbar\":{\"outlinewidth\":0,\"ticks\":\"\"}}}],\"scatterpolar\":[{\"type\":\"scatterpolar\",\"marker\":{\"colorbar\":{\"outlinewidth\":0,\"ticks\":\"\"}}}],\"histogram\":[{\"marker\":{\"pattern\":{\"fillmode\":\"overlay\",\"size\":10,\"solidity\":0.2}},\"type\":\"histogram\"}],\"scattergl\":[{\"type\":\"scattergl\",\"marker\":{\"colorbar\":{\"outlinewidth\":0,\"ticks\":\"\"}}}],\"scatter3d\":[{\"type\":\"scatter3d\",\"line\":{\"colorbar\":{\"outlinewidth\":0,\"ticks\":\"\"}},\"marker\":{\"colorbar\":{\"outlinewidth\":0,\"ticks\":\"\"}}}],\"scattermapbox\":[{\"type\":\"scattermapbox\",\"marker\":{\"colorbar\":{\"outlinewidth\":0,\"ticks\":\"\"}}}],\"scatterternary\":[{\"type\":\"scatterternary\",\"marker\":{\"colorbar\":{\"outlinewidth\":0,\"ticks\":\"\"}}}],\"scattercarpet\":[{\"type\":\"scattercarpet\",\"marker\":{\"colorbar\":{\"outlinewidth\":0,\"ticks\":\"\"}}}],\"carpet\":[{\"aaxis\":{\"endlinecolor\":\"#2a3f5f\",\"gridcolor\":\"white\",\"linecolor\":\"white\",\"minorgridcolor\":\"white\",\"startlinecolor\":\"#2a3f5f\"},\"baxis\":{\"endlinecolor\":\"#2a3f5f\",\"gridcolor\":\"white\",\"linecolor\":\"white\",\"minorgridcolor\":\"white\",\"startlinecolor\":\"#2a3f5f\"},\"type\":\"carpet\"}],\"table\":[{\"cells\":{\"fill\":{\"color\":\"#EBF0F8\"},\"line\":{\"color\":\"white\"}},\"header\":{\"fill\":{\"color\":\"#C8D4E3\"},\"line\":{\"color\":\"white\"}},\"type\":\"table\"}],\"barpolar\":[{\"marker\":{\"line\":{\"color\":\"#E5ECF6\",\"width\":0.5},\"pattern\":{\"fillmode\":\"overlay\",\"size\":10,\"solidity\":0.2}},\"type\":\"barpolar\"}],\"pie\":[{\"automargin\":true,\"type\":\"pie\"}]},\"layout\":{\"autotypenumbers\":\"strict\",\"colorway\":[\"#636efa\",\"#EF553B\",\"#00cc96\",\"#ab63fa\",\"#FFA15A\",\"#19d3f3\",\"#FF6692\",\"#B6E880\",\"#FF97FF\",\"#FECB52\"],\"font\":{\"color\":\"#2a3f5f\"},\"hovermode\":\"closest\",\"hoverlabel\":{\"align\":\"left\"},\"paper_bgcolor\":\"white\",\"plot_bgcolor\":\"#E5ECF6\",\"polar\":{\"bgcolor\":\"#E5ECF6\",\"angularaxis\":{\"gridcolor\":\"white\",\"linecolor\":\"white\",\"ticks\":\"\"},\"radialaxis\":{\"gridcolor\":\"white\",\"linecolor\":\"white\",\"ticks\":\"\"}},\"ternary\":{\"bgcolor\":\"#E5ECF6\",\"aaxis\":{\"gridcolor\":\"white\",\"linecolor\":\"white\",\"ticks\":\"\"},\"baxis\":{\"gridcolor\":\"white\",\"linecolor\":\"white\",\"ticks\":\"\"},\"caxis\":{\"gridcolor\":\"white\",\"linecolor\":\"white\",\"ticks\":\"\"}},\"coloraxis\":{\"colorbar\":{\"outlinewidth\":0,\"ticks\":\"\"}},\"colorscale\":{\"sequential\":[[0.0,\"#0d0887\"],[0.1111111111111111,\"#46039f\"],[0.2222222222222222,\"#7201a8\"],[0.3333333333333333,\"#9c179e\"],[0.4444444444444444,\"#bd3786\"],[0.5555555555555556,\"#d8576b\"],[0.6666666666666666,\"#ed7953\"],[0.7777777777777778,\"#fb9f3a\"],[0.8888888888888888,\"#fdca26\"],[1.0,\"#f0f921\"]],\"sequentialminus\":[[0.0,\"#0d0887\"],[0.1111111111111111,\"#46039f\"],[0.2222222222222222,\"#7201a8\"],[0.3333333333333333,\"#9c179e\"],[0.4444444444444444,\"#bd3786\"],[0.5555555555555556,\"#d8576b\"],[0.6666666666666666,\"#ed7953\"],[0.7777777777777778,\"#fb9f3a\"],[0.8888888888888888,\"#fdca26\"],[1.0,\"#f0f921\"]],\"diverging\":[[0,\"#8e0152\"],[0.1,\"#c51b7d\"],[0.2,\"#de77ae\"],[0.3,\"#f1b6da\"],[0.4,\"#fde0ef\"],[0.5,\"#f7f7f7\"],[0.6,\"#e6f5d0\"],[0.7,\"#b8e186\"],[0.8,\"#7fbc41\"],[0.9,\"#4d9221\"],[1,\"#276419\"]]},\"xaxis\":{\"gridcolor\":\"white\",\"linecolor\":\"white\",\"ticks\":\"\",\"title\":{\"standoff\":15},\"zerolinecolor\":\"white\",\"automargin\":true,\"zerolinewidth\":2},\"yaxis\":{\"gridcolor\":\"white\",\"linecolor\":\"white\",\"ticks\":\"\",\"title\":{\"standoff\":15},\"zerolinecolor\":\"white\",\"automargin\":true,\"zerolinewidth\":2},\"scene\":{\"xaxis\":{\"backgroundcolor\":\"#E5ECF6\",\"gridcolor\":\"white\",\"linecolor\":\"white\",\"showbackground\":true,\"ticks\":\"\",\"zerolinecolor\":\"white\",\"gridwidth\":2},\"yaxis\":{\"backgroundcolor\":\"#E5ECF6\",\"gridcolor\":\"white\",\"linecolor\":\"white\",\"showbackground\":true,\"ticks\":\"\",\"zerolinecolor\":\"white\",\"gridwidth\":2},\"zaxis\":{\"backgroundcolor\":\"#E5ECF6\",\"gridcolor\":\"white\",\"linecolor\":\"white\",\"showbackground\":true,\"ticks\":\"\",\"zerolinecolor\":\"white\",\"gridwidth\":2}},\"shapedefaults\":{\"line\":{\"color\":\"#2a3f5f\"}},\"annotationdefaults\":{\"arrowcolor\":\"#2a3f5f\",\"arrowhead\":0,\"arrowwidth\":1},\"geo\":{\"bgcolor\":\"white\",\"landcolor\":\"#E5ECF6\",\"subunitcolor\":\"white\",\"showland\":true,\"showlakes\":true,\"lakecolor\":\"white\"},\"title\":{\"x\":0.05},\"mapbox\":{\"style\":\"light\"}}},\"xaxis\":{\"anchor\":\"y\",\"domain\":[0.0,1.0],\"categoryorder\":\"array\",\"categoryarray\":[\"Cluster -1\",\"Cluster 0\",\"Cluster 1\",\"Cluster 2\",\"Cluster 3\"],\"title\":{\"text\":\"Cluster\"}},\"yaxis\":{\"anchor\":\"x\",\"domain\":[0.0,0.7326],\"title\":{\"text\":\"count\"}},\"xaxis2\":{\"anchor\":\"y2\",\"domain\":[0.0,1.0],\"matches\":\"x\",\"showticklabels\":false,\"showgrid\":true},\"yaxis2\":{\"anchor\":\"x2\",\"domain\":[0.7426,1.0],\"matches\":\"y2\",\"showticklabels\":false,\"showline\":false,\"ticks\":\"\",\"showgrid\":false},\"legend\":{\"title\":{\"text\":\"Cluster\"},\"tracegroupgap\":0},\"margin\":{\"t\":60},\"barmode\":\"relative\",\"height\":600},                        {\"responsive\": true}                    ).then(function(){\n",
              "                            \n",
              "var gd = document.getElementById('4da61aaa-8916-4d01-a468-b7ae86808ab9');\n",
              "var x = new MutationObserver(function (mutations, observer) {{\n",
              "        var display = window.getComputedStyle(gd).display;\n",
              "        if (!display || display === 'none') {{\n",
              "            console.log([gd, 'removed!']);\n",
              "            Plotly.purge(gd);\n",
              "            observer.disconnect();\n",
              "        }}\n",
              "}});\n",
              "\n",
              "// Listen for the removal of the full notebook cells\n",
              "var notebookContainer = gd.closest('#notebook-container');\n",
              "if (notebookContainer) {{\n",
              "    x.observe(notebookContainer, {childList: true});\n",
              "}}\n",
              "\n",
              "// Listen for the clearing of the current output cell\n",
              "var outputEl = gd.closest('.output');\n",
              "if (outputEl) {{\n",
              "    x.observe(outputEl, {childList: true});\n",
              "}}\n",
              "\n",
              "                        })                };                            </script>        </div>\n",
              "</body>\n",
              "</html>"
            ]
          },
          "metadata": {}
        }
      ]
    },
    {
      "cell_type": "code",
      "source": [
        "# Extract outliers\n",
        "outliers = dbscan_results[dbscan_results['Cluster'] == -1]"
      ],
      "metadata": {
        "id": "HLbC2-WR4Ynb"
      },
      "execution_count": 17,
      "outputs": []
    },
    {
      "cell_type": "code",
      "source": [
        "import matplotlib.pyplot as plt\n",
        "\n",
        "# Convert cluster labels to a numeric format\n",
        "# 'Cluster -1' for noise points will be handled separately\n",
        "cluster_labels = dbscan_results['Cluster'].astype('category').cat.codes\n",
        "\n",
        "# Now use these numeric labels for coloring\n",
        "plt.scatter(data['Income'], data['Age'], c=cluster_labels, cmap='viridis')\n",
        "plt.title('DBSCAN Clustering')\n",
        "plt.xlabel('Income')\n",
        "plt.ylabel('Age')\n",
        "\n",
        "# Optionally, add a colorbar to understand which color corresponds to which cluster\n",
        "plt.colorbar(label='Cluster Label')\n",
        "\n",
        "plt.show()"
      ],
      "metadata": {
        "colab": {
          "base_uri": "https://localhost:8080/",
          "height": 524
        },
        "id": "GSojXhXd4_18",
        "outputId": "148e04d1-3437-4837-fe53-10047c579eff"
      },
      "execution_count": 24,
      "outputs": [
        {
          "output_type": "display_data",
          "data": {
            "text/plain": [
              "<Figure size 800x550 with 2 Axes>"
            ],
            "image/png": "[encoded data removed]"
          },
          "metadata": {}
        }
      ]
    },
    {
      "cell_type": "code",
      "source": [],
      "metadata": {
        "id": "KJ7JYVuD5BRt"
      },
      "execution_count": null,
      "outputs": []
    }
  ]
}